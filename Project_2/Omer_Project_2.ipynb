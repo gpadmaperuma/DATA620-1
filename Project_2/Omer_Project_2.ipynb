{
 "cells": [
  {
   "cell_type": "markdown",
   "id": "twelve-breathing",
   "metadata": {},
   "source": [
    "# Project 2"
   ]
  },
  {
   "cell_type": "markdown",
   "id": "purple-acoustic",
   "metadata": {},
   "source": [
    "### Author : Omer Ozeren"
   ]
  },
  {
   "cell_type": "markdown",
   "id": "characteristic-teens",
   "metadata": {},
   "source": [
    "## Introduction "
   ]
  },
  {
   "cell_type": "code",
   "execution_count": null,
   "id": "arbitrary-pursuit",
   "metadata": {},
   "outputs": [],
   "source": [
    "In this assignment, we are asked to identify a large 2-node network dataset. "
   ]
  }
 ],
 "metadata": {
  "kernelspec": {
   "display_name": "Python 3",
   "language": "python",
   "name": "python3"
  },
  "language_info": {
   "codemirror_mode": {
    "name": "ipython",
    "version": 3
   },
   "file_extension": ".py",
   "mimetype": "text/x-python",
   "name": "python",
   "nbconvert_exporter": "python",
   "pygments_lexer": "ipython3",
   "version": "3.7.9"
  }
 },
 "nbformat": 4,
 "nbformat_minor": 5
}
