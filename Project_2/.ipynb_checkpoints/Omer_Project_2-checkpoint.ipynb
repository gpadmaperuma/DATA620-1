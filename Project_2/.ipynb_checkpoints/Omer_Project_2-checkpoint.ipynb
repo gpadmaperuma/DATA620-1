{
 "cells": [
  {
   "cell_type": "markdown",
   "id": "twelve-breathing",
   "metadata": {},
   "source": [
    "# Project 2"
   ]
  },
  {
   "cell_type": "markdown",
   "id": "purple-acoustic",
   "metadata": {},
   "source": [
    "### Author : Omer Ozeren"
   ]
  },
  {
   "cell_type": "markdown",
   "id": "characteristic-teens",
   "metadata": {},
   "source": [
    "## Introduction "
   ]
  },
  {
   "cell_type": "markdown",
   "id": "copyrighted-prompt",
   "metadata": {},
   "source": [
    "In this assignment, we are asked to \n",
    "\n",
    "1- Identify a large 2-node network dataset—you can start with a dataset in a repository.  Your data should meet the criteria that it consists of ties between and not within two (or more) distinct groups.\n",
    "\n",
    "2- Reduce the size of the network using a method such as the island method described in chapter 4 of social network analysis.\n",
    "\n",
    "3-What can you infer about each of the distinct groups?\n",
    "\n",
    "**I chose to use a dataset which includes Scientific collaborations.Please click [here](https://toreopsahl.com/datasets/) to review futher information about dataset.**"
   ]
  },
  {
   "cell_type": "markdown",
   "id": "administrative-battlefield",
   "metadata": {},
   "source": [
    "### Load Libraries"
   ]
  },
  {
   "cell_type": "code",
   "execution_count": 3,
   "id": "alternative-whole",
   "metadata": {},
   "outputs": [],
   "source": [
    "import pandas as pd\n",
    "import numpy as np\n",
    "import networkx as nx\n",
    "import matplotlib.pyplot as plt\n",
    "import math\n",
    "from networkx.algorithms import bipartite as bi\n",
    "from collections import Counter\n",
    "import warnings\n",
    "warnings.filterwarnings('ignore')"
   ]
  },
  {
   "cell_type": "markdown",
   "id": "ecological-plaza",
   "metadata": {},
   "source": [
    "### Reading in the data"
   ]
  },
  {
   "cell_type": "code",
   "execution_count": 4,
   "id": "valid-syndication",
   "metadata": {},
   "outputs": [
    {
     "data": {
      "text/html": [
       "<div>\n",
       "<style scoped>\n",
       "    .dataframe tbody tr th:only-of-type {\n",
       "        vertical-align: middle;\n",
       "    }\n",
       "\n",
       "    .dataframe tbody tr th {\n",
       "        vertical-align: top;\n",
       "    }\n",
       "\n",
       "    .dataframe thead th {\n",
       "        text-align: right;\n",
       "    }\n",
       "</style>\n",
       "<table border=\"1\" class=\"dataframe\">\n",
       "  <thead>\n",
       "    <tr style=\"text-align: right;\">\n",
       "      <th></th>\n",
       "      <th>author</th>\n",
       "      <th>research</th>\n",
       "      <th>weight</th>\n",
       "    </tr>\n",
       "  </thead>\n",
       "  <tbody>\n",
       "    <tr>\n",
       "      <th>0</th>\n",
       "      <td>1</td>\n",
       "      <td>190</td>\n",
       "      <td>7</td>\n",
       "    </tr>\n",
       "    <tr>\n",
       "      <th>1</th>\n",
       "      <td>1</td>\n",
       "      <td>201</td>\n",
       "      <td>3</td>\n",
       "    </tr>\n",
       "    <tr>\n",
       "      <th>2</th>\n",
       "      <td>1</td>\n",
       "      <td>562</td>\n",
       "      <td>2</td>\n",
       "    </tr>\n",
       "    <tr>\n",
       "      <th>3</th>\n",
       "      <td>1</td>\n",
       "      <td>1075</td>\n",
       "      <td>3</td>\n",
       "    </tr>\n",
       "    <tr>\n",
       "      <th>4</th>\n",
       "      <td>1</td>\n",
       "      <td>2281</td>\n",
       "      <td>1</td>\n",
       "    </tr>\n",
       "  </tbody>\n",
       "</table>\n",
       "</div>"
      ],
      "text/plain": [
       "   author  research  weight\n",
       "0       1       190       7\n",
       "1       1       201       3\n",
       "2       1       562       2\n",
       "3       1      1075       3\n",
       "4       1      2281       1"
      ]
     },
     "execution_count": 4,
     "metadata": {},
     "output_type": "execute_result"
    }
   ],
   "source": [
    "raw_data = pd.read_csv('http://opsahl.co.uk/tnet/datasets/Newman-Cond_mat_95-99-co_occurrence.txt', \n",
    "                       delim_whitespace=True, \n",
    "                       header=None, \n",
    "                       names=['author', 'research', 'weight'])\n",
    "raw_data.head()"
   ]
  },
  {
   "cell_type": "markdown",
   "id": "agreed-possibility",
   "metadata": {},
   "source": [
    "### Dataset"
   ]
  },
  {
   "cell_type": "markdown",
   "id": "arctic-collar",
   "metadata": {},
   "source": [
    "This is a bipartite network of research and the author that have involved in reasearch."
   ]
  },
  {
   "cell_type": "code",
   "execution_count": 5,
   "id": "individual-sunrise",
   "metadata": {},
   "outputs": [
    {
     "name": "stdout",
     "output_type": "stream",
     "text": [
      "Name: \n",
      "Type: Graph\n",
      "Number of nodes: 16264\n",
      "Number of edges: 47594\n",
      "Average degree:   5.8527\n"
     ]
    }
   ],
   "source": [
    "G = nx.from_pandas_edgelist(raw_data,  source='author', target='research', edge_attr='weight', create_using=None)\n",
    "print(nx.info(G))"
   ]
  },
  {
   "cell_type": "markdown",
   "id": "vertical-command",
   "metadata": {},
   "source": [
    "#### We have 16,264 nodes with 47,594 edges"
   ]
  },
  {
   "cell_type": "markdown",
   "id": "human-temple",
   "metadata": {},
   "source": [
    "### Distribution of Research by Author"
   ]
  },
  {
   "cell_type": "code",
   "execution_count": 11,
   "id": "mathematical-trademark",
   "metadata": {},
   "outputs": [
    {
     "data": {
      "image/png": "[encoded data removed]",
      "text/plain": [
       "<Figure size 720x360 with 1 Axes>"
      ]
     },
     "metadata": {
      "needs_background": "light"
     },
     "output_type": "display_data"
    }
   ],
   "source": [
    "research_count = pd.DataFrame({'Research_Count' : raw_data.groupby(['author']).size()}).reset_index()\n",
    "research_count.iloc[:,1].plot.hist(alpha = 0.5, bins = 30)\n",
    "plt.title('Authors by Research')\n",
    "plt.xlabel('Research')\n",
    "plt.ylabel('Authors ')\n",
    "plt.grid(True)\n",
    "plt.rcParams['figure.figsize'] = (5, 5)"
   ]
  },
  {
   "cell_type": "markdown",
   "id": "higher-characteristic",
   "metadata": {},
   "source": [
    "### Data Preparation"
   ]
  },
  {
   "cell_type": "markdown",
   "id": "damaged-permission",
   "metadata": {},
   "source": [
    "I will reduce the size of the network by island method. The island method can split up the whole network or the giant component into smaller components,which provides a simple and efficient means to investigate features of sub- networks or group behaviors.The Weights are the number of shared neighbors for an edge.**The weights in my data presents the sum of joint papers that authors are contributed.** First,I will look at the distribution of weights, Second I'll isolate the biggest and smallest component of the bipartite graph, then I'll apply the island method to put authors and thresholds in dataframe. I will reduce the size of the network based on  (weight)."
   ]
  },
  {
   "cell_type": "markdown",
   "id": "recognized-egyptian",
   "metadata": {},
   "source": [
    "#### Let's look at the distribution of the weights to find out if there is a way to split the data based on weights."
   ]
  },
  {
   "cell_type": "code",
   "execution_count": 23,
   "id": "ordered-criticism",
   "metadata": {},
   "outputs": [
    {
     "data": {
      "image/png": "[encoded data removed]",
      "text/plain": [
       "<Figure size 1080x360 with 1 Axes>"
      ]
     },
     "metadata": {
      "needs_background": "light"
     },
     "output_type": "display_data"
    }
   ],
   "source": [
    "plt.hist(raw_data['weight'])\n",
    "# Add title and axis names\n",
    "plt.title('Distribution of Weights')\n",
    "plt.xlabel('Weights')\n",
    "plt.ylabel('Counts')\n",
    "plt.grid(True)\n",
    "plt.rcParams['figure.figsize'] = (15, 5)"
   ]
  },
  {
   "cell_type": "markdown",
   "id": "naughty-oakland",
   "metadata": {},
   "source": [
    "### Trim Edges and Island Method function from the book "
   ]
  },
  {
   "cell_type": "markdown",
   "id": "graphic-traffic",
   "metadata": {},
   "source": [
    "Let's create function for island method and trim edges then I'll isolate the biggest and smallest component of the bipartite graph.The code 'trim_edges\" and \"island_method\" is taken from Chapter 4 from Social Network Analysis book .**Please click [here](https://www.oreilly.com/library/view/social-network-analysis/9781449311377/ch04.html) to see the chapter 4.**"
   ]
  },
  {
   "cell_type": "code",
   "execution_count": 24,
   "id": "complex-firewall",
   "metadata": {},
   "outputs": [],
   "source": [
    "def trim_edges(g, weight = 1):\n",
    "    edges = []\n",
    "    g2 = nx.Graph()\n",
    "    for f, to, edata in g.edges(data = True):\n",
    "        if edata['weight'] > weight:\n",
    "            x = float(edata['weight'])\n",
    "            edges.append((f, to, x))\n",
    "    g2.add_weighted_edges_from(edges)\n",
    "    return g2\n",
    "\n",
    "def island_method(g, iterations = 5):\n",
    "    weights = [edata['weight'] for f, to, edata in g.edges(data = True)]\n",
    "    mn = int(min(weights))\n",
    "    mx = int(max(weights))\n",
    "    step = int((mx - mn) / iterations)\n",
    "    return [[threshold, trim_edges(g, threshold)] for threshold in range(mn, mx, step)]"
   ]
  },
  {
   "cell_type": "markdown",
   "id": "resident-scotland",
   "metadata": {},
   "source": [
    "### Bipartite Projection"
   ]
  },
  {
   "cell_type": "code",
   "execution_count": 25,
   "id": "hairy-patio",
   "metadata": {},
   "outputs": [
    {
     "name": "stdout",
     "output_type": "stream",
     "text": [
      "Name: \n",
      "Type: Graph\n",
      "Number of nodes: 16264\n",
      "Number of edges: 319798\n",
      "Average degree:  39.3259\n"
     ]
    }
   ],
   "source": [
    "author_graph = bi.weighted_projected_graph(G, raw_data.author, ratio = False)\n",
    "print(nx.info(author_graph))"
   ]
  },
  {
   "cell_type": "markdown",
   "id": "extraordinary-texas",
   "metadata": {},
   "source": [
    "**We have 16,264 nodes with 31,979 edges**"
   ]
  },
  {
   "cell_type": "code",
   "execution_count": 26,
   "id": "reflected-trouble",
   "metadata": {
    "scrolled": false
   },
   "outputs": [
    {
     "data": {
      "text/html": [
       "<div>\n",
       "<style scoped>\n",
       "    .dataframe tbody tr th:only-of-type {\n",
       "        vertical-align: middle;\n",
       "    }\n",
       "\n",
       "    .dataframe tbody tr th {\n",
       "        vertical-align: top;\n",
       "    }\n",
       "\n",
       "    .dataframe thead th {\n",
       "        text-align: right;\n",
       "    }\n",
       "</style>\n",
       "<table border=\"1\" class=\"dataframe\">\n",
       "  <thead>\n",
       "    <tr style=\"text-align: right;\">\n",
       "      <th></th>\n",
       "      <th>Thresholds</th>\n",
       "      <th>Connection between Authors</th>\n",
       "    </tr>\n",
       "  </thead>\n",
       "  <tbody>\n",
       "    <tr>\n",
       "      <th>0</th>\n",
       "      <td>1</td>\n",
       "      <td>11685</td>\n",
       "    </tr>\n",
       "    <tr>\n",
       "      <th>1</th>\n",
       "      <td>17</td>\n",
       "      <td>265</td>\n",
       "    </tr>\n",
       "    <tr>\n",
       "      <th>2</th>\n",
       "      <td>33</td>\n",
       "      <td>27</td>\n",
       "    </tr>\n",
       "    <tr>\n",
       "      <th>3</th>\n",
       "      <td>49</td>\n",
       "      <td>8</td>\n",
       "    </tr>\n",
       "    <tr>\n",
       "      <th>4</th>\n",
       "      <td>65</td>\n",
       "      <td>4</td>\n",
       "    </tr>\n",
       "    <tr>\n",
       "      <th>5</th>\n",
       "      <td>81</td>\n",
       "      <td>2</td>\n",
       "    </tr>\n",
       "  </tbody>\n",
       "</table>\n",
       "</div>"
      ],
      "text/plain": [
       "   Thresholds  Connection between Authors\n",
       "0           1                       11685\n",
       "1          17                         265\n",
       "2          33                          27\n",
       "3          49                           8\n",
       "4          65                           4\n",
       "5          81                           2"
      ]
     },
     "execution_count": 26,
     "metadata": {},
     "output_type": "execute_result"
    }
   ],
   "source": [
    "islands = island_method(author_graph)\n",
    "thresholds =list()\n",
    "Authors =list()\n",
    "for island in islands:\n",
    "    thresholds.append(island[0])\n",
    "    Authors.append(len(island[1]))\n",
    "_df = {'Thresholds':thresholds,'Connection between Authors':Authors}    \n",
    "df = pd.DataFrame(_df)\n",
    "df"
   ]
  },
  {
   "cell_type": "markdown",
   "id": "fancy-translator",
   "metadata": {},
   "source": [
    "### What can we infer about each of the distinct groups? "
   ]
  },
  {
   "cell_type": "markdown",
   "id": "angry-tract",
   "metadata": {},
   "source": [
    "#### Centrality\n",
    "\n",
    "I'am going to evaluate the important nodes by calculation degree and degree of centrality.The **degree of a node** is the number of neighbors that it has. The **degree centrality** is the number of neighbors divided by all possible neighbors that it could have."
   ]
  },
  {
   "cell_type": "code",
   "execution_count": 27,
   "id": "italian-place",
   "metadata": {
    "scrolled": true
   },
   "outputs": [
    {
     "data": {
      "text/html": [
       "<div>\n",
       "<style scoped>\n",
       "    .dataframe tbody tr th:only-of-type {\n",
       "        vertical-align: middle;\n",
       "    }\n",
       "\n",
       "    .dataframe tbody tr th {\n",
       "        vertical-align: top;\n",
       "    }\n",
       "\n",
       "    .dataframe thead th {\n",
       "        text-align: right;\n",
       "    }\n",
       "</style>\n",
       "<table border=\"1\" class=\"dataframe\">\n",
       "  <thead>\n",
       "    <tr style=\"text-align: right;\">\n",
       "      <th></th>\n",
       "      <th>Degree</th>\n",
       "      <th>Degree_Centrality</th>\n",
       "    </tr>\n",
       "  </thead>\n",
       "  <tbody>\n",
       "    <tr>\n",
       "      <th>4034</th>\n",
       "      <td>719</td>\n",
       "      <td>0.044211</td>\n",
       "    </tr>\n",
       "    <tr>\n",
       "      <th>4474</th>\n",
       "      <td>694</td>\n",
       "      <td>0.042674</td>\n",
       "    </tr>\n",
       "    <tr>\n",
       "      <th>7315</th>\n",
       "      <td>670</td>\n",
       "      <td>0.041198</td>\n",
       "    </tr>\n",
       "    <tr>\n",
       "      <th>4673</th>\n",
       "      <td>615</td>\n",
       "      <td>0.037816</td>\n",
       "    </tr>\n",
       "    <tr>\n",
       "      <th>5489</th>\n",
       "      <td>613</td>\n",
       "      <td>0.037693</td>\n",
       "    </tr>\n",
       "    <tr>\n",
       "      <th>5199</th>\n",
       "      <td>608</td>\n",
       "      <td>0.037385</td>\n",
       "    </tr>\n",
       "    <tr>\n",
       "      <th>7314</th>\n",
       "      <td>605</td>\n",
       "      <td>0.037201</td>\n",
       "    </tr>\n",
       "    <tr>\n",
       "      <th>406</th>\n",
       "      <td>591</td>\n",
       "      <td>0.036340</td>\n",
       "    </tr>\n",
       "    <tr>\n",
       "      <th>36</th>\n",
       "      <td>590</td>\n",
       "      <td>0.036279</td>\n",
       "    </tr>\n",
       "    <tr>\n",
       "      <th>5196</th>\n",
       "      <td>590</td>\n",
       "      <td>0.036279</td>\n",
       "    </tr>\n",
       "  </tbody>\n",
       "</table>\n",
       "</div>"
      ],
      "text/plain": [
       "      Degree  Degree_Centrality\n",
       "4034     719           0.044211\n",
       "4474     694           0.042674\n",
       "7315     670           0.041198\n",
       "4673     615           0.037816\n",
       "5489     613           0.037693\n",
       "5199     608           0.037385\n",
       "7314     605           0.037201\n",
       "406      591           0.036340\n",
       "36       590           0.036279\n",
       "5196     590           0.036279"
      ]
     },
     "execution_count": 27,
     "metadata": {},
     "output_type": "execute_result"
    }
   ],
   "source": [
    "df_degree = pd.DataFrame.from_dict(dict(nx.degree(author_graph)), \n",
    "                                orient='index', \n",
    "                                columns=['Degree'])\n",
    "df_degree_centrality = pd.DataFrame.from_dict(nx.degree_centrality(author_graph), \n",
    "                                           orient='index', \n",
    "                                           columns=['Degree_Centrality'])\n",
    "\n",
    "dfs = [df_degree,df_degree_centrality]\n",
    "combined = pd.concat(dfs, axis=1)\n",
    "combined.sort_values(by=['Degree', 'Degree_Centrality'], ascending=False).head(10)"
   ]
  },
  {
   "cell_type": "markdown",
   "id": "developmental-rolling",
   "metadata": {},
   "source": [
    "As I see from table ,within the authors that has the highest sum of contribution to researches the authors **{4034,4474,7315,4673}** has the highest degree and degree centrality.Next, I will find out these highest degree valued authors strongest relationships."
   ]
  },
  {
   "cell_type": "markdown",
   "id": "democratic-numbers",
   "metadata": {},
   "source": [
    "#### Degree centrality distribution"
   ]
  },
  {
   "cell_type": "code",
   "execution_count": 28,
   "id": "greatest-break",
   "metadata": {
    "scrolled": false
   },
   "outputs": [
    {
     "data": {
      "image/png": "[encoded data removed]",
      "text/plain": [
       "<Figure size 720x360 with 1 Axes>"
      ]
     },
     "metadata": {
      "needs_background": "light"
     },
     "output_type": "display_data"
    },
    {
     "data": {
      "image/png": "[encoded data removed]",
      "text/plain": [
       "<Figure size 720x360 with 1 Axes>"
      ]
     },
     "metadata": {
      "needs_background": "light"
     },
     "output_type": "display_data"
    },
    {
     "data": {
      "image/png": "[encoded data removed]",
      "text/plain": [
       "<Figure size 720x360 with 1 Axes>"
      ]
     },
     "metadata": {
      "needs_background": "light"
     },
     "output_type": "display_data"
    }
   ],
   "source": [
    "# Import matplotlib.pyplot\n",
    "import matplotlib.pyplot as plt\n",
    " \n",
    "# Compute the degree centrality of the Twitter network: deg_cent\n",
    "deg_cent = dict(nx.degree(author_graph))\n",
    "\n",
    "# Compute the degree of every node: degrees\n",
    "degrees = [len(list(author_graph.neighbors(n))) for n in author_graph.nodes()]\n",
    " \n",
    "# Plot a histogram of the degree centrality distribution of the graph.\n",
    "plt.figure(figsize = (10, 5))\n",
    "plt.hist(list(deg_cent.values()))\n",
    "plt.xlabel('centrality')\n",
    "plt.ylabel('count')\n",
    "plt.show()\n",
    " \n",
    "# Plot a histogram of the degree distribution of the graph\n",
    "plt.figure(figsize = (10, 5))\n",
    "plt.hist(degrees)\n",
    "plt.xlabel('neighbors')\n",
    "plt.ylabel('count')\n",
    "plt.show()\n",
    " \n",
    "# Plot a scatter plot of the centrality distribution and the degree distribution\n",
    "plt.figure(figsize = (10, 5))\n",
    "plt.scatter(degrees, list(deg_cent.values()))\n",
    "plt.xlabel('degrees')\n",
    "plt.ylabel('centrality')\n",
    "plt.show()"
   ]
  },
  {
   "cell_type": "markdown",
   "id": "dental-score",
   "metadata": {},
   "source": [
    "#### Graph with Weight treshhold of 33."
   ]
  },
  {
   "cell_type": "code",
   "execution_count": 29,
   "id": "eastern-raleigh",
   "metadata": {},
   "outputs": [
    {
     "data": {
      "image/png": "[encoded data removed]",
      "text/plain": [
       "<Figure size 1008x720 with 1 Axes>"
      ]
     },
     "metadata": {},
     "output_type": "display_data"
    }
   ],
   "source": [
    "plt.figure(figsize = (14, 10))\n",
    "\n",
    "# trim edges\n",
    "island_plot = trim_edges(author_graph, 33)\n",
    "weights = [math.log(data_['weight']) for from_, t0_, data_ in island_plot.edges(data=True)]\n",
    "\n",
    "# draw threshold \n",
    "sp = nx.random_layout(island_plot)\n",
    "nx.draw_networkx(island_plot, sp, width = weights, edge_color = weights, node_size = 200,\n",
    "                node_shape = None, node_color = \"Red\", alpha = 0.8)\n",
    "plt.axis('off')\n",
    "plt.title(\"Authors\")\n",
    "plt.show()"
   ]
  },
  {
   "cell_type": "markdown",
   "id": "occasional-biodiversity",
   "metadata": {},
   "source": [
    "#### Lets verify the grap abow by getting edge attributes"
   ]
  },
  {
   "cell_type": "code",
   "execution_count": 30,
   "id": "little-affiliation",
   "metadata": {},
   "outputs": [
    {
     "data": {
      "text/html": [
       "<div>\n",
       "<style scoped>\n",
       "    .dataframe tbody tr th:only-of-type {\n",
       "        vertical-align: middle;\n",
       "    }\n",
       "\n",
       "    .dataframe tbody tr th {\n",
       "        vertical-align: top;\n",
       "    }\n",
       "\n",
       "    .dataframe thead th {\n",
       "        text-align: right;\n",
       "    }\n",
       "</style>\n",
       "<table border=\"1\" class=\"dataframe\">\n",
       "  <thead>\n",
       "    <tr style=\"text-align: right;\">\n",
       "      <th></th>\n",
       "      <th>Weight</th>\n",
       "    </tr>\n",
       "  </thead>\n",
       "  <tbody>\n",
       "    <tr>\n",
       "      <th>(4474, 5489)</th>\n",
       "      <td>84</td>\n",
       "    </tr>\n",
       "    <tr>\n",
       "      <th>(7314, 7315)</th>\n",
       "      <td>81</td>\n",
       "    </tr>\n",
       "    <tr>\n",
       "      <th>(1529, 1530)</th>\n",
       "      <td>57</td>\n",
       "    </tr>\n",
       "    <tr>\n",
       "      <th>(4034, 4950)</th>\n",
       "      <td>53</td>\n",
       "    </tr>\n",
       "    <tr>\n",
       "      <th>(5488, 5489)</th>\n",
       "      <td>47</td>\n",
       "    </tr>\n",
       "    <tr>\n",
       "      <th>(5196, 5199)</th>\n",
       "      <td>47</td>\n",
       "    </tr>\n",
       "    <tr>\n",
       "      <th>(4474, 5488)</th>\n",
       "      <td>47</td>\n",
       "    </tr>\n",
       "    <tr>\n",
       "      <th>(1842, 1846)</th>\n",
       "      <td>40</td>\n",
       "    </tr>\n",
       "    <tr>\n",
       "      <th>(2907, 8619)</th>\n",
       "      <td>39</td>\n",
       "    </tr>\n",
       "    <tr>\n",
       "      <th>(7371, 9744)</th>\n",
       "      <td>37</td>\n",
       "    </tr>\n",
       "  </tbody>\n",
       "</table>\n",
       "</div>"
      ],
      "text/plain": [
       "              Weight\n",
       "(4474, 5489)      84\n",
       "(7314, 7315)      81\n",
       "(1529, 1530)      57\n",
       "(4034, 4950)      53\n",
       "(5488, 5489)      47\n",
       "(5196, 5199)      47\n",
       "(4474, 5488)      47\n",
       "(1842, 1846)      40\n",
       "(2907, 8619)      39\n",
       "(7371, 9744)      37"
      ]
     },
     "execution_count": 30,
     "metadata": {},
     "output_type": "execute_result"
    }
   ],
   "source": [
    "strong_relations = pd.DataFrame.from_dict(nx.get_edge_attributes(author_graph, 'weight'), orient='index', columns=['Weight']) \\\n",
    ".sort_values(by=['Weight'], ascending=False).head(10)\n",
    "strong_relations"
   ]
  },
  {
   "cell_type": "markdown",
   "id": "reliable-crash",
   "metadata": {},
   "source": [
    "The Light colors (green and yellow) indicates strong relationship between Authors.As We can see above graph,  author number **(4474, 5489), (7314, 7315)\t,(1530 and 1529), (4034, 4950), (5488, 5489)** has the strongest relationship out of all authors. As we can in the above graph, not many authors have strong relationships."
   ]
  },
  {
   "cell_type": "markdown",
   "id": "exciting-cyprus",
   "metadata": {},
   "source": [
    "### Subgraphs\n",
    "\n",
    "Here, I'am going to analyze a subset of nodes in a network.I will take graph object that is comprised of iterable of nodes that was passes in.Please click [here](https://datascience103579984.wordpress.com/2019/09/12/26-network-analysis-in-python-part-1-from-datacamp/) for futher information."
   ]
  },
  {
   "cell_type": "code",
   "execution_count": 36,
   "id": "horizontal-choir",
   "metadata": {},
   "outputs": [],
   "source": [
    "from itertools import combinations\n",
    "\n",
    "# Write a function that identifies all nodes in a triangle relationship with a given node.\n",
    "def nodes_in_triangle(G, n):\n",
    "    \"\"\"\n",
    "    Returns the nodes in a graph `G` that are involved in a triangle relationship with the node `n`.\n",
    "    \"\"\"\n",
    "    triangle_nodes = set([n])\n",
    "\n",
    "    # Iterate over all possible triangle relationship combinations\n",
    "    for n1, n2 in combinations(G.neighbors(n), 2):\n",
    "\n",
    "        # Check if n1 and n2 have an edge between them\n",
    "        if G.has_edge(n1, n2):\n",
    "\n",
    "            # Add n1 to triangle_nodes\n",
    "            triangle_nodes.add(n1)\n",
    "\n",
    "            # Add n2 to triangle_nodes\n",
    "            triangle_nodes.add(n2)\n",
    "\n",
    "    return triangle_nodes"
   ]
  },
  {
   "cell_type": "code",
   "execution_count": 32,
   "id": "conditional-ceiling",
   "metadata": {},
   "outputs": [],
   "source": [
    "def get_nodes_and_nbrs(G, nodes_of_interest):\n",
    "    \"\"\"\n",
    "    Returns a subgraph of the graph `G` with only the `nodes_of_interest` and their neighbors.\n",
    "    \"\"\"\n",
    "    nodes_to_draw = []\n",
    " \n",
    "    # Iterate over the nodes of interest\n",
    "    for n in nodes_of_interest:\n",
    " \n",
    "        # Append the nodes of interest to nodes_to_draw\n",
    "        nodes_to_draw.append(n)\n",
    " \n",
    "        # Iterate over all the neighbors of node n\n",
    "        for nbr in G.neighbors(n):\n",
    " \n",
    "            # Append the neighbors of n to nodes_to_draw\n",
    "            nodes_to_draw.append(nbr)\n",
    " \n",
    "    return G.subgraph(nodes_to_draw)"
   ]
  },
  {
   "cell_type": "code",
   "execution_count": null,
   "id": "elder-davis",
   "metadata": {},
   "outputs": [],
   "source": [
    "nodes_of_interest = nodes_in_triangle(author_graph, 4034)\n",
    "# Extract the subgraph with the nodes of interest: G_draw\n",
    "G_draw_1 = get_nodes_and_nbrs(author_graph, nodes_of_interest)\n",
    "#define the weight \n",
    "plt.figure(figsize=(20,10))\n",
    "#defining weights - reference Book Social Network Analysis page 104\n",
    "weight=[edata['weight'] for f,t,edata in G_draw_1.edges(data=True)]\n",
    "nx.draw(G_draw_1, width=weight, edge_color=weight, with_labels=True, font_size=10)\n",
    "plt.axis(\"off\")\n",
    "plt.show()"
   ]
  }
 ],
 "metadata": {
  "kernelspec": {
   "display_name": "Python 3",
   "language": "python",
   "name": "python3"
  },
  "language_info": {
   "codemirror_mode": {
    "name": "ipython",
    "version": 3
   },
   "file_extension": ".py",
   "mimetype": "text/x-python",
   "name": "python",
   "nbconvert_exporter": "python",
   "pygments_lexer": "ipython3",
   "version": "3.7.9"
  }
 },
 "nbformat": 4,
 "nbformat_minor": 5
}
