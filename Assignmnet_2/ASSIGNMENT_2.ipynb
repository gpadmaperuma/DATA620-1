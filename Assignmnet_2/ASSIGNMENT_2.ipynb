{
 "cells": [
  {
   "cell_type": "markdown",
   "id": "large-personal",
   "metadata": {},
   "source": [
    "# Assignment 2 "
   ]
  },
  {
   "cell_type": "markdown",
   "id": "demonstrated-favorite",
   "metadata": {},
   "source": [
    "#### Author: Omer Ozeren"
   ]
  },
  {
   "cell_type": "markdown",
   "id": "generous-tonight",
   "metadata": {},
   "source": [
    "### TOPIC :"
   ]
  },
  {
   "cell_type": "markdown",
   "id": "suited-attribute",
   "metadata": {},
   "source": [
    "This week's assignment is to:\n",
    "\n",
    "1-Load a graph database of your choosing from a text file or other source.  If you take a large network dataset from the web (such as from Stanford Large Network Dataset Collection), please feel free at this point to load just a small subset of the nodes and edges.\n",
    "\n",
    "2-Create basic analysis on the graph, including the graph’s diameter, and at least one other metric of your choosing.  You may either code the functions by hand (to build your intuition and insight), or use functions in an existing package. \n",
    "\n",
    "3-Use a visualization tool of your choice (Neo4j, Gephi, etc.) to display information.\n",
    "\n",
    "4-Please record a short video (~ 5 minutes), and submit a link to the video in advance of our meet-up."
   ]
  },
  {
   "cell_type": "markdown",
   "id": "saved-little",
   "metadata": {},
   "source": [
    "### IMPORT PACKAGES :"
   ]
  },
  {
   "cell_type": "code",
   "execution_count": 1,
   "id": "manufactured-concentration",
   "metadata": {},
   "outputs": [
    {
     "name": "stderr",
     "output_type": "stream",
     "text": [
      "\n",
      "Bad key \"text.kerning_factor\" on line 4 in\n",
      "/Users/omerozeren/opt/anaconda3/envs/sps620env/lib/python3.7/site-packages/matplotlib/mpl-data/stylelib/_classic_test_patch.mplstyle.\n",
      "You probably need to get an updated matplotlibrc file from\n",
      "http://github.com/matplotlib/matplotlib/blob/master/matplotlibrc.template\n",
      "or from the matplotlib source distribution\n"
     ]
    }
   ],
   "source": [
    "import pandas as pd\n",
    "import numpy as np\n",
    "import matplotlib.pyplot as plt\n",
    "import networkx as nx"
   ]
  },
  {
   "cell_type": "markdown",
   "id": "square-compression",
   "metadata": {},
   "source": [
    "## DATA :"
   ]
  },
  {
   "cell_type": "markdown",
   "id": "vanilla-benjamin",
   "metadata": {},
   "source": [
    "I have selected Web-Google Network Data set .Nodes represent web pages and directed edges represent hyperlinks between them. The data was released in 2002 by Google as a part of Google Programming Contest. The dataset can be found here: https://snap.stanford.edu/data/web-Google.html"
   ]
  },
  {
   "cell_type": "code",
   "execution_count": 2,
   "id": "downtown-sentence",
   "metadata": {},
   "outputs": [],
   "source": [
    "file_path = r'https://raw.githubusercontent.com/omerozeren/DATA620/main/Assignmnet_2/web-Google.txt'\n",
    "raw_data=pd.read_table(file_path, delim_whitespace=True, skiprows=4, names=['source', 'target'])\n",
    "raw_data = pd.DataFrame(raw_data)"
   ]
  },
  {
   "cell_type": "markdown",
   "id": "plain-constitutional",
   "metadata": {},
   "source": [
    "### Data Describtions:"
   ]
  },
  {
   "cell_type": "code",
   "execution_count": 3,
   "id": "residential-generic",
   "metadata": {},
   "outputs": [
    {
     "data": {
      "text/plain": [
       "(5105039, 2)"
      ]
     },
     "execution_count": 3,
     "metadata": {},
     "output_type": "execute_result"
    }
   ],
   "source": [
    "raw_data.shape"
   ]
  },
  {
   "cell_type": "markdown",
   "id": "choice-dream",
   "metadata": {},
   "source": [
    "**please feel free at this point to load just a small subset of the nodes and edges.**:"
   ]
  },
  {
   "cell_type": "code",
   "execution_count": 4,
   "id": "narrative-difficulty",
   "metadata": {},
   "outputs": [],
   "source": [
    "df=raw_data[300:400]"
   ]
  },
  {
   "cell_type": "code",
   "execution_count": 5,
   "id": "fallen-grenada",
   "metadata": {},
   "outputs": [
    {
     "data": {
      "text/html": [
       "<div>\n",
       "<style scoped>\n",
       "    .dataframe tbody tr th:only-of-type {\n",
       "        vertical-align: middle;\n",
       "    }\n",
       "\n",
       "    .dataframe tbody tr th {\n",
       "        vertical-align: top;\n",
       "    }\n",
       "\n",
       "    .dataframe thead th {\n",
       "        text-align: right;\n",
       "    }\n",
       "</style>\n",
       "<table border=\"1\" class=\"dataframe\">\n",
       "  <thead>\n",
       "    <tr style=\"text-align: right;\">\n",
       "      <th></th>\n",
       "      <th>source</th>\n",
       "      <th>target</th>\n",
       "    </tr>\n",
       "  </thead>\n",
       "  <tbody>\n",
       "    <tr>\n",
       "      <th>300</th>\n",
       "      <td>30957</td>\n",
       "      <td>488515</td>\n",
       "    </tr>\n",
       "    <tr>\n",
       "      <th>301</th>\n",
       "      <td>30957</td>\n",
       "      <td>494042</td>\n",
       "    </tr>\n",
       "    <tr>\n",
       "      <th>302</th>\n",
       "      <td>30957</td>\n",
       "      <td>528391</td>\n",
       "    </tr>\n",
       "    <tr>\n",
       "      <th>303</th>\n",
       "      <td>30957</td>\n",
       "      <td>531596</td>\n",
       "    </tr>\n",
       "    <tr>\n",
       "      <th>304</th>\n",
       "      <td>30957</td>\n",
       "      <td>565424</td>\n",
       "    </tr>\n",
       "    <tr>\n",
       "      <th>...</th>\n",
       "      <td>...</td>\n",
       "      <td>...</td>\n",
       "    </tr>\n",
       "    <tr>\n",
       "      <th>395</th>\n",
       "      <td>581609</td>\n",
       "      <td>597621</td>\n",
       "    </tr>\n",
       "    <tr>\n",
       "      <th>396</th>\n",
       "      <td>581609</td>\n",
       "      <td>644135</td>\n",
       "    </tr>\n",
       "    <tr>\n",
       "      <th>397</th>\n",
       "      <td>581609</td>\n",
       "      <td>858904</td>\n",
       "    </tr>\n",
       "    <tr>\n",
       "      <th>398</th>\n",
       "      <td>581609</td>\n",
       "      <td>908276</td>\n",
       "    </tr>\n",
       "    <tr>\n",
       "      <th>399</th>\n",
       "      <td>597621</td>\n",
       "      <td>2937</td>\n",
       "    </tr>\n",
       "  </tbody>\n",
       "</table>\n",
       "<p>100 rows × 2 columns</p>\n",
       "</div>"
      ],
      "text/plain": [
       "     source  target\n",
       "300   30957  488515\n",
       "301   30957  494042\n",
       "302   30957  528391\n",
       "303   30957  531596\n",
       "304   30957  565424\n",
       "..      ...     ...\n",
       "395  581609  597621\n",
       "396  581609  644135\n",
       "397  581609  858904\n",
       "398  581609  908276\n",
       "399  597621    2937\n",
       "\n",
       "[100 rows x 2 columns]"
      ]
     },
     "execution_count": 5,
     "metadata": {},
     "output_type": "execute_result"
    }
   ],
   "source": [
    "df"
   ]
  },
  {
   "cell_type": "markdown",
   "id": "distinguished-month",
   "metadata": {},
   "source": [
    "## Explore Data :"
   ]
  },
  {
   "cell_type": "code",
   "execution_count": 6,
   "id": "administrative-listing",
   "metadata": {},
   "outputs": [],
   "source": [
    "# Creating the Graph object\n",
    "G = nx.from_pandas_edgelist(df)"
   ]
  },
  {
   "cell_type": "code",
   "execution_count": 7,
   "id": "supreme-hollow",
   "metadata": {},
   "outputs": [
    {
     "name": "stdout",
     "output_type": "stream",
     "text": [
      "Name: \n",
      "Type: Graph\n",
      "Number of nodes: 24\n",
      "Number of edges: 77\n",
      "Average degree:   6.4167\n"
     ]
    }
   ],
   "source": [
    "# General information on the Graph\n",
    "print(nx.info(G))"
   ]
  },
  {
   "cell_type": "code",
   "execution_count": 8,
   "id": "subject-center",
   "metadata": {},
   "outputs": [
    {
     "data": {
      "text/plain": [
       "[30957, 565424, 581609, 597621, 357310, 423174, 430119, 462435, 472889]"
      ]
     },
     "execution_count": 8,
     "metadata": {},
     "output_type": "execute_result"
    }
   ],
   "source": [
    "# center of the graph\n",
    "nx.center(G)"
   ]
  },
  {
   "cell_type": "code",
   "execution_count": 9,
   "id": "enhanced-median",
   "metadata": {},
   "outputs": [
    {
     "data": {
      "text/plain": [
       "24"
      ]
     },
     "execution_count": 9,
     "metadata": {},
     "output_type": "execute_result"
    }
   ],
   "source": [
    "# Number of Nodes\n",
    "nx.number_of_nodes(G)"
   ]
  },
  {
   "cell_type": "code",
   "execution_count": 10,
   "id": "moral-baseball",
   "metadata": {},
   "outputs": [
    {
     "data": {
      "text/plain": [
       "77"
      ]
     },
     "execution_count": 10,
     "metadata": {},
     "output_type": "execute_result"
    }
   ],
   "source": [
    "# Number of Edges\n",
    "nx.number_of_edges(G)"
   ]
  },
  {
   "cell_type": "code",
   "execution_count": 11,
   "id": "generic-model",
   "metadata": {},
   "outputs": [
    {
     "data": {
      "text/plain": [
       "17"
      ]
     },
     "execution_count": 11,
     "metadata": {},
     "output_type": "execute_result"
    }
   ],
   "source": [
    "# degree centrality\n",
    "deg = nx.degree(G)\n",
    "max(dict(deg).values())"
   ]
  },
  {
   "cell_type": "code",
   "execution_count": 12,
   "id": "intense-cincinnati",
   "metadata": {},
   "outputs": [
    {
     "name": "stdout",
     "output_type": "stream",
     "text": [
      "[30957, 565424, 462435, 581609, 357310, 423174, 472889, 597621, 644135]\n"
     ]
    }
   ],
   "source": [
    "# closeness centrality\n",
    "close = nx.closeness_centrality(G)\n",
    "close = sorted(close.items(), key = lambda kv: kv[1], reverse = True)\n",
    "print(list(dict(close).keys())[1:10])"
   ]
  },
  {
   "cell_type": "code",
   "execution_count": 13,
   "id": "improved-tulsa",
   "metadata": {},
   "outputs": [
    {
     "name": "stdout",
     "output_type": "stream",
     "text": [
      "[430119, 30957, 565424]\n"
     ]
    }
   ],
   "source": [
    "# betweenness centrality\n",
    "bet = nx.betweenness_centrality(G)\n",
    "bet = sorted(bet.items(), key = lambda kv: kv[1], reverse = True)\n",
    "print(list(dict(bet).keys())[0:3])"
   ]
  },
  {
   "cell_type": "code",
   "execution_count": 14,
   "id": "injured-throw",
   "metadata": {},
   "outputs": [
    {
     "data": {
      "text/plain": [
       "3"
      ]
     },
     "execution_count": 14,
     "metadata": {},
     "output_type": "execute_result"
    }
   ],
   "source": [
    "# I will pick the specific Nodes Here!\n",
    "G = nx.from_pandas_edgelist(df)\n",
    "nx.shortest_path_length(G, source=597621, target=2937, weight=None)\n",
    "nx.diameter(G)"
   ]
  },
  {
   "cell_type": "code",
   "execution_count": 15,
   "id": "forced-employment",
   "metadata": {},
   "outputs": [
    {
     "data": {
      "text/plain": [
       "3"
      ]
     },
     "execution_count": 15,
     "metadata": {},
     "output_type": "execute_result"
    }
   ],
   "source": [
    "# we can also not pick any source and target node\n",
    "nx.shortest_path_length(G, source=None, target=None, weight=None)\n",
    "nx.diameter(G)"
   ]
  },
  {
   "cell_type": "markdown",
   "id": "royal-inspection",
   "metadata": {},
   "source": [
    "## GRAPH PLOT :"
   ]
  },
  {
   "cell_type": "code",
   "execution_count": null,
   "id": "removed-student",
   "metadata": {},
   "outputs": [],
   "source": [
    "plt.rcParams['figure.figsize'] = [20, 10]\n",
    "nx.draw_networkx(G)"
   ]
  }
 ],
 "metadata": {
  "kernelspec": {
   "display_name": "Python 3",
   "language": "python",
   "name": "python3"
  },
  "language_info": {
   "codemirror_mode": {
    "name": "ipython",
    "version": 3
   },
   "file_extension": ".py",
   "mimetype": "text/x-python",
   "name": "python",
   "nbconvert_exporter": "python",
   "pygments_lexer": "ipython3",
   "version": "3.7.9"
  }
 },
 "nbformat": 4,
 "nbformat_minor": 5
}
