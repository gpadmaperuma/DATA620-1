{
 "cells": [
  {
   "cell_type": "markdown",
   "id": "refined-dinner",
   "metadata": {},
   "source": [
    "# Assignment 3 :"
   ]
  },
  {
   "cell_type": "markdown",
   "id": "handed-ethnic",
   "metadata": {},
   "source": [
    "### Author :Omer Ozeren"
   ]
  },
  {
   "cell_type": "markdown",
   "id": "fresh-precipitation",
   "metadata": {},
   "source": [
    "## Introduction :"
   ]
  },
  {
   "cell_type": "markdown",
   "id": "pretty-delay",
   "metadata": {},
   "source": [
    "Centrality measures can be used to predict (positive or negative) outcomes for a node.\n",
    "\n",
    "Your task in this week’s assignment is to identify an interesting set of network data that is available on the web (either through web scraping or web APIs) that could be used for analyzing and comparing centrality measures across nodes.  As an additional constraint, there should be at least one categorical variable available for each node (such as “Male” or “Female”; “Republican”, “Democrat,” or “Undecided”, etc.)\n",
    "\n",
    "In addition to identifying your data source, you should create a high level plan that describes how you would load the data for analysis, and describe a hypothetical outcome that could be predicted from comparing degree centrality across categorical groups. \n",
    "\n",
    "For this week’s assignment, you are not required to actually load or analyze the data.  Please see also Project 1 below.\n",
    "\n",
    "You may work in a small group on the assignment.   You should post your document to GitHub by end of day on 2/28."
   ]
  },
  {
   "cell_type": "markdown",
   "id": "meaningful-cycle",
   "metadata": {},
   "source": [
    "## Data :"
   ]
  },
  {
   "cell_type": "markdown",
   "id": "legal-fiction",
   "metadata": {},
   "source": [
    "The data that I selected is from <http://networkdata.ics.uci.edu/data/adjnoun//>.The file adjnoun.gml contains the network of common adjective and noun adjacencies for the novel \"David Copperfield\" by Charles Dickens, as described by M. Newman. Nodes represent the most commonly occurring adjectives and ##nouns in the book. Node values are 0 for adjectives and 1 for nouns. Edges connect any pair of words that occur in adjacent position in the text of the book. Please cite M. E. J. Newman, Finding community structure in networks using the eigenvectors of matrices."
   ]
  },
  {
   "cell_type": "code",
   "execution_count": 3,
   "id": "indonesian-market",
   "metadata": {},
   "outputs": [],
   "source": [
    "import networkx as nx"
   ]
  }
 ],
 "metadata": {
  "kernelspec": {
   "display_name": "Python 3",
   "language": "python",
   "name": "python3"
  },
  "language_info": {
   "codemirror_mode": {
    "name": "ipython",
    "version": 3
   },
   "file_extension": ".py",
   "mimetype": "text/x-python",
   "name": "python",
   "nbconvert_exporter": "python",
   "pygments_lexer": "ipython3",
   "version": "3.7.9"
  }
 },
 "nbformat": 4,
 "nbformat_minor": 5
}
