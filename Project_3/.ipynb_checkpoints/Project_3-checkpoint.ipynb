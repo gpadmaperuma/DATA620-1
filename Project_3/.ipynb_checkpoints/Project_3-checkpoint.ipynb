{
 "cells": [
  {
   "cell_type": "markdown",
   "id": "powered-wellington",
   "metadata": {},
   "source": [
    "# PROJECT 3 :"
   ]
  },
  {
   "cell_type": "markdown",
   "id": "blessed-printer",
   "metadata": {},
   "source": [
    "### Author : Omer Ozeren "
   ]
  },
  {
   "cell_type": "markdown",
   "id": "rising-desktop",
   "metadata": {},
   "source": [
    "## Introduction"
   ]
  },
  {
   "cell_type": "markdown",
   "id": "lesser-supervision",
   "metadata": {},
   "source": [
    "Using any of the three classifiers described in chapter 6 of Natural Language Processing with Python, and any features you can think of, build the best name gender classifier you can. Begin by splitting the Names Corpus into three subsets: 500 words for the test set, 500 words for the dev-test set, and the remaining 6900 words for the training set. Then, starting with the example name gender classifier, make incremental improvements. Use the dev-test set to check your progress. Once you are satisfied with your classifier, check its final performance on the test set. How does the performance on the test set compare to the performance on the dev-test set? Is this what you'd expect?"
   ]
  },
  {
   "cell_type": "markdown",
   "id": "reserved-stereo",
   "metadata": {},
   "source": [
    "#### Import Packages"
   ]
  },
  {
   "cell_type": "code",
   "execution_count": 1,
   "id": "aquatic-party",
   "metadata": {},
   "outputs": [
    {
     "name": "stderr",
     "output_type": "stream",
     "text": [
      "\n",
      "Bad key \"text.kerning_factor\" on line 4 in\n",
      "/Users/omerozeren/opt/anaconda3/envs/sps620env/lib/python3.7/site-packages/matplotlib/mpl-data/stylelib/_classic_test_patch.mplstyle.\n",
      "You probably need to get an updated matplotlibrc file from\n",
      "http://github.com/matplotlib/matplotlib/blob/master/matplotlibrc.template\n",
      "or from the matplotlib source distribution\n",
      "[nltk_data] Downloading package names to\n",
      "[nltk_data]     /Users/omerozeren/nltk_data...\n",
      "[nltk_data]   Package names is already up-to-date!\n"
     ]
    },
    {
     "data": {
      "text/plain": [
       "True"
      ]
     },
     "execution_count": 1,
     "metadata": {},
     "output_type": "execute_result"
    }
   ],
   "source": [
    "import nltk\n",
    "from nltk.corpus import names\n",
    "import pandas as pd\n",
    "import random\n",
    "from pandas import DataFrame\n",
    "import seaborn as sns\n",
    "import matplotlib.pyplot as plt\n",
    "nltk.download('names')"
   ]
  },
  {
   "cell_type": "markdown",
   "id": "primary-selection",
   "metadata": {},
   "source": [
    "I am going to use Naive Bayes as a Classifier to build a name gender classifier.I am going to use several different feature engineering process to select feasible features to be implemented in Naive Bayes model."
   ]
  },
  {
   "cell_type": "markdown",
   "id": "treated-microphone",
   "metadata": {},
   "source": [
    "### Data Collection"
   ]
  },
  {
   "cell_type": "code",
   "execution_count": 2,
   "id": "funky-departure",
   "metadata": {},
   "outputs": [],
   "source": [
    "# load names\n",
    "labeled_names = ([(name, \"male\") for name in names.words(\"male.txt\")] + \n",
    "                 [(name, \"female\") for name in names.words(\"female.txt\")])\n",
    "# random shuffle the names\n",
    "random.shuffle(labeled_names)"
   ]
  },
  {
   "cell_type": "markdown",
   "id": "another-topic",
   "metadata": {},
   "source": [
    "I will begin by splitting the Names Corpus into three subsets: 500 words for the test set, 500 words for the dev-test set, and the remaining 6900 words for the training set. "
   ]
  },
  {
   "cell_type": "code",
   "execution_count": 3,
   "id": "funded-compensation",
   "metadata": {},
   "outputs": [],
   "source": [
    "# split data into three subsets\n",
    "data_train = labeled_names[1500:]\n",
    "data_devtest = labeled_names[500:1000]\n",
    "data_test = labeled_names[:500]"
   ]
  },
  {
   "cell_type": "markdown",
   "id": "clinical-sight",
   "metadata": {},
   "source": [
    "**I also need to create a function to count error which presents variance between actual and model prediction.**"
   ]
  },
  {
   "cell_type": "code",
   "execution_count": 35,
   "id": "matched-garden",
   "metadata": {},
   "outputs": [],
   "source": [
    "# define error analysis function\n",
    "def error_analysis(gender_features):\n",
    "    # error list\n",
    "    errors = []\n",
    "    # extract mislabels\n",
    "    for (name, tag) in data_devtest:\n",
    "        guess = classifier.classify(gender_features(name))\n",
    "        if guess != tag:\n",
    "            errors.append((tag, guess, name))\n",
    "    print(\"Number of Errors: \", len(errors))\n",
    "    # print the errors\n",
    "    for (tag, guess, name) in sorted(errors):\n",
    "        print('correct={:<8} guess={:<8s} name={:<30}'.format(tag, guess, name))"
   ]
  },
  {
   "cell_type": "markdown",
   "id": "informational-primary",
   "metadata": {},
   "source": [
    "### Generating New Features\n",
    "\n",
    "I will  generate the new features to Which is using first letter and last letter to review  performance in datasets.\n",
    "Please click [here](http://www.nltk.org/book/ch06.html)  for references."
   ]
  },
  {
   "cell_type": "markdown",
   "id": "informal-basis",
   "metadata": {},
   "source": [
    "#### First Letter function :"
   ]
  },
  {
   "cell_type": "code",
   "execution_count": 32,
   "id": "determined-float",
   "metadata": {},
   "outputs": [],
   "source": [
    "def first_letter(name):\n",
    "    features = {}\n",
    "    features[\"first_letter\"] = name[0].lower()\n",
    "    return features"
   ]
  },
  {
   "cell_type": "code",
   "execution_count": 33,
   "id": "vulnerable-standing",
   "metadata": {},
   "outputs": [
    {
     "name": "stdout",
     "output_type": "stream",
     "text": [
      "Devset accuracy is\n",
      "0.626\n",
      "Test accuracy is\n",
      "0.648\n"
     ]
    }
   ],
   "source": [
    "train_dataset = [(first_letter(n), g) for (n,g) in data_train]\n",
    "devtest_dataset = [(first_letter(n), g) for (n,g) in data_devtest]\n",
    "test_dataset = [(first_letter(n), g) for (n,g) in data_test]\n",
    "nb1 = nltk.NaiveBayesClassifier.train(train_dataset) \n",
    "\n",
    "print('Devset accuracy is')\n",
    "print(nltk.classify.accuracy(nb1, devtest_dataset))\n",
    "print('Test accuracy is')\n",
    "print(nltk.classify.accuracy(nb1, test_dataset))"
   ]
  },
  {
   "cell_type": "code",
   "execution_count": 21,
   "id": "driving-respect",
   "metadata": {},
   "outputs": [
    {
     "ename": "AttributeError",
     "evalue": "'list' object has no attribute 'keys'",
     "output_type": "error",
     "traceback": [
      "\u001b[0;31m---------------------------------------------------------------------------\u001b[0m",
      "\u001b[0;31mAttributeError\u001b[0m                            Traceback (most recent call last)",
      "\u001b[0;32m<ipython-input-21-e6b5ec6a4816>\u001b[0m in \u001b[0;36m<module>\u001b[0;34m\u001b[0m\n\u001b[0;32m----> 1\u001b[0;31m \u001b[0mnb1\u001b[0m\u001b[0;34m.\u001b[0m\u001b[0mclassify\u001b[0m\u001b[0;34m(\u001b[0m\u001b[0mdevtest_dataset\u001b[0m\u001b[0;34m)\u001b[0m\u001b[0;34m\u001b[0m\u001b[0;34m\u001b[0m\u001b[0m\n\u001b[0m",
      "\u001b[0;32m~/opt/anaconda3/envs/sps620env/lib/python3.7/site-packages/nltk/classify/naivebayes.py\u001b[0m in \u001b[0;36mclassify\u001b[0;34m(self, featureset)\u001b[0m\n\u001b[1;32m     87\u001b[0m \u001b[0;34m\u001b[0m\u001b[0m\n\u001b[1;32m     88\u001b[0m     \u001b[0;32mdef\u001b[0m \u001b[0mclassify\u001b[0m\u001b[0;34m(\u001b[0m\u001b[0mself\u001b[0m\u001b[0;34m,\u001b[0m \u001b[0mfeatureset\u001b[0m\u001b[0;34m)\u001b[0m\u001b[0;34m:\u001b[0m\u001b[0;34m\u001b[0m\u001b[0;34m\u001b[0m\u001b[0m\n\u001b[0;32m---> 89\u001b[0;31m         \u001b[0;32mreturn\u001b[0m \u001b[0mself\u001b[0m\u001b[0;34m.\u001b[0m\u001b[0mprob_classify\u001b[0m\u001b[0;34m(\u001b[0m\u001b[0mfeatureset\u001b[0m\u001b[0;34m)\u001b[0m\u001b[0;34m.\u001b[0m\u001b[0mmax\u001b[0m\u001b[0;34m(\u001b[0m\u001b[0;34m)\u001b[0m\u001b[0;34m\u001b[0m\u001b[0;34m\u001b[0m\u001b[0m\n\u001b[0m\u001b[1;32m     90\u001b[0m \u001b[0;34m\u001b[0m\u001b[0m\n\u001b[1;32m     91\u001b[0m     \u001b[0;32mdef\u001b[0m \u001b[0mprob_classify\u001b[0m\u001b[0;34m(\u001b[0m\u001b[0mself\u001b[0m\u001b[0;34m,\u001b[0m \u001b[0mfeatureset\u001b[0m\u001b[0;34m)\u001b[0m\u001b[0;34m:\u001b[0m\u001b[0;34m\u001b[0m\u001b[0;34m\u001b[0m\u001b[0m\n",
      "\u001b[0;32m~/opt/anaconda3/envs/sps620env/lib/python3.7/site-packages/nltk/classify/naivebayes.py\u001b[0m in \u001b[0;36mprob_classify\u001b[0;34m(self, featureset)\u001b[0m\n\u001b[1;32m     94\u001b[0m         \u001b[0;31m# everything.\u001b[0m\u001b[0;34m\u001b[0m\u001b[0;34m\u001b[0m\u001b[0;34m\u001b[0m\u001b[0m\n\u001b[1;32m     95\u001b[0m         \u001b[0mfeatureset\u001b[0m \u001b[0;34m=\u001b[0m \u001b[0mfeatureset\u001b[0m\u001b[0;34m.\u001b[0m\u001b[0mcopy\u001b[0m\u001b[0;34m(\u001b[0m\u001b[0;34m)\u001b[0m\u001b[0;34m\u001b[0m\u001b[0;34m\u001b[0m\u001b[0m\n\u001b[0;32m---> 96\u001b[0;31m         \u001b[0;32mfor\u001b[0m \u001b[0mfname\u001b[0m \u001b[0;32min\u001b[0m \u001b[0mlist\u001b[0m\u001b[0;34m(\u001b[0m\u001b[0mfeatureset\u001b[0m\u001b[0;34m.\u001b[0m\u001b[0mkeys\u001b[0m\u001b[0;34m(\u001b[0m\u001b[0;34m)\u001b[0m\u001b[0;34m)\u001b[0m\u001b[0;34m:\u001b[0m\u001b[0;34m\u001b[0m\u001b[0;34m\u001b[0m\u001b[0m\n\u001b[0m\u001b[1;32m     97\u001b[0m             \u001b[0;32mfor\u001b[0m \u001b[0mlabel\u001b[0m \u001b[0;32min\u001b[0m \u001b[0mself\u001b[0m\u001b[0;34m.\u001b[0m\u001b[0m_labels\u001b[0m\u001b[0;34m:\u001b[0m\u001b[0;34m\u001b[0m\u001b[0;34m\u001b[0m\u001b[0m\n\u001b[1;32m     98\u001b[0m                 \u001b[0;32mif\u001b[0m \u001b[0;34m(\u001b[0m\u001b[0mlabel\u001b[0m\u001b[0;34m,\u001b[0m \u001b[0mfname\u001b[0m\u001b[0;34m)\u001b[0m \u001b[0;32min\u001b[0m \u001b[0mself\u001b[0m\u001b[0;34m.\u001b[0m\u001b[0m_feature_probdist\u001b[0m\u001b[0;34m:\u001b[0m\u001b[0;34m\u001b[0m\u001b[0;34m\u001b[0m\u001b[0m\n",
      "\u001b[0;31mAttributeError\u001b[0m: 'list' object has no attribute 'keys'"
     ]
    }
   ],
   "source": [
    "nb1.classify(devtest_dataset)"
   ]
  },
  {
   "cell_type": "markdown",
   "id": "inclusive-complexity",
   "metadata": {},
   "source": [
    "#### Last Letter function :"
   ]
  },
  {
   "cell_type": "code",
   "execution_count": 13,
   "id": "preceding-daniel",
   "metadata": {},
   "outputs": [],
   "source": [
    "def last_letter(feature):\n",
    "  return {'last_letter': feature[-1]}"
   ]
  },
  {
   "cell_type": "code",
   "execution_count": 14,
   "id": "funded-assault",
   "metadata": {},
   "outputs": [
    {
     "name": "stdout",
     "output_type": "stream",
     "text": [
      "Devset accuracy is\n",
      "0.716\n",
      "Test accuracy is\n",
      "0.764\n"
     ]
    }
   ],
   "source": [
    "train_dataset = [(last_letter(n), g) for (n,g) in data_train]\n",
    "devtest_dataset = [(last_letter(n), g) for (n,g) in data_devtest]\n",
    "test_dataset = [(last_letter(n), g) for (n,g) in data_test]\n",
    "nb2 = nltk.NaiveBayesClassifier.train(train_dataset) \n",
    "print('Devset accuracy is')\n",
    "print(nltk.classify.accuracy(nb2, devtest_dataset))\n",
    "print('Test accuracy is')\n",
    "print(nltk.classify.accuracy(nb2, test_dataset))"
   ]
  },
  {
   "cell_type": "markdown",
   "id": "functioning-scanning",
   "metadata": {},
   "source": [
    "#### Gender Features overfit :"
   ]
  },
  {
   "cell_type": "code",
   "execution_count": 15,
   "id": "governmental-wisdom",
   "metadata": {},
   "outputs": [],
   "source": [
    "def gender_features_overfit(name):\n",
    "    features = {}\n",
    "    features[\"first_letter\"] = name[0].lower()\n",
    "    features[\"last_letter\"] = name[-1].lower()\n",
    "    for letter in 'abcdefghijklmnopqrstuvwxyz':\n",
    "        features[\"count({})\".format(letter)] = name.lower().count(letter)\n",
    "        features[\"has({})\".format(letter)] = (letter in name.lower())\n",
    "    return features"
   ]
  },
  {
   "cell_type": "code",
   "execution_count": 38,
   "id": "moved-pioneer",
   "metadata": {},
   "outputs": [
    {
     "name": "stdout",
     "output_type": "stream",
     "text": [
      "Devset accuracy is\n",
      "0.772\n",
      "Test accuracy is\n",
      "0.79\n"
     ]
    }
   ],
   "source": [
    "train_dataset = [(gender_features_overfit(n), g) for (n,g) in data_train]\n",
    "devtest_dataset = [(gender_features_overfit(n), g) for (n,g) in data_devtest]\n",
    "test_dataset = [(gender_features_overfit(n), g) for (n,g) in data_test]\n",
    "classifier = nltk.NaiveBayesClassifier.train(train_dataset)\n",
    "nb2 = nltk.NaiveBayesClassifier.train(train_dataset) \n",
    "print('Devset accuracy is')\n",
    "print(nltk.classify.accuracy(nb2, devtest_dataset))\n",
    "print('Test accuracy is')\n",
    "print(nltk.classify.accuracy(nb2, test_dataset))"
   ]
  },
  {
   "cell_type": "code",
   "execution_count": 39,
   "id": "quantitative-growing",
   "metadata": {},
   "outputs": [
    {
     "name": "stdout",
     "output_type": "stream",
     "text": [
      "Number of Errors:  114\n",
      "correct=female   guess=male     name=Beulah                        \n",
      "correct=female   guess=male     name=Brear                         \n",
      "correct=female   guess=male     name=Chriss                        \n",
      "correct=female   guess=male     name=Chrystel                      \n",
      "correct=female   guess=male     name=Cody                          \n",
      "correct=female   guess=male     name=Dawn                          \n",
      "correct=female   guess=male     name=Doloritas                     \n",
      "correct=female   guess=male     name=Doreen                        \n",
      "correct=female   guess=male     name=Florry                        \n",
      "correct=female   guess=male     name=Gates                         \n",
      "correct=female   guess=male     name=Gennifer                      \n",
      "correct=female   guess=male     name=Gladis                        \n",
      "correct=female   guess=male     name=Guendolen                     \n",
      "correct=female   guess=male     name=Harmony                       \n",
      "correct=female   guess=male     name=Helyn                         \n",
      "correct=female   guess=male     name=Janot                         \n",
      "correct=female   guess=male     name=Joselyn                       \n",
      "correct=female   guess=male     name=Kass                          \n",
      "correct=female   guess=male     name=Margeaux                      \n",
      "correct=female   guess=male     name=Margy                         \n",
      "correct=female   guess=male     name=Marybeth                      \n",
      "correct=female   guess=male     name=Marys                         \n",
      "correct=female   guess=male     name=Mignon                        \n",
      "correct=female   guess=male     name=Miriam                        \n",
      "correct=female   guess=male     name=Myriam                        \n",
      "correct=female   guess=male     name=Phylys                        \n",
      "correct=female   guess=male     name=Prudence                      \n",
      "correct=female   guess=male     name=Prudy                         \n",
      "correct=female   guess=male     name=Quinn                         \n",
      "correct=female   guess=male     name=Robin                         \n",
      "correct=female   guess=male     name=Roch                          \n",
      "correct=female   guess=male     name=Rosario                       \n",
      "correct=female   guess=male     name=Roselyn                       \n",
      "correct=female   guess=male     name=Shamit                        \n",
      "correct=female   guess=male     name=Shawn                         \n",
      "correct=female   guess=male     name=Shelagh                       \n",
      "correct=female   guess=male     name=Sherill                       \n",
      "correct=female   guess=male     name=Shir                          \n",
      "correct=female   guess=male     name=Shoshie                       \n",
      "correct=female   guess=male     name=Suzann                        \n",
      "correct=female   guess=male     name=Tessy                         \n",
      "correct=female   guess=male     name=Tiff                          \n",
      "correct=female   guess=male     name=Trudey                        \n",
      "correct=female   guess=male     name=Trudie                        \n",
      "correct=female   guess=male     name=Violet                        \n",
      "correct=female   guess=male     name=Winni                         \n",
      "correct=female   guess=male     name=Winnifred                     \n",
      "correct=female   guess=male     name=Wynn                          \n",
      "correct=male     guess=female   name=Aaron                         \n",
      "correct=male     guess=female   name=Ajai                          \n",
      "correct=male     guess=female   name=Andrey                        \n",
      "correct=male     guess=female   name=Axel                          \n",
      "correct=male     guess=female   name=Bartlett                      \n",
      "correct=male     guess=female   name=Benjie                        \n",
      "correct=male     guess=female   name=Berkeley                      \n",
      "correct=male     guess=female   name=Brice                         \n",
      "correct=male     guess=female   name=Brinkley                      \n",
      "correct=male     guess=female   name=Case                          \n",
      "correct=male     guess=female   name=Chance                        \n",
      "correct=male     guess=female   name=Clemente                      \n",
      "correct=male     guess=female   name=Clive                         \n",
      "correct=male     guess=female   name=Corrie                        \n",
      "correct=male     guess=female   name=Dabney                        \n",
      "correct=male     guess=female   name=Daniel                        \n",
      "correct=male     guess=female   name=Elliot                        \n",
      "correct=male     guess=female   name=Enrique                       \n",
      "correct=male     guess=female   name=Fazeel                        \n",
      "correct=male     guess=female   name=Flynn                         \n",
      "correct=male     guess=female   name=Gabriel                       \n",
      "correct=male     guess=female   name=Garfinkel                     \n",
      "correct=male     guess=female   name=Gay                           \n",
      "correct=male     guess=female   name=Georgie                       \n",
      "correct=male     guess=female   name=Granville                     \n",
      "correct=male     guess=female   name=Henri                         \n",
      "correct=male     guess=female   name=Immanuel                      \n",
      "correct=male     guess=female   name=Jodi                          \n",
      "correct=male     guess=female   name=Johnathan                     \n",
      "correct=male     guess=female   name=Juanita                       \n",
      "correct=male     guess=female   name=Julian                        \n",
      "correct=male     guess=female   name=Kaiser                        \n",
      "correct=male     guess=female   name=Kevan                         \n",
      "correct=male     guess=female   name=Lawrence                      \n",
      "correct=male     guess=female   name=Lemmie                        \n",
      "correct=male     guess=female   name=Lindsey                       \n",
      "correct=male     guess=female   name=Lindy                         \n",
      "correct=male     guess=female   name=Logan                         \n",
      "correct=male     guess=female   name=Manuel                        \n",
      "correct=male     guess=female   name=Marlin                        \n",
      "correct=male     guess=female   name=Martie                        \n",
      "correct=male     guess=female   name=Maurie                        \n",
      "correct=male     guess=female   name=Mikael                        \n",
      "correct=male     guess=female   name=Mitchell                      \n",
      "correct=male     guess=female   name=Nikolai                       \n",
      "correct=male     guess=female   name=Niles                         \n",
      "correct=male     guess=female   name=Noel                          \n",
      "correct=male     guess=female   name=Nolan                         \n",
      "correct=male     guess=female   name=Pace                          \n",
      "correct=male     guess=female   name=Phillipe                      \n",
      "correct=male     guess=female   name=Prentice                      \n",
      "correct=male     guess=female   name=Prince                        \n",
      "correct=male     guess=female   name=Ramsay                        \n",
      "correct=male     guess=female   name=Reilly                        \n",
      "correct=male     guess=female   name=Ricki                         \n",
      "correct=male     guess=female   name=Ritchie                       \n",
      "correct=male     guess=female   name=Ronnie                        \n",
      "correct=male     guess=female   name=Salomone                      \n",
      "correct=male     guess=female   name=Sandy                         \n",
      "correct=male     guess=female   name=Sayre                         \n",
      "correct=male     guess=female   name=Scotti                        \n",
      "correct=male     guess=female   name=Sibyl                         \n",
      "correct=male     guess=female   name=Tait                          \n",
      "correct=male     guess=female   name=Tammie                        \n",
      "correct=male     guess=female   name=Thaine                        \n",
      "correct=male     guess=female   name=Vasilis                       \n"
     ]
    }
   ],
   "source": [
    "error_analysis(gender_features_overfit)"
   ]
  }
 ],
 "metadata": {
  "kernelspec": {
   "display_name": "Python 3",
   "language": "python",
   "name": "python3"
  },
  "language_info": {
   "codemirror_mode": {
    "name": "ipython",
    "version": 3
   },
   "file_extension": ".py",
   "mimetype": "text/x-python",
   "name": "python",
   "nbconvert_exporter": "python",
   "pygments_lexer": "ipython3",
   "version": "3.7.9"
  }
 },
 "nbformat": 4,
 "nbformat_minor": 5
}
