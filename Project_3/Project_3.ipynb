{
 "cells": [
  {
   "cell_type": "markdown",
   "id": "powered-wellington",
   "metadata": {},
   "source": [
    "# PROJECT 3 :"
   ]
  },
  {
   "cell_type": "markdown",
   "id": "blessed-printer",
   "metadata": {},
   "source": [
    "### Author : Omer Ozeren "
   ]
  },
  {
   "cell_type": "markdown",
   "id": "rising-desktop",
   "metadata": {},
   "source": [
    "## Introduction"
   ]
  },
  {
   "cell_type": "markdown",
   "id": "lesser-supervision",
   "metadata": {},
   "source": [
    "Using any of the three classifiers described in chapter 6 of Natural Language Processing with Python, and any features you can think of, build the best name gender classifier you can. Begin by splitting the Names Corpus into three subsets: 500 words for the test set, 500 words for the dev-test set, and the remaining 6900 words for the training set. Then, starting with the example name gender classifier, make incremental improvements. Use the dev-test set to check your progress. Once you are satisfied with your classifier, check its final performance on the test set. How does the performance on the test set compare to the performance on the dev-test set? Is this what you'd expect?"
   ]
  },
  {
   "cell_type": "markdown",
   "id": "reserved-stereo",
   "metadata": {},
   "source": [
    "#### Import Packages"
   ]
  },
  {
   "cell_type": "code",
   "execution_count": 4,
   "id": "aquatic-party",
   "metadata": {},
   "outputs": [
    {
     "name": "stderr",
     "output_type": "stream",
     "text": [
      "[nltk_data] Downloading package names to\n",
      "[nltk_data]     C:\\Users\\OMERO\\AppData\\Roaming\\nltk_data...\n",
      "[nltk_data]   Unzipping corpora\\names.zip.\n"
     ]
    },
    {
     "data": {
      "text/plain": [
       "True"
      ]
     },
     "execution_count": 4,
     "metadata": {},
     "output_type": "execute_result"
    }
   ],
   "source": [
    "import nltk\n",
    "from nltk.corpus import names\n",
    "import pandas as pd\n",
    "import random\n",
    "from pandas import DataFrame\n",
    "import seaborn as sns\n",
    "import matplotlib.pyplot as plt"
   ]
  },
  {
   "cell_type": "markdown",
   "id": "primary-selection",
   "metadata": {},
   "source": [
    "I am going to use Naive Bayes as a Classifier to build a name gender classifier.I am going to use several different feature engineering process to select feasible features to be implemented in Naive Bayes model."
   ]
  },
  {
   "cell_type": "markdown",
   "id": "treated-microphone",
   "metadata": {},
   "source": [
    "### Data Collection"
   ]
  },
  {
   "cell_type": "code",
   "execution_count": 5,
   "id": "funky-departure",
   "metadata": {},
   "outputs": [],
   "source": [
    "# load names\n",
    "labeled_names = ([(name, \"male\") for name in names.words(\"male.txt\")] + \n",
    "                 [(name, \"female\") for name in names.words(\"female.txt\")])\n",
    "\n",
    "# random shuffle the names\n",
    "random.shuffle(labeled_names)"
   ]
  },
  {
   "cell_type": "markdown",
   "id": "another-topic",
   "metadata": {},
   "source": [
    "I will begin by splitting the Names Corpus into three subsets: 500 words for the test set, 500 words for the dev-test set, and the remaining 6900 words for the training set. "
   ]
  },
  {
   "cell_type": "code",
   "execution_count": 6,
   "id": "funded-compensation",
   "metadata": {},
   "outputs": [],
   "source": [
    "# split data into three subsets\n",
    "data_train = labeled_names[1500:]\n",
    "data_devtest = labeled_names[500:1000]\n",
    "data_test = labeled_names[:500]"
   ]
  },
  {
   "cell_type": "markdown",
   "id": "clinical-sight",
   "metadata": {},
   "source": [
    "**I also need to create a function to count error which presents variance between actual and model prediction.**"
   ]
  },
  {
   "cell_type": "code",
   "execution_count": null,
   "id": "matched-garden",
   "metadata": {},
   "outputs": [],
   "source": [
    "def error(gender_features):\n",
    "    # error list\n",
    "    errors = []\n",
    "    # extract mislabels\n",
    "    for (name, tag) in devtest_names:\n",
    "        guess = classifier.classify(gender_features(name))\n",
    "        if guess != tag:\n",
    "            errors.append((tag, guess, name))\n",
    "    print(\"Number of Errors: \", len(errors))\n",
    "    # print the errors\n",
    "    for (tag, guess, name) in sorted(errors):\n",
    "        print('correct={:<8} guess={:<8s} name={:<30}'.format(tag, guess, name))"
   ]
  }
 ],
 "metadata": {
  "kernelspec": {
   "display_name": "Python 3",
   "language": "python",
   "name": "python3"
  },
  "language_info": {
   "codemirror_mode": {
    "name": "ipython",
    "version": 3
   },
   "file_extension": ".py",
   "mimetype": "text/x-python",
   "name": "python",
   "nbconvert_exporter": "python",
   "pygments_lexer": "ipython3",
   "version": "3.7.10"
  }
 },
 "nbformat": 4,
 "nbformat_minor": 5
}
