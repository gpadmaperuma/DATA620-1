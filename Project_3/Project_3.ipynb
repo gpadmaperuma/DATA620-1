{
 "cells": [
  {
   "cell_type": "markdown",
   "id": "powered-wellington",
   "metadata": {},
   "source": [
    "# PROJECT 3 :"
   ]
  },
  {
   "cell_type": "markdown",
   "id": "blessed-printer",
   "metadata": {},
   "source": [
    "### Author : Omer Ozeren "
   ]
  },
  {
   "cell_type": "markdown",
   "id": "rising-desktop",
   "metadata": {},
   "source": [
    "## Introduction"
   ]
  },
  {
   "cell_type": "markdown",
   "id": "lesser-supervision",
   "metadata": {},
   "source": [
    "Using any of the three classifiers described in chapter 6 of Natural Language Processing with Python, and any features you can think of, build the best name gender classifier you can. Begin by splitting the Names Corpus into three subsets: 500 words for the test set, 500 words for the dev-test set, and the remaining 6900 words for the training set. Then, starting with the example name gender classifier, make incremental improvements. Use the dev-test set to check your progress. Once you are satisfied with your classifier, check its final performance on the test set. How does the performance on the test set compare to the performance on the dev-test set? Is this what you'd expect?"
   ]
  },
  {
   "cell_type": "markdown",
   "id": "reserved-stereo",
   "metadata": {},
   "source": [
    "#### Import Packages"
   ]
  },
  {
   "cell_type": "code",
   "execution_count": 1,
   "id": "aquatic-party",
   "metadata": {},
   "outputs": [
    {
     "name": "stderr",
     "output_type": "stream",
     "text": [
      "\n",
      "Bad key \"text.kerning_factor\" on line 4 in\n",
      "/Users/omerozeren/opt/anaconda3/envs/sps620env/lib/python3.7/site-packages/matplotlib/mpl-data/stylelib/_classic_test_patch.mplstyle.\n",
      "You probably need to get an updated matplotlibrc file from\n",
      "http://github.com/matplotlib/matplotlib/blob/master/matplotlibrc.template\n",
      "or from the matplotlib source distribution\n",
      "[nltk_data] Downloading package names to\n",
      "[nltk_data]     /Users/omerozeren/nltk_data...\n",
      "[nltk_data]   Package names is already up-to-date!\n"
     ]
    },
    {
     "data": {
      "text/plain": [
       "True"
      ]
     },
     "execution_count": 1,
     "metadata": {},
     "output_type": "execute_result"
    }
   ],
   "source": [
    "import nltk\n",
    "from sklearn.metrics import confusion_matrix, classification_report\n",
    "from nltk.corpus import names\n",
    "import pandas as pd\n",
    "import random\n",
    "from pandas import DataFrame\n",
    "import seaborn as sns\n",
    "import matplotlib.pyplot as plt\n",
    "nltk.download('names')"
   ]
  },
  {
   "cell_type": "markdown",
   "id": "primary-selection",
   "metadata": {},
   "source": [
    "I am going to use Naive Bayes as a Classifier to build a name gender classifier.I am going to use several different feature engineering process to select feasible features to be implemented in Naive Bayes model.In addition ,i will compare Naive Bayes models with different features with accuracy."
   ]
  },
  {
   "cell_type": "markdown",
   "id": "treated-microphone",
   "metadata": {},
   "source": [
    "### Data Collection"
   ]
  },
  {
   "cell_type": "code",
   "execution_count": 2,
   "id": "funky-departure",
   "metadata": {},
   "outputs": [],
   "source": [
    "# load names\n",
    "labeled_names = ([(name, \"male\") for name in names.words(\"male.txt\")] + \n",
    "                 [(name, \"female\") for name in names.words(\"female.txt\")])\n",
    "# random shuffle the names\n",
    "random.shuffle(labeled_names)"
   ]
  },
  {
   "cell_type": "markdown",
   "id": "another-topic",
   "metadata": {},
   "source": [
    "I will begin by splitting the Names Corpus into three subsets: 500 words for the test set, 500 words for the dev-test set, and the remaining 6900 words for the training set. "
   ]
  },
  {
   "cell_type": "code",
   "execution_count": 3,
   "id": "funded-compensation",
   "metadata": {},
   "outputs": [],
   "source": [
    "# split data into three subsets\n",
    "data_train = labeled_names[1500:]\n",
    "data_devtest = labeled_names[500:1000]\n",
    "data_test = labeled_names[:500]"
   ]
  },
  {
   "cell_type": "markdown",
   "id": "clinical-sight",
   "metadata": {},
   "source": [
    "**I also need to create a function to count error which presents variance between actual and model prediction.Please click [here](http://www.nltk.org/book/ch06.html) for references.**"
   ]
  },
  {
   "cell_type": "code",
   "execution_count": 4,
   "id": "matched-garden",
   "metadata": {},
   "outputs": [],
   "source": [
    "# define error analysis function\n",
    "def error_analysis(gender_features,classifier,display=False,dataset='devtest'):\n",
    "    # error list\n",
    "    errors = []\n",
    "    data = data_devtest if dataset =='devtest' else data_test\n",
    "    # extract mislabels\n",
    "    for (name, tag) in data:\n",
    "        guess = classifier.classify(gender_features(name))\n",
    "        if guess != tag:\n",
    "            errors.append((tag, guess, name))\n",
    "    if display :        \n",
    "       print(\"Number of Errors: \", len(errors))\n",
    "       # print the errors\n",
    "       for (tag, guess, name) in sorted(errors):\n",
    "         print('correct={:<8} guess={:<8s} name={:<30}'.format(tag, guess, name))\n",
    "    return len(errors)    "
   ]
  },
  {
   "cell_type": "markdown",
   "id": "engaging-service",
   "metadata": {},
   "source": [
    "### Generating New Features\n",
    "\n",
    "I will  generate the new features to Which is using first letter and last letter to review  performance in datasets.\n",
    "Please click [here](http://www.nltk.org/book/ch06.html)  for references."
   ]
  },
  {
   "cell_type": "markdown",
   "id": "polyphonic-investment",
   "metadata": {},
   "source": [
    "#### First Letter function :"
   ]
  },
  {
   "cell_type": "code",
   "execution_count": 5,
   "id": "italic-privilege",
   "metadata": {},
   "outputs": [],
   "source": [
    "def first_letter(name):\n",
    "    features = {}\n",
    "    features[\"first_letter\"] = name[0].lower()\n",
    "    return features"
   ]
  },
  {
   "cell_type": "code",
   "execution_count": 6,
   "id": "deluxe-network",
   "metadata": {},
   "outputs": [
    {
     "name": "stdout",
     "output_type": "stream",
     "text": [
      "Dev-set accuracy is\n",
      "0.638\n",
      "Test accuracy is\n",
      "0.67\n"
     ]
    }
   ],
   "source": [
    "train_dataset_first_letter = [(first_letter(n), g) for (n,g) in data_train]\n",
    "devtest_dataset_first_letter = [(first_letter(n), g) for (n,g) in data_devtest]\n",
    "test_dataset_first_letter = [(first_letter(n), g) for (n,g) in data_test]\n",
    "nb1 = nltk.NaiveBayesClassifier.train(train_dataset_first_letter) \n",
    "\n",
    "print('Dev-set accuracy is')\n",
    "print(nltk.classify.accuracy(nb1, devtest_dataset_first_letter))\n",
    "print('Test accuracy is')\n",
    "print(nltk.classify.accuracy(nb1, test_dataset_first_letter))"
   ]
  },
  {
   "cell_type": "code",
   "execution_count": 7,
   "id": "removable-setup",
   "metadata": {},
   "outputs": [
    {
     "name": "stdout",
     "output_type": "stream",
     "text": [
      "Number of Errors:  181\n",
      "correct=female   guess=male     name=Hedy                          \n",
      "correct=female   guess=male     name=Hestia                        \n",
      "correct=female   guess=male     name=Hetti                         \n",
      "correct=female   guess=male     name=Hildagarde                    \n",
      "correct=female   guess=male     name=Honoria                       \n",
      "correct=female   guess=male     name=Hyacinthie                    \n",
      "correct=female   guess=male     name=Hynda                         \n",
      "correct=female   guess=male     name=Wandie                        \n",
      "correct=female   guess=male     name=Wendy                         \n",
      "correct=female   guess=male     name=Willie                        \n",
      "correct=female   guess=male     name=Xena                          \n",
      "correct=male     guess=female   name=Adam                          \n",
      "correct=male     guess=female   name=Aditya                        \n",
      "correct=male     guess=female   name=Adolpho                       \n",
      "correct=male     guess=female   name=Alberto                       \n",
      "correct=male     guess=female   name=Alex                          \n",
      "correct=male     guess=female   name=Alwin                         \n",
      "correct=male     guess=female   name=Amery                         \n",
      "correct=male     guess=female   name=Andri                         \n",
      "correct=male     guess=female   name=Andrus                        \n",
      "correct=male     guess=female   name=Andrzej                       \n",
      "correct=male     guess=female   name=Ansel                         \n",
      "correct=male     guess=female   name=Antonino                      \n",
      "correct=male     guess=female   name=Aram                          \n",
      "correct=male     guess=female   name=Arel                          \n",
      "correct=male     guess=female   name=Avery                         \n",
      "correct=male     guess=female   name=Avi                           \n",
      "correct=male     guess=female   name=Barclay                       \n",
      "correct=male     guess=female   name=Bennet                        \n",
      "correct=male     guess=female   name=Beowulf                       \n",
      "correct=male     guess=female   name=Bernardo                      \n",
      "correct=male     guess=female   name=Bernie                        \n",
      "correct=male     guess=female   name=Blair                         \n",
      "correct=male     guess=female   name=Brandy                        \n",
      "correct=male     guess=female   name=Brewster                      \n",
      "correct=male     guess=female   name=Bronson                       \n",
      "correct=male     guess=female   name=Carson                        \n",
      "correct=male     guess=female   name=Carsten                       \n",
      "correct=male     guess=female   name=Chandler                      \n",
      "correct=male     guess=female   name=Chev                          \n",
      "correct=male     guess=female   name=Chip                          \n",
      "correct=male     guess=female   name=Chrissy                       \n",
      "correct=male     guess=female   name=Christiano                    \n",
      "correct=male     guess=female   name=Claudio                       \n",
      "correct=male     guess=female   name=Claudius                      \n",
      "correct=male     guess=female   name=Cletus                        \n",
      "correct=male     guess=female   name=Clinten                       \n",
      "correct=male     guess=female   name=Cob                           \n",
      "correct=male     guess=female   name=Cornelius                     \n",
      "correct=male     guess=female   name=Cosmo                         \n",
      "correct=male     guess=female   name=Darwin                        \n",
      "correct=male     guess=female   name=David                         \n",
      "correct=male     guess=female   name=Davin                         \n",
      "correct=male     guess=female   name=Dietrich                      \n",
      "correct=male     guess=female   name=Dimitri                       \n",
      "correct=male     guess=female   name=Dom                           \n",
      "correct=male     guess=female   name=Don                           \n",
      "correct=male     guess=female   name=Donny                         \n",
      "correct=male     guess=female   name=Durand                        \n",
      "correct=male     guess=female   name=Earl                          \n",
      "correct=male     guess=female   name=Edmond                        \n",
      "correct=male     guess=female   name=Elden                         \n",
      "correct=male     guess=female   name=Emmet                         \n",
      "correct=male     guess=female   name=Ephrayim                      \n",
      "correct=male     guess=female   name=Ernest                        \n",
      "correct=male     guess=female   name=Ernie                         \n",
      "correct=male     guess=female   name=Erny                          \n",
      "correct=male     guess=female   name=Erwin                         \n",
      "correct=male     guess=female   name=Euclid                        \n",
      "correct=male     guess=female   name=Ezekiel                       \n",
      "correct=male     guess=female   name=Filip                         \n",
      "correct=male     guess=female   name=Franky                        \n",
      "correct=male     guess=female   name=Fraser                        \n",
      "correct=male     guess=female   name=Gamaliel                      \n",
      "correct=male     guess=female   name=Garcia                        \n",
      "correct=male     guess=female   name=Garfinkel                     \n",
      "correct=male     guess=female   name=Garth                         \n",
      "correct=male     guess=female   name=Garvey                        \n",
      "correct=male     guess=female   name=Giles                         \n",
      "correct=male     guess=female   name=Goober                        \n",
      "correct=male     guess=female   name=Gordan                        \n",
      "correct=male     guess=female   name=Ibrahim                       \n",
      "correct=male     guess=female   name=Iggie                         \n",
      "correct=male     guess=female   name=Ignace                        \n",
      "correct=male     guess=female   name=Ingamar                       \n",
      "correct=male     guess=female   name=Ingmar                        \n",
      "correct=male     guess=female   name=Isadore                       \n",
      "correct=male     guess=female   name=Jaime                         \n",
      "correct=male     guess=female   name=Jeb                           \n",
      "correct=male     guess=female   name=Jeffie                        \n",
      "correct=male     guess=female   name=Jerome                        \n",
      "correct=male     guess=female   name=Joel                          \n",
      "correct=male     guess=female   name=Johann                        \n",
      "correct=male     guess=female   name=Jonah                         \n",
      "correct=male     guess=female   name=Josh                          \n",
      "correct=male     guess=female   name=Juanita                       \n",
      "correct=male     guess=female   name=Kelley                        \n",
      "correct=male     guess=female   name=Kelly                         \n",
      "correct=male     guess=female   name=Laird                         \n",
      "correct=male     guess=female   name=Lemuel                        \n",
      "correct=male     guess=female   name=Leo                           \n",
      "correct=male     guess=female   name=Lev                           \n",
      "correct=male     guess=female   name=Lew                           \n",
      "correct=male     guess=female   name=Lind                          \n",
      "correct=male     guess=female   name=Luce                          \n",
      "correct=male     guess=female   name=Maddie                        \n",
      "correct=male     guess=female   name=Mahesh                        \n",
      "correct=male     guess=female   name=Marcellus                     \n",
      "correct=male     guess=female   name=Mateo                         \n",
      "correct=male     guess=female   name=Maximilian                    \n",
      "correct=male     guess=female   name=Mayor                         \n",
      "correct=male     guess=female   name=Menard                        \n",
      "correct=male     guess=female   name=Mic                           \n",
      "correct=male     guess=female   name=Mick                          \n",
      "correct=male     guess=female   name=Moises                        \n",
      "correct=male     guess=female   name=Morse                         \n",
      "correct=male     guess=female   name=Moss                          \n",
      "correct=male     guess=female   name=Mustafa                       \n",
      "correct=male     guess=female   name=Nathanial                     \n",
      "correct=male     guess=female   name=Nester                        \n",
      "correct=male     guess=female   name=Niccolo                       \n",
      "correct=male     guess=female   name=Nikki                         \n",
      "correct=male     guess=female   name=Noah                          \n",
      "correct=male     guess=female   name=Noble                         \n",
      "correct=male     guess=female   name=Norm                          \n",
      "correct=male     guess=female   name=Norris                        \n",
      "correct=male     guess=female   name=Northrop                      \n",
      "correct=male     guess=female   name=Oberon                        \n",
      "correct=male     guess=female   name=Orazio                        \n",
      "correct=male     guess=female   name=Othello                       \n",
      "correct=male     guess=female   name=Paco                          \n",
      "correct=male     guess=female   name=Parrnell                      \n",
      "correct=male     guess=female   name=Partha                        \n",
      "correct=male     guess=female   name=Patty                         \n",
      "correct=male     guess=female   name=Pembroke                      \n",
      "correct=male     guess=female   name=Perceval                      \n",
      "correct=male     guess=female   name=Peyter                        \n",
      "correct=male     guess=female   name=Price                         \n",
      "correct=male     guess=female   name=Ray                           \n",
      "correct=male     guess=female   name=Renado                        \n",
      "correct=male     guess=female   name=Rene                          \n",
      "correct=male     guess=female   name=Ritch                         \n",
      "correct=male     guess=female   name=Roberto                       \n",
      "correct=male     guess=female   name=Rod                           \n",
      "correct=male     guess=female   name=Rodge                         \n",
      "correct=male     guess=female   name=Rodolfo                       \n",
      "correct=male     guess=female   name=Rodrigo                       \n",
      "correct=male     guess=female   name=Rowland                       \n",
      "correct=male     guess=female   name=Royce                         \n",
      "correct=male     guess=female   name=Ruddie                        \n",
      "correct=male     guess=female   name=Rudie                         \n",
      "correct=male     guess=female   name=Sam                           \n",
      "correct=male     guess=female   name=Sheffie                       \n",
      "correct=male     guess=female   name=Sherwin                       \n",
      "correct=male     guess=female   name=Silvanus                      \n",
      "correct=male     guess=female   name=Simone                        \n",
      "correct=male     guess=female   name=Sinclare                      \n",
      "correct=male     guess=female   name=Sivert                        \n",
      "correct=male     guess=female   name=Smith                         \n",
      "correct=male     guess=female   name=Son                           \n",
      "correct=male     guess=female   name=Spiros                        \n",
      "correct=male     guess=female   name=Stefan                        \n",
      "correct=male     guess=female   name=Stern                         \n",
      "correct=male     guess=female   name=Stirling                      \n",
      "correct=male     guess=female   name=Stuart                        \n",
      "correct=male     guess=female   name=Tabby                         \n",
      "correct=male     guess=female   name=Taddeo                        \n",
      "correct=male     guess=female   name=Taite                         \n",
      "correct=male     guess=female   name=Timmie                        \n",
      "correct=male     guess=female   name=Toddie                        \n",
      "correct=male     guess=female   name=Torre                         \n",
      "correct=male     guess=female   name=Torry                         \n",
      "correct=male     guess=female   name=Traver                        \n",
      "correct=male     guess=female   name=Tymon                         \n",
      "correct=male     guess=female   name=Tyrone                        \n",
      "correct=male     guess=female   name=Valdemar                      \n",
      "correct=male     guess=female   name=Valentin                      \n",
      "correct=male     guess=female   name=Vance                         \n",
      "correct=male     guess=female   name=Vern                          \n",
      "correct=male     guess=female   name=Virge                         \n",
      "correct=male     guess=female   name=Yancey                        \n"
     ]
    },
    {
     "data": {
      "text/plain": [
       "181"
      ]
     },
     "execution_count": 7,
     "metadata": {},
     "output_type": "execute_result"
    }
   ],
   "source": [
    "error_analysis(first_letter,nb1,display=True)"
   ]
  },
  {
   "cell_type": "markdown",
   "id": "armed-academy",
   "metadata": {},
   "source": [
    "#### Last Letter function :"
   ]
  },
  {
   "cell_type": "code",
   "execution_count": 8,
   "id": "senior-prerequisite",
   "metadata": {},
   "outputs": [],
   "source": [
    "def last_letter(name):\n",
    "    features = {}\n",
    "    features[\"last_letter\"] = name[-1].lower()\n",
    "    return features"
   ]
  },
  {
   "cell_type": "code",
   "execution_count": 9,
   "id": "classified-sleep",
   "metadata": {},
   "outputs": [
    {
     "name": "stdout",
     "output_type": "stream",
     "text": [
      "Dev-set accuracy is\n",
      "0.736\n",
      "Test accuracy is\n",
      "0.716\n"
     ]
    }
   ],
   "source": [
    "train_dataset_last_letter = [(last_letter(n), g) for (n,g) in data_train]\n",
    "devtest_dataset_last_letter = [(last_letter(n), g) for (n,g) in data_devtest]\n",
    "test_dataset_last_letter = [(last_letter(n), g) for (n,g) in data_test]\n",
    "nb2 = nltk.NaiveBayesClassifier.train(train_dataset_last_letter) \n",
    "print('Dev-set accuracy is')\n",
    "print(nltk.classify.accuracy(nb2, devtest_dataset_last_letter))\n",
    "print('Test accuracy is')\n",
    "print(nltk.classify.accuracy(nb2, test_dataset_last_letter))"
   ]
  },
  {
   "cell_type": "code",
   "execution_count": 10,
   "id": "regional-crime",
   "metadata": {},
   "outputs": [
    {
     "name": "stdout",
     "output_type": "stream",
     "text": [
      "Number of Errors:  132\n",
      "correct=female   guess=male     name=Adelind                       \n",
      "correct=female   guess=male     name=Allis                         \n",
      "correct=female   guess=male     name=Annabal                       \n",
      "correct=female   guess=male     name=Bell                          \n",
      "correct=female   guess=male     name=Beryl                         \n",
      "correct=female   guess=male     name=Caron                         \n",
      "correct=female   guess=male     name=Cathleen                      \n",
      "correct=female   guess=male     name=Charis                        \n",
      "correct=female   guess=male     name=Charmain                      \n",
      "correct=female   guess=male     name=Christin                      \n",
      "correct=female   guess=male     name=Coralyn                       \n",
      "correct=female   guess=male     name=Cris                          \n",
      "correct=female   guess=male     name=Dyan                          \n",
      "correct=female   guess=male     name=Ellynn                        \n",
      "correct=female   guess=male     name=Fiann                         \n",
      "correct=female   guess=male     name=Gates                         \n",
      "correct=female   guess=male     name=Gen                           \n",
      "correct=female   guess=male     name=Gill                          \n",
      "correct=female   guess=male     name=Gretel                        \n",
      "correct=female   guess=male     name=Ines                          \n",
      "correct=female   guess=male     name=Ingaberg                      \n",
      "correct=female   guess=male     name=Jacklin                       \n",
      "correct=female   guess=male     name=Jaquelyn                      \n",
      "correct=female   guess=male     name=Jilleen                       \n",
      "correct=female   guess=male     name=Jonis                         \n",
      "correct=female   guess=male     name=Joselyn                       \n",
      "correct=female   guess=male     name=Karon                         \n",
      "correct=female   guess=male     name=Karyl                         \n",
      "correct=female   guess=male     name=Kellyann                      \n",
      "correct=female   guess=male     name=Keriann                       \n",
      "correct=female   guess=male     name=Kevyn                         \n",
      "correct=female   guess=male     name=Lauryn                        \n",
      "correct=female   guess=male     name=Lurleen                       \n",
      "correct=female   guess=male     name=Maegan                        \n",
      "correct=female   guess=male     name=Margalit                      \n",
      "correct=female   guess=male     name=Marget                        \n",
      "correct=female   guess=male     name=Marin                         \n",
      "correct=female   guess=male     name=Marj                          \n",
      "correct=female   guess=male     name=Marlyn                        \n",
      "correct=female   guess=male     name=Maryangelyn                   \n",
      "correct=female   guess=male     name=Megan                         \n",
      "correct=female   guess=male     name=Mehetabel                     \n",
      "correct=female   guess=male     name=Michell                       \n",
      "correct=female   guess=male     name=Milissent                     \n",
      "correct=female   guess=male     name=Nat                           \n",
      "correct=female   guess=male     name=Pen                           \n",
      "correct=female   guess=male     name=Phylis                        \n",
      "correct=female   guess=male     name=Ragnhild                      \n",
      "correct=female   guess=male     name=Rayshell                      \n",
      "correct=female   guess=male     name=Robbin                        \n",
      "correct=female   guess=male     name=Rochell                       \n",
      "correct=female   guess=male     name=Rosaleen                      \n",
      "correct=female   guess=male     name=Rosalyn                       \n",
      "correct=female   guess=male     name=Saraann                       \n",
      "correct=female   guess=male     name=Sean                          \n",
      "correct=female   guess=male     name=Sher                          \n",
      "correct=female   guess=male     name=Sib                           \n",
      "correct=female   guess=male     name=Sileas                        \n",
      "correct=female   guess=male     name=Susan                         \n",
      "correct=female   guess=male     name=Suzan                         \n",
      "correct=female   guess=male     name=Vivien                        \n",
      "correct=male     guess=female   name=Aditya                        \n",
      "correct=male     guess=female   name=Alex                          \n",
      "correct=male     guess=female   name=Amery                         \n",
      "correct=male     guess=female   name=Andri                         \n",
      "correct=male     guess=female   name=Avery                         \n",
      "correct=male     guess=female   name=Avi                           \n",
      "correct=male     guess=female   name=Barclay                       \n",
      "correct=male     guess=female   name=Bernie                        \n",
      "correct=male     guess=female   name=Brandy                        \n",
      "correct=male     guess=female   name=Chrissy                       \n",
      "correct=male     guess=female   name=Dietrich                      \n",
      "correct=male     guess=female   name=Dimitri                       \n",
      "correct=male     guess=female   name=Donny                         \n",
      "correct=male     guess=female   name=Ernie                         \n",
      "correct=male     guess=female   name=Erny                          \n",
      "correct=male     guess=female   name=Franky                        \n",
      "correct=male     guess=female   name=Garcia                        \n",
      "correct=male     guess=female   name=Garth                         \n",
      "correct=male     guess=female   name=Garvey                        \n",
      "correct=male     guess=female   name=Herbie                        \n",
      "correct=male     guess=female   name=Hersch                        \n",
      "correct=male     guess=female   name=Hewie                         \n",
      "correct=male     guess=female   name=Hezekiah                      \n",
      "correct=male     guess=female   name=Hodge                         \n",
      "correct=male     guess=female   name=Holly                         \n",
      "correct=male     guess=female   name=Horace                        \n",
      "correct=male     guess=female   name=Iggie                         \n",
      "correct=male     guess=female   name=Ignace                        \n",
      "correct=male     guess=female   name=Isadore                       \n",
      "correct=male     guess=female   name=Jaime                         \n",
      "correct=male     guess=female   name=Jeffie                        \n",
      "correct=male     guess=female   name=Jerome                        \n",
      "correct=male     guess=female   name=Jonah                         \n",
      "correct=male     guess=female   name=Josh                          \n",
      "correct=male     guess=female   name=Juanita                       \n",
      "correct=male     guess=female   name=Kelley                        \n",
      "correct=male     guess=female   name=Kelly                         \n",
      "correct=male     guess=female   name=Luce                          \n",
      "correct=male     guess=female   name=Maddie                        \n",
      "correct=male     guess=female   name=Mahesh                        \n",
      "correct=male     guess=female   name=Morse                         \n",
      "correct=male     guess=female   name=Mustafa                       \n",
      "correct=male     guess=female   name=Nikki                         \n",
      "correct=male     guess=female   name=Noah                          \n",
      "correct=male     guess=female   name=Noble                         \n",
      "correct=male     guess=female   name=Partha                        \n",
      "correct=male     guess=female   name=Patty                         \n",
      "correct=male     guess=female   name=Pembroke                      \n",
      "correct=male     guess=female   name=Price                         \n",
      "correct=male     guess=female   name=Ray                           \n",
      "correct=male     guess=female   name=Rene                          \n",
      "correct=male     guess=female   name=Ritch                         \n",
      "correct=male     guess=female   name=Rodge                         \n",
      "correct=male     guess=female   name=Royce                         \n",
      "correct=male     guess=female   name=Ruddie                        \n",
      "correct=male     guess=female   name=Rudie                         \n",
      "correct=male     guess=female   name=Sheffie                       \n",
      "correct=male     guess=female   name=Simone                        \n",
      "correct=male     guess=female   name=Sinclare                      \n",
      "correct=male     guess=female   name=Smith                         \n",
      "correct=male     guess=female   name=Tabby                         \n",
      "correct=male     guess=female   name=Taite                         \n",
      "correct=male     guess=female   name=Timmie                        \n",
      "correct=male     guess=female   name=Toddie                        \n",
      "correct=male     guess=female   name=Torre                         \n",
      "correct=male     guess=female   name=Torry                         \n",
      "correct=male     guess=female   name=Tyrone                        \n",
      "correct=male     guess=female   name=Vance                         \n",
      "correct=male     guess=female   name=Virge                         \n",
      "correct=male     guess=female   name=Welbie                        \n",
      "correct=male     guess=female   name=Yancey                        \n"
     ]
    },
    {
     "data": {
      "text/plain": [
       "132"
      ]
     },
     "execution_count": 10,
     "metadata": {},
     "output_type": "execute_result"
    }
   ],
   "source": [
    "error_analysis(last_letter,nb2,display=True)"
   ]
  },
  {
   "cell_type": "markdown",
   "id": "moving-costs",
   "metadata": {},
   "source": [
    "#### Gender Features function from book"
   ]
  },
  {
   "cell_type": "code",
   "execution_count": 11,
   "id": "framed-heritage",
   "metadata": {},
   "outputs": [],
   "source": [
    "def gender_features_from_book(name):\n",
    "    features = {}\n",
    "    features[\"first_letter\"] = name[0].lower()\n",
    "    features[\"last_letter\"] = name[-1].lower()\n",
    "    for letter in 'abcdefghijklmnopqrstuvwxyz':\n",
    "        features[\"count({})\".format(letter)] = name.lower().count(letter)\n",
    "        features[\"has({})\".format(letter)] = (letter in name.lower())\n",
    "    return features"
   ]
  },
  {
   "cell_type": "code",
   "execution_count": 12,
   "id": "southern-sally",
   "metadata": {},
   "outputs": [
    {
     "name": "stdout",
     "output_type": "stream",
     "text": [
      "Devset accuracy is\n",
      "0.772\n",
      "Test accuracy is\n",
      "0.734\n"
     ]
    }
   ],
   "source": [
    "train_dataset_gender_features_from_book = [(gender_features_from_book(n), g) for (n,g) in data_train]\n",
    "devtest_dataset_gender_features_from_book = [(gender_features_from_book(n), g) for (n,g) in data_devtest]\n",
    "test_dataset_gender_features_from_book = [(gender_features_from_book(n), g) for (n,g) in data_test]\n",
    "classifier = nltk.NaiveBayesClassifier.train(train_dataset_gender_features_from_book)\n",
    "nb3 = nltk.NaiveBayesClassifier.train(train_dataset_gender_features_from_book) \n",
    "print('Devset accuracy is')\n",
    "print(nltk.classify.accuracy(nb3, devtest_dataset_gender_features_from_book))\n",
    "print('Test accuracy is')\n",
    "print(nltk.classify.accuracy(nb3, test_dataset_gender_features_from_book))"
   ]
  },
  {
   "cell_type": "code",
   "execution_count": 13,
   "id": "operational-bulletin",
   "metadata": {},
   "outputs": [
    {
     "name": "stdout",
     "output_type": "stream",
     "text": [
      "Number of Errors:  114\n",
      "correct=female   guess=male     name=Auguste                       \n",
      "correct=female   guess=male     name=Berte                         \n",
      "correct=female   guess=male     name=Beryl                         \n",
      "correct=female   guess=male     name=Bobbie                        \n",
      "correct=female   guess=male     name=Caron                         \n",
      "correct=female   guess=male     name=Charis                        \n",
      "correct=female   guess=male     name=Chery                         \n",
      "correct=female   guess=male     name=Christin                      \n",
      "correct=female   guess=male     name=Courtenay                     \n",
      "correct=female   guess=male     name=Cris                          \n",
      "correct=female   guess=male     name=Farah                         \n",
      "correct=female   guess=male     name=Florette                      \n",
      "correct=female   guess=male     name=Florrie                       \n",
      "correct=female   guess=male     name=Gates                         \n",
      "correct=female   guess=male     name=Gen                           \n",
      "correct=female   guess=male     name=Glory                         \n",
      "correct=female   guess=male     name=Gretel                        \n",
      "correct=female   guess=male     name=Guenevere                     \n",
      "correct=female   guess=male     name=Hedy                          \n",
      "correct=female   guess=male     name=Ines                          \n",
      "correct=female   guess=male     name=Jonis                         \n",
      "correct=female   guess=male     name=Joselyn                       \n",
      "correct=female   guess=male     name=Judy                          \n",
      "correct=female   guess=male     name=Karon                         \n",
      "correct=female   guess=male     name=Lurleen                       \n",
      "correct=female   guess=male     name=Marget                        \n",
      "correct=female   guess=male     name=Marj                          \n",
      "correct=female   guess=male     name=Mufi                          \n",
      "correct=female   guess=male     name=Pauly                         \n",
      "correct=female   guess=male     name=Pen                           \n",
      "correct=female   guess=male     name=Philly                        \n",
      "correct=female   guess=male     name=Phylis                        \n",
      "correct=female   guess=male     name=Ragnhild                      \n",
      "correct=female   guess=male     name=Rayshell                      \n",
      "correct=female   guess=male     name=Robbin                        \n",
      "correct=female   guess=male     name=Rochell                       \n",
      "correct=female   guess=male     name=Rorie                         \n",
      "correct=female   guess=male     name=Rosaleen                      \n",
      "correct=female   guess=male     name=Rosalyn                       \n",
      "correct=female   guess=male     name=Rubie                         \n",
      "correct=female   guess=male     name=Ruthy                         \n",
      "correct=female   guess=male     name=Sheeree                       \n",
      "correct=female   guess=male     name=Sher                          \n",
      "correct=female   guess=male     name=Sherri                        \n",
      "correct=female   guess=male     name=Shoshie                       \n",
      "correct=female   guess=male     name=Sib                           \n",
      "correct=female   guess=male     name=Siouxie                       \n",
      "correct=female   guess=male     name=Sophie                        \n",
      "correct=female   guess=male     name=Stormy                        \n",
      "correct=female   guess=male     name=Susan                         \n",
      "correct=female   guess=male     name=Suzan                         \n",
      "correct=female   guess=male     name=Suzette                       \n",
      "correct=female   guess=male     name=Suzi                          \n",
      "correct=female   guess=male     name=Sydney                        \n",
      "correct=female   guess=male     name=Tobie                         \n",
      "correct=female   guess=male     name=Tracey                        \n",
      "correct=female   guess=male     name=Wandie                        \n",
      "correct=female   guess=male     name=Wendy                         \n",
      "correct=female   guess=male     name=Willie                        \n",
      "correct=male     guess=female   name=Aditya                        \n",
      "correct=male     guess=female   name=Alex                          \n",
      "correct=male     guess=female   name=Amery                         \n",
      "correct=male     guess=female   name=Andri                         \n",
      "correct=male     guess=female   name=Ansel                         \n",
      "correct=male     guess=female   name=Arel                          \n",
      "correct=male     guess=female   name=Avery                         \n",
      "correct=male     guess=female   name=Avi                           \n",
      "correct=male     guess=female   name=Barclay                       \n",
      "correct=male     guess=female   name=Bernie                        \n",
      "correct=male     guess=female   name=Chrissy                       \n",
      "correct=male     guess=female   name=Clinten                       \n",
      "correct=male     guess=female   name=Davin                         \n",
      "correct=male     guess=female   name=Earl                          \n",
      "correct=male     guess=female   name=Elden                         \n",
      "correct=male     guess=female   name=Ernie                         \n",
      "correct=male     guess=female   name=Erny                          \n",
      "correct=male     guess=female   name=Ezekiel                       \n",
      "correct=male     guess=female   name=Gamaliel                      \n",
      "correct=male     guess=female   name=Garcia                        \n",
      "correct=male     guess=female   name=Garfinkel                     \n",
      "correct=male     guess=female   name=Hanan                         \n",
      "correct=male     guess=female   name=Herbie                        \n",
      "correct=male     guess=female   name=Hezekiah                      \n",
      "correct=male     guess=female   name=Iggie                         \n",
      "correct=male     guess=female   name=Ignace                        \n",
      "correct=male     guess=female   name=Ingamar                       \n",
      "correct=male     guess=female   name=Isadore                       \n",
      "correct=male     guess=female   name=Jaime                         \n",
      "correct=male     guess=female   name=Jeffie                        \n",
      "correct=male     guess=female   name=Juanita                       \n",
      "correct=male     guess=female   name=Kelley                        \n",
      "correct=male     guess=female   name=Kelly                         \n",
      "correct=male     guess=female   name=Laird                         \n",
      "correct=male     guess=female   name=Lemuel                        \n",
      "correct=male     guess=female   name=Lind                          \n",
      "correct=male     guess=female   name=Luce                          \n",
      "correct=male     guess=female   name=Maddie                        \n",
      "correct=male     guess=female   name=Maximilian                    \n",
      "correct=male     guess=female   name=Mustafa                       \n",
      "correct=male     guess=female   name=Nathanial                     \n",
      "correct=male     guess=female   name=Nikki                         \n",
      "correct=male     guess=female   name=Noble                         \n",
      "correct=male     guess=female   name=Partha                        \n",
      "correct=male     guess=female   name=Ray                           \n",
      "correct=male     guess=female   name=Rene                          \n",
      "correct=male     guess=female   name=Simone                        \n",
      "correct=male     guess=female   name=Sinclare                      \n",
      "correct=male     guess=female   name=Tabby                         \n",
      "correct=male     guess=female   name=Taite                         \n",
      "correct=male     guess=female   name=Timmie                        \n",
      "correct=male     guess=female   name=Valentin                      \n",
      "correct=male     guess=female   name=Vance                         \n",
      "correct=male     guess=female   name=Virge                         \n",
      "correct=male     guess=female   name=Yancey                        \n"
     ]
    },
    {
     "data": {
      "text/plain": [
       "114"
      ]
     },
     "execution_count": 13,
     "metadata": {},
     "output_type": "execute_result"
    }
   ],
   "source": [
    "error_analysis(gender_features_from_book,nb3,display=True)"
   ]
  },
  {
   "cell_type": "markdown",
   "id": "constant-dining",
   "metadata": {},
   "source": [
    "#### Update Gender Features function :"
   ]
  },
  {
   "cell_type": "code",
   "execution_count": 14,
   "id": "angry-observer",
   "metadata": {},
   "outputs": [],
   "source": [
    "# define second version of gender features\n",
    "def gender_features_updated(name):\n",
    "    features = {}\n",
    "    features[\"first_letter\"] = name[0].lower()\n",
    "    features[\"last_letter\"] = name[-1].lower()\n",
    "    for letter in \"abcdefghijklmnopqrstuvwxyz\":\n",
    "        features[\"count({})\".format(letter)] = name.lower().count(letter)\n",
    "        features[\"has({})\".format(letter)] = (letter in name.lower())\n",
    "    features[\"suffix2\"] = name[-2:].lower()\n",
    "    features[\"suffix3\"] = name[-3:].lower()\n",
    "    features[\"prefix2\"] = name[:2].lower()\n",
    "    features[\"prefix3\"] = name[:3].lower()\n",
    "    return features"
   ]
  },
  {
   "cell_type": "code",
   "execution_count": 15,
   "id": "everyday-constitutional",
   "metadata": {},
   "outputs": [
    {
     "name": "stdout",
     "output_type": "stream",
     "text": [
      "Devset accuracy is\n",
      "0.804\n",
      "Test accuracy is\n",
      "0.796\n"
     ]
    }
   ],
   "source": [
    "train_dataset_gender_features_updated = [(gender_features_updated(n), g) for (n,g) in data_train]\n",
    "devtest_dataset_gender_features_updated = [(gender_features_updated(n), g) for (n,g) in data_devtest]\n",
    "test_dataset_gender_features_updated = [(gender_features_updated(n), g) for (n,g) in data_test]\n",
    "nb4 = nltk.NaiveBayesClassifier.train(train_dataset_gender_features_updated) \n",
    "print('Devset accuracy is')\n",
    "print(nltk.classify.accuracy(nb4, devtest_dataset_gender_features_updated))\n",
    "print('Test accuracy is')\n",
    "print(nltk.classify.accuracy(nb4, test_dataset_gender_features_updated))"
   ]
  },
  {
   "cell_type": "code",
   "execution_count": 16,
   "id": "sunset-submission",
   "metadata": {
    "scrolled": true
   },
   "outputs": [
    {
     "name": "stdout",
     "output_type": "stream",
     "text": [
      "Number of Errors:  98\n",
      "correct=female   guess=male     name=Ajay                          \n",
      "correct=female   guess=male     name=Caron                         \n",
      "correct=female   guess=male     name=Charis                        \n",
      "correct=female   guess=male     name=Charmain                      \n",
      "correct=female   guess=male     name=Chery                         \n",
      "correct=female   guess=male     name=Christin                      \n",
      "correct=female   guess=male     name=Courtenay                     \n",
      "correct=female   guess=male     name=Evey                          \n",
      "correct=female   guess=male     name=Gates                         \n",
      "correct=female   guess=male     name=Gen                           \n",
      "correct=female   guess=male     name=Gill                          \n",
      "correct=female   guess=male     name=Gretel                        \n",
      "correct=female   guess=male     name=Guenevere                     \n",
      "correct=female   guess=male     name=Hedy                          \n",
      "correct=female   guess=male     name=Hildagarde                    \n",
      "correct=female   guess=male     name=Ines                          \n",
      "correct=female   guess=male     name=Jonis                         \n",
      "correct=female   guess=male     name=Judy                          \n",
      "correct=female   guess=male     name=Karon                         \n",
      "correct=female   guess=male     name=Kevyn                         \n",
      "correct=female   guess=male     name=Maegan                        \n",
      "correct=female   guess=male     name=Marj                          \n",
      "correct=female   guess=male     name=Mei                           \n",
      "correct=female   guess=male     name=Michell                       \n",
      "correct=female   guess=male     name=Milissent                     \n",
      "correct=female   guess=male     name=Mufi                          \n",
      "correct=female   guess=male     name=Nat                           \n",
      "correct=female   guess=male     name=Paule                         \n",
      "correct=female   guess=male     name=Pauly                         \n",
      "correct=female   guess=male     name=Pen                           \n",
      "correct=female   guess=male     name=Pepi                          \n",
      "correct=female   guess=male     name=Phylis                        \n",
      "correct=female   guess=male     name=Ragnhild                      \n",
      "correct=female   guess=male     name=Rayshell                      \n",
      "correct=female   guess=male     name=Reggie                        \n",
      "correct=female   guess=male     name=Robbin                        \n",
      "correct=female   guess=male     name=Rochell                       \n",
      "correct=female   guess=male     name=Rubie                         \n",
      "correct=female   guess=male     name=Ruthy                         \n",
      "correct=female   guess=male     name=Sean                          \n",
      "correct=female   guess=male     name=Sher                          \n",
      "correct=female   guess=male     name=Shoshie                       \n",
      "correct=female   guess=male     name=Sib                           \n",
      "correct=female   guess=male     name=Sileas                        \n",
      "correct=female   guess=male     name=Stormy                        \n",
      "correct=female   guess=male     name=Susan                         \n",
      "correct=female   guess=male     name=Suzan                         \n",
      "correct=female   guess=male     name=Sydney                        \n",
      "correct=female   guess=male     name=Tobie                         \n",
      "correct=female   guess=male     name=Tracey                        \n",
      "correct=female   guess=male     name=Wandie                        \n",
      "correct=female   guess=male     name=Wendy                         \n",
      "correct=female   guess=male     name=Willie                        \n",
      "correct=male     guess=female   name=Aditya                        \n",
      "correct=male     guess=female   name=Alex                          \n",
      "correct=male     guess=female   name=Amery                         \n",
      "correct=male     guess=female   name=Andri                         \n",
      "correct=male     guess=female   name=Ansel                         \n",
      "correct=male     guess=female   name=Arel                          \n",
      "correct=male     guess=female   name=Avi                           \n",
      "correct=male     guess=female   name=Bennet                        \n",
      "correct=male     guess=female   name=Bernie                        \n",
      "correct=male     guess=female   name=Blair                         \n",
      "correct=male     guess=female   name=Brandy                        \n",
      "correct=male     guess=female   name=Carsten                       \n",
      "correct=male     guess=female   name=Chrissy                       \n",
      "correct=male     guess=female   name=Donny                         \n",
      "correct=male     guess=female   name=Earl                          \n",
      "correct=male     guess=female   name=Ernie                         \n",
      "correct=male     guess=female   name=Erny                          \n",
      "correct=male     guess=female   name=Gamaliel                      \n",
      "correct=male     guess=female   name=Garcia                        \n",
      "correct=male     guess=female   name=Isadore                       \n",
      "correct=male     guess=female   name=Jaime                         \n",
      "correct=male     guess=female   name=Johann                        \n",
      "correct=male     guess=female   name=Jonah                         \n",
      "correct=male     guess=female   name=Juanita                       \n",
      "correct=male     guess=female   name=Kelley                        \n",
      "correct=male     guess=female   name=Kelly                         \n",
      "correct=male     guess=female   name=Lind                          \n",
      "correct=male     guess=female   name=Luce                          \n",
      "correct=male     guess=female   name=Maddie                        \n",
      "correct=male     guess=female   name=Mustafa                       \n",
      "correct=male     guess=female   name=Nathanial                     \n",
      "correct=male     guess=female   name=Nikki                         \n",
      "correct=male     guess=female   name=Noah                          \n",
      "correct=male     guess=female   name=Noble                         \n",
      "correct=male     guess=female   name=Partha                        \n",
      "correct=male     guess=female   name=Price                         \n",
      "correct=male     guess=female   name=Rene                          \n",
      "correct=male     guess=female   name=Sheffie                       \n",
      "correct=male     guess=female   name=Simone                        \n",
      "correct=male     guess=female   name=Sinclare                      \n",
      "correct=male     guess=female   name=Tabby                         \n",
      "correct=male     guess=female   name=Taite                         \n",
      "correct=male     guess=female   name=Timmie                        \n",
      "correct=male     guess=female   name=Valentin                      \n",
      "correct=male     guess=female   name=Vance                         \n"
     ]
    },
    {
     "data": {
      "text/plain": [
       "98"
      ]
     },
     "execution_count": 16,
     "metadata": {},
     "output_type": "execute_result"
    }
   ],
   "source": [
    "error_analysis(gender_features_updated,nb4,True)"
   ]
  },
  {
   "cell_type": "markdown",
   "id": "impressive-preservation",
   "metadata": {},
   "source": [
    "####  Custom Function :"
   ]
  },
  {
   "cell_type": "markdown",
   "id": "ecological-creator",
   "metadata": {},
   "source": [
    "Create a function to generate new features which are name's last letter, last two letters, the last 3 letters, the first 2 letters,the first 3 letters, and first 4 letters."
   ]
  },
  {
   "cell_type": "code",
   "execution_count": 17,
   "id": "fabulous-brick",
   "metadata": {},
   "outputs": [],
   "source": [
    "def custom_features(name):\n",
    "        features = {}\n",
    "        features[\"suffix1\"] = name[-1:].lower()\n",
    "        features[\"suffix2\"] = name[-2:].lower()\n",
    "        features[\"suffix3\"] = name[-3:].lower()\n",
    "        features[\"prefix2\"] = name[:2].lower()\n",
    "        features[\"prefix3\"] = name[:3].lower()\n",
    "        features[\"prefix4\"] = name[:4].lower()\n",
    "        return features\n"
   ]
  },
  {
   "cell_type": "code",
   "execution_count": 18,
   "id": "communist-paste",
   "metadata": {},
   "outputs": [
    {
     "name": "stdout",
     "output_type": "stream",
     "text": [
      "Devset accuracy is\n",
      "0.82\n",
      "Test accuracy is\n",
      "0.79\n"
     ]
    }
   ],
   "source": [
    "train_dataset_custom_features = [(custom_features(n), g) for (n,g) in data_train]\n",
    "devtest_dataset_custom_features = [(custom_features(n), g) for (n,g) in data_devtest]\n",
    "test_dataset_custom_features = [(custom_features(n), g) for (n,g) in data_test]\n",
    "nb5 = nltk.NaiveBayesClassifier.train(train_dataset_custom_features) \n",
    "print('Devset accuracy is')\n",
    "print(nltk.classify.accuracy(nb4, devtest_dataset_custom_features))\n",
    "print('Test accuracy is')\n",
    "print(nltk.classify.accuracy(nb4, test_dataset_custom_features))"
   ]
  },
  {
   "cell_type": "code",
   "execution_count": 19,
   "id": "induced-throw",
   "metadata": {
    "scrolled": true
   },
   "outputs": [
    {
     "name": "stdout",
     "output_type": "stream",
     "text": [
      "Number of Errors:  82\n",
      "correct=female   guess=male     name=Ajay                          \n",
      "correct=female   guess=male     name=Allis                         \n",
      "correct=female   guess=male     name=Charis                        \n",
      "correct=female   guess=male     name=Charmain                      \n",
      "correct=female   guess=male     name=Christin                      \n",
      "correct=female   guess=male     name=Courtenay                     \n",
      "correct=female   guess=male     name=Evey                          \n",
      "correct=female   guess=male     name=Gates                         \n",
      "correct=female   guess=male     name=Gen                           \n",
      "correct=female   guess=male     name=Gill                          \n",
      "correct=female   guess=male     name=Gretel                        \n",
      "correct=female   guess=male     name=Ines                          \n",
      "correct=female   guess=male     name=Jaleh                         \n",
      "correct=female   guess=male     name=Jonis                         \n",
      "correct=female   guess=male     name=Judy                          \n",
      "correct=female   guess=male     name=Kevyn                         \n",
      "correct=female   guess=male     name=Maegan                        \n",
      "correct=female   guess=male     name=Mei                           \n",
      "correct=female   guess=male     name=Michell                       \n",
      "correct=female   guess=male     name=Milissent                     \n",
      "correct=female   guess=male     name=Nat                           \n",
      "correct=female   guess=male     name=Nicky                         \n",
      "correct=female   guess=male     name=Pen                           \n",
      "correct=female   guess=male     name=Pepi                          \n",
      "correct=female   guess=male     name=Ragnhild                      \n",
      "correct=female   guess=male     name=Rayshell                      \n",
      "correct=female   guess=male     name=Reggie                        \n",
      "correct=female   guess=male     name=Robbin                        \n",
      "correct=female   guess=male     name=Rochell                       \n",
      "correct=female   guess=male     name=Sean                          \n",
      "correct=female   guess=male     name=Sher                          \n",
      "correct=female   guess=male     name=Sileas                        \n",
      "correct=female   guess=male     name=Sydney                        \n",
      "correct=female   guess=male     name=Tobie                         \n",
      "correct=female   guess=male     name=Tracey                        \n",
      "correct=female   guess=male     name=Wandie                        \n",
      "correct=female   guess=male     name=Wendy                         \n",
      "correct=male     guess=female   name=Aditya                        \n",
      "correct=male     guess=female   name=Amery                         \n",
      "correct=male     guess=female   name=Andri                         \n",
      "correct=male     guess=female   name=Avi                           \n",
      "correct=male     guess=female   name=Bennet                        \n",
      "correct=male     guess=female   name=Bernie                        \n",
      "correct=male     guess=female   name=Blair                         \n",
      "correct=male     guess=female   name=Brandy                        \n",
      "correct=male     guess=female   name=Carsten                       \n",
      "correct=male     guess=female   name=Chrissy                       \n",
      "correct=male     guess=female   name=Donny                         \n",
      "correct=male     guess=female   name=Earl                          \n",
      "correct=male     guess=female   name=Ernie                         \n",
      "correct=male     guess=female   name=Erny                          \n",
      "correct=male     guess=female   name=Garcia                        \n",
      "correct=male     guess=female   name=Hodge                         \n",
      "correct=male     guess=female   name=Holly                         \n",
      "correct=male     guess=female   name=Isadore                       \n",
      "correct=male     guess=female   name=Jaime                         \n",
      "correct=male     guess=female   name=Joel                          \n",
      "correct=male     guess=female   name=Johann                        \n",
      "correct=male     guess=female   name=Jonah                         \n",
      "correct=male     guess=female   name=Juanita                       \n",
      "correct=male     guess=female   name=Kelley                        \n",
      "correct=male     guess=female   name=Kelly                         \n",
      "correct=male     guess=female   name=Luce                          \n",
      "correct=male     guess=female   name=Maddie                        \n",
      "correct=male     guess=female   name=Morse                         \n",
      "correct=male     guess=female   name=Mustafa                       \n",
      "correct=male     guess=female   name=Nathanial                     \n",
      "correct=male     guess=female   name=Nikki                         \n",
      "correct=male     guess=female   name=Noah                          \n",
      "correct=male     guess=female   name=Noble                         \n",
      "correct=male     guess=female   name=Norris                        \n",
      "correct=male     guess=female   name=Partha                        \n",
      "correct=male     guess=female   name=Patty                         \n",
      "correct=male     guess=female   name=Price                         \n",
      "correct=male     guess=female   name=Rene                          \n",
      "correct=male     guess=female   name=Simone                        \n",
      "correct=male     guess=female   name=Sinclare                      \n",
      "correct=male     guess=female   name=Tabby                         \n",
      "correct=male     guess=female   name=Taite                         \n",
      "correct=male     guess=female   name=Timmie                        \n",
      "correct=male     guess=female   name=Valentin                      \n",
      "correct=male     guess=female   name=Vance                         \n"
     ]
    },
    {
     "data": {
      "text/plain": [
       "82"
      ]
     },
     "execution_count": 19,
     "metadata": {},
     "output_type": "execute_result"
    }
   ],
   "source": [
    "error_analysis(custom_features,nb5,True)"
   ]
  },
  {
   "cell_type": "code",
   "execution_count": 20,
   "id": "frequent-pricing",
   "metadata": {},
   "outputs": [
    {
     "name": "stdout",
     "output_type": "stream",
     "text": [
      "Most Informative Features\n",
      "                 suffix2 = 'na'           female : male   =     87.2 : 1.0\n",
      "                 suffix2 = 'ia'           female : male   =     80.6 : 1.0\n",
      "                 suffix2 = 'la'           female : male   =     68.2 : 1.0\n",
      "                 suffix1 = 'a'            female : male   =     41.7 : 1.0\n",
      "                 suffix2 = 'ld'             male : female =     35.0 : 1.0\n",
      "                 suffix2 = 'us'             male : female =     33.7 : 1.0\n",
      "                 suffix2 = 'sa'           female : male   =     31.0 : 1.0\n",
      "                 suffix1 = 'k'              male : female =     29.4 : 1.0\n",
      "                 suffix2 = 'ta'           female : male   =     28.5 : 1.0\n",
      "                 suffix3 = 'ita'          female : male   =     25.1 : 1.0\n"
     ]
    }
   ],
   "source": [
    "nb5.show_most_informative_features(10)"
   ]
  },
  {
   "cell_type": "code",
   "execution_count": 21,
   "id": "careful-surname",
   "metadata": {},
   "outputs": [
    {
     "data": {
      "text/plain": [
       "181"
      ]
     },
     "execution_count": 21,
     "metadata": {},
     "output_type": "execute_result"
    }
   ],
   "source": [
    "error_analysis(first_letter,nb1,display=False)"
   ]
  },
  {
   "cell_type": "markdown",
   "id": "royal-preference",
   "metadata": {},
   "source": [
    "### Summary Display :"
   ]
  },
  {
   "cell_type": "markdown",
   "id": "aggressive-sphere",
   "metadata": {},
   "source": [
    "### Total Error :"
   ]
  },
  {
   "cell_type": "markdown",
   "id": "peripheral-fireplace",
   "metadata": {},
   "source": [
    "#### Dev-Test  Total Error"
   ]
  },
  {
   "cell_type": "code",
   "execution_count": 22,
   "id": "sustained-novel",
   "metadata": {},
   "outputs": [
    {
     "data": {
      "text/html": [
       "<div>\n",
       "<style scoped>\n",
       "    .dataframe tbody tr th:only-of-type {\n",
       "        vertical-align: middle;\n",
       "    }\n",
       "\n",
       "    .dataframe tbody tr th {\n",
       "        vertical-align: top;\n",
       "    }\n",
       "\n",
       "    .dataframe thead th {\n",
       "        text-align: right;\n",
       "    }\n",
       "</style>\n",
       "<table border=\"1\" class=\"dataframe\">\n",
       "  <thead>\n",
       "    <tr style=\"text-align: right;\">\n",
       "      <th></th>\n",
       "      <th>Custom Features</th>\n",
       "      <th>First Letter</th>\n",
       "      <th>Gender Features Updates</th>\n",
       "      <th>Gender Features from Book</th>\n",
       "      <th>Last Letter</th>\n",
       "    </tr>\n",
       "  </thead>\n",
       "  <tbody>\n",
       "    <tr>\n",
       "      <th>0</th>\n",
       "      <td>82.0</td>\n",
       "      <td>181.0</td>\n",
       "      <td>98.0</td>\n",
       "      <td>114.0</td>\n",
       "      <td>132.0</td>\n",
       "    </tr>\n",
       "  </tbody>\n",
       "</table>\n",
       "</div>"
      ],
      "text/plain": [
       "   Custom Features  First Letter  Gender Features Updates  \\\n",
       "0             82.0         181.0                     98.0   \n",
       "\n",
       "   Gender Features from Book  Last Letter  \n",
       "0                      114.0        132.0  "
      ]
     },
     "execution_count": 22,
     "metadata": {},
     "output_type": "execute_result"
    }
   ],
   "source": [
    "total_error_dev_test_df = pd.DataFrame()\n",
    "total_error_dev_test_df = total_error_dev_test_df.append({\n",
    "     \"First Letter\": error_analysis(first_letter,nb1,display=False),\n",
    "     \"Last Letter\":  error_analysis(last_letter,nb2,display=False),\n",
    "     \"Gender Features from Book\": error_analysis(gender_features_from_book,nb3,display=False),\n",
    "     \"Gender Features Updates\" : error_analysis(gender_features_updated,nb4,display=False),\n",
    "     \"Custom Features\" : error_analysis(custom_features,nb5,display=False)\n",
    "      }, ignore_index=True)\n",
    "total_error_dev_test_df"
   ]
  },
  {
   "cell_type": "markdown",
   "id": "acoustic-observer",
   "metadata": {},
   "source": [
    "#### Test Total Error"
   ]
  },
  {
   "cell_type": "code",
   "execution_count": 23,
   "id": "extreme-department",
   "metadata": {},
   "outputs": [
    {
     "data": {
      "text/html": [
       "<div>\n",
       "<style scoped>\n",
       "    .dataframe tbody tr th:only-of-type {\n",
       "        vertical-align: middle;\n",
       "    }\n",
       "\n",
       "    .dataframe tbody tr th {\n",
       "        vertical-align: top;\n",
       "    }\n",
       "\n",
       "    .dataframe thead th {\n",
       "        text-align: right;\n",
       "    }\n",
       "</style>\n",
       "<table border=\"1\" class=\"dataframe\">\n",
       "  <thead>\n",
       "    <tr style=\"text-align: right;\">\n",
       "      <th></th>\n",
       "      <th>Custom Features</th>\n",
       "      <th>First Letter</th>\n",
       "      <th>Gender Features Updates</th>\n",
       "      <th>Gender Features from Book</th>\n",
       "      <th>Last Letter</th>\n",
       "    </tr>\n",
       "  </thead>\n",
       "  <tbody>\n",
       "    <tr>\n",
       "      <th>0</th>\n",
       "      <td>97.0</td>\n",
       "      <td>165.0</td>\n",
       "      <td>102.0</td>\n",
       "      <td>133.0</td>\n",
       "      <td>142.0</td>\n",
       "    </tr>\n",
       "  </tbody>\n",
       "</table>\n",
       "</div>"
      ],
      "text/plain": [
       "   Custom Features  First Letter  Gender Features Updates  \\\n",
       "0             97.0         165.0                    102.0   \n",
       "\n",
       "   Gender Features from Book  Last Letter  \n",
       "0                      133.0        142.0  "
      ]
     },
     "execution_count": 23,
     "metadata": {},
     "output_type": "execute_result"
    }
   ],
   "source": [
    "total_error_test_df = pd.DataFrame()\n",
    "total_error_test_df = total_error_test_df.append({\n",
    "     \"First Letter\": error_analysis(first_letter,nb1,display=False,dataset='test'),\n",
    "     \"Last Letter\":  error_analysis(last_letter,nb2,display=False,dataset='test'),\n",
    "     \"Gender Features from Book\": error_analysis(gender_features_from_book,nb3,display=False,dataset='test'),\n",
    "     \"Gender Features Updates\" : error_analysis(gender_features_updated,nb4,display=False,dataset='test'),\n",
    "     \"Custom Features\" : error_analysis(custom_features,nb5,display=False,dataset='test')\n",
    "      }, ignore_index=True)\n",
    "total_error_test_df"
   ]
  },
  {
   "cell_type": "markdown",
   "id": "alpha-plain",
   "metadata": {},
   "source": [
    "#### Dev-Test Accuracy "
   ]
  },
  {
   "cell_type": "code",
   "execution_count": 24,
   "id": "polish-question",
   "metadata": {},
   "outputs": [
    {
     "data": {
      "text/html": [
       "<div>\n",
       "<style scoped>\n",
       "    .dataframe tbody tr th:only-of-type {\n",
       "        vertical-align: middle;\n",
       "    }\n",
       "\n",
       "    .dataframe tbody tr th {\n",
       "        vertical-align: top;\n",
       "    }\n",
       "\n",
       "    .dataframe thead th {\n",
       "        text-align: right;\n",
       "    }\n",
       "</style>\n",
       "<table border=\"1\" class=\"dataframe\">\n",
       "  <thead>\n",
       "    <tr style=\"text-align: right;\">\n",
       "      <th></th>\n",
       "      <th>Custom Features</th>\n",
       "      <th>First Letter</th>\n",
       "      <th>Gender Features Updates</th>\n",
       "      <th>Gender Features from Book</th>\n",
       "      <th>Last Letter</th>\n",
       "    </tr>\n",
       "  </thead>\n",
       "  <tbody>\n",
       "    <tr>\n",
       "      <th>0</th>\n",
       "      <td>0.836</td>\n",
       "      <td>0.638</td>\n",
       "      <td>0.804</td>\n",
       "      <td>0.772</td>\n",
       "      <td>0.736</td>\n",
       "    </tr>\n",
       "  </tbody>\n",
       "</table>\n",
       "</div>"
      ],
      "text/plain": [
       "   Custom Features  First Letter  Gender Features Updates  \\\n",
       "0            0.836         0.638                    0.804   \n",
       "\n",
       "   Gender Features from Book  Last Letter  \n",
       "0                      0.772        0.736  "
      ]
     },
     "execution_count": 24,
     "metadata": {},
     "output_type": "execute_result"
    }
   ],
   "source": [
    "accuracy_dev_test_df = pd.DataFrame()\n",
    "accuracy_dev_test_df = accuracy_dev_test_df.append({\n",
    "     \"First Letter\": nltk.classify.accuracy(nb1, devtest_dataset_first_letter),\n",
    "     \"Last Letter\":  nltk.classify.accuracy(nb2, devtest_dataset_last_letter),\n",
    "     \"Gender Features from Book\": nltk.classify.accuracy(nb3, devtest_dataset_gender_features_from_book),\n",
    "     \"Gender Features Updates\" : nltk.classify.accuracy(nb4, devtest_dataset_gender_features_updated),\n",
    "     \"Custom Features\" : nltk.classify.accuracy(nb5, devtest_dataset_custom_features)\n",
    "      }, ignore_index=True)\n",
    "accuracy_dev_test_df"
   ]
  },
  {
   "cell_type": "markdown",
   "id": "solar-cooperation",
   "metadata": {},
   "source": [
    "#### Test Accuracy "
   ]
  },
  {
   "cell_type": "code",
   "execution_count": 25,
   "id": "rational-closer",
   "metadata": {},
   "outputs": [
    {
     "data": {
      "text/html": [
       "<div>\n",
       "<style scoped>\n",
       "    .dataframe tbody tr th:only-of-type {\n",
       "        vertical-align: middle;\n",
       "    }\n",
       "\n",
       "    .dataframe tbody tr th {\n",
       "        vertical-align: top;\n",
       "    }\n",
       "\n",
       "    .dataframe thead th {\n",
       "        text-align: right;\n",
       "    }\n",
       "</style>\n",
       "<table border=\"1\" class=\"dataframe\">\n",
       "  <thead>\n",
       "    <tr style=\"text-align: right;\">\n",
       "      <th></th>\n",
       "      <th>Custom Features</th>\n",
       "      <th>First Letter</th>\n",
       "      <th>Gender Features Updates</th>\n",
       "      <th>Gender Features from Book</th>\n",
       "      <th>Last Letter</th>\n",
       "    </tr>\n",
       "  </thead>\n",
       "  <tbody>\n",
       "    <tr>\n",
       "      <th>0</th>\n",
       "      <td>0.806</td>\n",
       "      <td>0.67</td>\n",
       "      <td>0.796</td>\n",
       "      <td>0.734</td>\n",
       "      <td>0.716</td>\n",
       "    </tr>\n",
       "  </tbody>\n",
       "</table>\n",
       "</div>"
      ],
      "text/plain": [
       "   Custom Features  First Letter  Gender Features Updates  \\\n",
       "0            0.806          0.67                    0.796   \n",
       "\n",
       "   Gender Features from Book  Last Letter  \n",
       "0                      0.734        0.716  "
      ]
     },
     "execution_count": 25,
     "metadata": {},
     "output_type": "execute_result"
    }
   ],
   "source": [
    "accuracy_test_df = pd.DataFrame()\n",
    "accuracy_test_df = accuracy_test_df.append({\n",
    "     \"First Letter\": nltk.classify.accuracy(nb1, test_dataset_first_letter),\n",
    "     \"Last Letter\":  nltk.classify.accuracy(nb2, test_dataset_last_letter),\n",
    "     \"Gender Features from Book\": nltk.classify.accuracy(nb3, test_dataset_gender_features_from_book),\n",
    "     \"Gender Features Updates\" : nltk.classify.accuracy(nb4, test_dataset_gender_features_updated),\n",
    "     \"Custom Features\" : nltk.classify.accuracy(nb5, test_dataset_custom_features)\n",
    "      }, ignore_index=True)\n",
    "accuracy_test_df"
   ]
  },
  {
   "cell_type": "code",
   "execution_count": 26,
   "id": "emotional-accessory",
   "metadata": {},
   "outputs": [
    {
     "data": {
      "text/html": [
       "<div>\n",
       "<style scoped>\n",
       "    .dataframe tbody tr th:only-of-type {\n",
       "        vertical-align: middle;\n",
       "    }\n",
       "\n",
       "    .dataframe tbody tr th {\n",
       "        vertical-align: top;\n",
       "    }\n",
       "\n",
       "    .dataframe thead th {\n",
       "        text-align: right;\n",
       "    }\n",
       "</style>\n",
       "<table border=\"1\" class=\"dataframe\">\n",
       "  <thead>\n",
       "    <tr style=\"text-align: right;\">\n",
       "      <th></th>\n",
       "      <th>Custom Features</th>\n",
       "      <th>First Letter</th>\n",
       "      <th>Gender Features Updates</th>\n",
       "      <th>Gender Features from Book</th>\n",
       "      <th>Last Letter</th>\n",
       "      <th>Test Type</th>\n",
       "    </tr>\n",
       "  </thead>\n",
       "  <tbody>\n",
       "    <tr>\n",
       "      <th>0</th>\n",
       "      <td>0.836</td>\n",
       "      <td>0.638</td>\n",
       "      <td>0.804</td>\n",
       "      <td>0.772</td>\n",
       "      <td>0.736</td>\n",
       "      <td>Accuracy Dev- Test</td>\n",
       "    </tr>\n",
       "    <tr>\n",
       "      <th>0</th>\n",
       "      <td>0.806</td>\n",
       "      <td>0.670</td>\n",
       "      <td>0.796</td>\n",
       "      <td>0.734</td>\n",
       "      <td>0.716</td>\n",
       "      <td>Accuracy Test</td>\n",
       "    </tr>\n",
       "  </tbody>\n",
       "</table>\n",
       "</div>"
      ],
      "text/plain": [
       "   Custom Features  First Letter  Gender Features Updates  \\\n",
       "0            0.836         0.638                    0.804   \n",
       "0            0.806         0.670                    0.796   \n",
       "\n",
       "   Gender Features from Book  Last Letter           Test Type  \n",
       "0                      0.772        0.736  Accuracy Dev- Test  \n",
       "0                      0.734        0.716       Accuracy Test  "
      ]
     },
     "execution_count": 26,
     "metadata": {},
     "output_type": "execute_result"
    }
   ],
   "source": [
    "accuracy_dfs=[accuracy_dev_test_df,accuracy_test_df]\n",
    "results = pd.concat(accuracy_dfs,axis=0)\n",
    "results['Test Type'] = ['Accuracy Dev-Test','Accuracy Test']\n",
    "results"
   ]
  },
  {
   "cell_type": "code",
   "execution_count": 27,
   "id": "crude-hudson",
   "metadata": {},
   "outputs": [
    {
     "data": {
      "text/html": [
       "<div>\n",
       "<style scoped>\n",
       "    .dataframe tbody tr th:only-of-type {\n",
       "        vertical-align: middle;\n",
       "    }\n",
       "\n",
       "    .dataframe tbody tr th {\n",
       "        vertical-align: top;\n",
       "    }\n",
       "\n",
       "    .dataframe thead th {\n",
       "        text-align: right;\n",
       "    }\n",
       "</style>\n",
       "<table border=\"1\" class=\"dataframe\">\n",
       "  <thead>\n",
       "    <tr style=\"text-align: right;\">\n",
       "      <th></th>\n",
       "      <th>Custom Features</th>\n",
       "      <th>First Letter</th>\n",
       "      <th>Gender Features Updates</th>\n",
       "      <th>Gender Features from Book</th>\n",
       "      <th>Last Letter</th>\n",
       "      <th>Test Type</th>\n",
       "    </tr>\n",
       "  </thead>\n",
       "  <tbody>\n",
       "    <tr>\n",
       "      <th>0</th>\n",
       "      <td>82.0</td>\n",
       "      <td>181.0</td>\n",
       "      <td>98.0</td>\n",
       "      <td>114.0</td>\n",
       "      <td>132.0</td>\n",
       "      <td>Total Error Dev-Test</td>\n",
       "    </tr>\n",
       "    <tr>\n",
       "      <th>0</th>\n",
       "      <td>97.0</td>\n",
       "      <td>165.0</td>\n",
       "      <td>102.0</td>\n",
       "      <td>133.0</td>\n",
       "      <td>142.0</td>\n",
       "      <td>Total Error Test</td>\n",
       "    </tr>\n",
       "  </tbody>\n",
       "</table>\n",
       "</div>"
      ],
      "text/plain": [
       "   Custom Features  First Letter  Gender Features Updates  \\\n",
       "0             82.0         181.0                     98.0   \n",
       "0             97.0         165.0                    102.0   \n",
       "\n",
       "   Gender Features from Book  Last Letter             Test Type  \n",
       "0                      114.0        132.0  Total Error Dev-Test  \n",
       "0                      133.0        142.0      Total Error Test  "
      ]
     },
     "execution_count": 27,
     "metadata": {},
     "output_type": "execute_result"
    }
   ],
   "source": [
    "total_error_dfs=[total_error_dev_test_df,total_error_test_df]\n",
    "results = pd.concat(total_error_dfs,axis=0)\n",
    "results['Test Type'] = ['Total Error Dev-Test','Total Error Test']\n",
    "results"
   ]
  },
  {
   "cell_type": "markdown",
   "id": "electric-prague",
   "metadata": {},
   "source": [
    "### Conclusion"
   ]
  },
  {
   "cell_type": "code",
   "execution_count": null,
   "id": "concrete-photograph",
   "metadata": {},
   "outputs": [],
   "source": []
  }
 ],
 "metadata": {
  "kernelspec": {
   "display_name": "Python 3",
   "language": "python",
   "name": "python3"
  },
  "language_info": {
   "codemirror_mode": {
    "name": "ipython",
    "version": 3
   },
   "file_extension": ".py",
   "mimetype": "text/x-python",
   "name": "python",
   "nbconvert_exporter": "python",
   "pygments_lexer": "ipython3",
   "version": "3.7.9"
  }
 },
 "nbformat": 4,
 "nbformat_minor": 5
}
