{
 "cells": [
  {
   "cell_type": "markdown",
   "id": "baking-gabriel",
   "metadata": {},
   "source": [
    "## Final Project Proposal : COVID Tweets in Pandemic"
   ]
  },
  {
   "cell_type": "markdown",
   "id": "royal-tuition",
   "metadata": {},
   "source": [
    "### Group\n",
    "\n",
    "- Omer Ozeren\n",
    "\n",
    "- Gracie Han \n",
    "\n",
    "- Don (Geeth) Padmaperum\n"
   ]
  },
  {
   "cell_type": "markdown",
   "id": "parallel-hammer",
   "metadata": {},
   "source": [
    "### Proposal\n",
    "#### Problem Statement\n",
    "Social networking refers to the use of social media websites and apps, such as Facebook, Instagram, and Twitter, to connect with family, friends, and people who share your interests.The aim of Sentiment Analysis is to define automatic tools able to extract subjective information from texts in natural language, such as opinions and sentiments, in order to create structured and actionable knowledge to be used by either a decision support system or a decision maker.\n",
    "\n",
    "For our Final Project our team will use a dataset of COVID tweets during pandemic released by **trackmyhashtag.com**. Over 61,000 tweets collected using Twitter API keyword search between 01/12/2019 and 2/28/2020. The dataset consists of text in user name, user id, tweet id, screen name, number of user following, number of user followed,Retweets Received. The dataset is located [here](https://www.trackmyhashtag.com/blog/free-twitter-datasets/)\n",
    "\n",
    "\n",
    "Our goal is to perform network analysis on the dataset and find Twitter users who are very connected, popular individuals, individuals who are likely to hold most information or individuals who can quickly connect with the wider network. We are going to explore the releationship between the people that communicate with each other and perform network analysis.We will explore interaction and content between the tweet contacts. We also will look at the frequent word distribution. We will also calculate EigenCentrality to identify nodes with influence over the whole network, not just those directly connected to it. Finally, we will perform sentiment analysis on the dataset to understand user's opinion during the time of pandemic.\n"
   ]
  },
  {
   "cell_type": "markdown",
   "id": "particular-field",
   "metadata": {},
   "source": [
    "\n",
    "#### Roles and  Responsibilities\n",
    "\n",
    "- Omer Ozeren  **(Proposal/Data Exploration/Data Analysis)**\n",
    "\n",
    "\n",
    "- Gracie Han **(Data set-up Selection/Data Import/Data Clean-up)**\n",
    "\n",
    "\n",
    "- Don(Geeth) Pandmaperum **(Hypothesis Testing/Evaluation/Summary)**"
   ]
  }
 ],
 "metadata": {
  "kernelspec": {
   "display_name": "Python 3",
   "language": "python",
   "name": "python3"
  },
  "language_info": {
   "codemirror_mode": {
    "name": "ipython",
    "version": 3
   },
   "file_extension": ".py",
   "mimetype": "text/x-python",
   "name": "python",
   "nbconvert_exporter": "python",
   "pygments_lexer": "ipython3",
   "version": "3.7.10"
  }
 },
 "nbformat": 4,
 "nbformat_minor": 5
}
