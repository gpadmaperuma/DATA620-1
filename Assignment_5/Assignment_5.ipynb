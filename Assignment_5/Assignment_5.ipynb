{
 "cells": [
  {
   "cell_type": "markdown",
   "id": "southern-windows",
   "metadata": {},
   "source": [
    "# Assignment 5"
   ]
  },
  {
   "cell_type": "markdown",
   "id": "sticky-spyware",
   "metadata": {},
   "source": [
    "### Author : Omer Ozeren"
   ]
  },
  {
   "cell_type": "markdown",
   "id": "registered-support",
   "metadata": {},
   "source": [
    "### Introduction"
   ]
  },
  {
   "cell_type": "markdown",
   "id": "attached-shipping",
   "metadata": {},
   "source": [
    "1. Choose a corpus of interest.\n",
    "2. How many total unique words are in the corpus? (Please feel free to define unique words in any interesting,\n",
    "defensible way).\n",
    "3. Taking the most common words, how many unique words represent half of the total words in the corpus?\n",
    "4. Identify the 200 highest frequency words in this corpus.\n",
    "5. Create a graph that shows the relative frequency of these 200 words.\n",
    "6. Does the observed relative frequency of these words follow Zipf’s law? Explain.\n",
    "7. In what ways do you think the frequency of the words in this corpus differ from “all words in all corpora.”"
   ]
  },
  {
   "cell_type": "code",
   "execution_count": 2,
   "id": "covered-december",
   "metadata": {},
   "outputs": [],
   "source": [
    "import nltk, re, pprint\n",
    "from nltk import word_tokenize\n",
    "from nltk.corpus import stopwords\n",
    "from nltk.corpus import webtext\n",
    "import urllib.request as ur\n",
    "import pandas as pd\n",
    "import matplotlib.pyplot as plot\n",
    "import string as str\n",
    "from nltk.stem import PorterStemmer\n",
    "%matplotlib inline"
   ]
  },
  {
   "cell_type": "markdown",
   "id": "interior-steps",
   "metadata": {},
   "source": [
    "### 1. Choose a Corpus of Interest"
   ]
  },
  {
   "cell_type": "markdown",
   "id": "prime-naples",
   "metadata": {},
   "source": [
    "I decided to use Project Guttenberg that it is a site which allows you to read books directly from the HTML.I choose the most popular data from website.The data can be found [here](http://www.gutenberg.org/files/84/84-h/84-h.htm). "
   ]
  },
  {
   "cell_type": "code",
   "execution_count": 4,
   "id": "accomplished-question",
   "metadata": {},
   "outputs": [],
   "source": [
    "url=\"http://www.gutenberg.org/files/84/84-h/84-h.htm\"\n",
    "path = ur.urlopen(url)\n",
    "raw = path.read().decode('utf8')"
   ]
  },
  {
   "cell_type": "markdown",
   "id": "speaking-march",
   "metadata": {},
   "source": [
    "### 2. How many total unique words are in the corpus? (Please feel free to define unique words in any interesting, defensible way)."
   ]
  },
  {
   "cell_type": "code",
   "execution_count": 5,
   "id": "affecting-dress",
   "metadata": {},
   "outputs": [],
   "source": [
    "starting_position = raw.find(\"></a>Chapter 1</h2>\\r\\n\\r\\n<p>\\r\\n\")\n",
    "ending_position = raw.find(\"*** END OF THE PROJECT GUTENBERG EBOOK FRANKENSTEIN ***\")\n",
    "raw = raw[starting_position:ending_position]"
   ]
  },
  {
   "cell_type": "code",
   "execution_count": 7,
   "id": "false-rider",
   "metadata": {},
   "outputs": [
    {
     "data": {
      "text/plain": [
       "7298"
      ]
     },
     "execution_count": 7,
     "metadata": {},
     "output_type": "execute_result"
    }
   ],
   "source": [
    "raw_token = word_tokenize(raw)\n",
    "\n",
    "len(set(raw_token))"
   ]
  },
  {
   "cell_type": "markdown",
   "id": "magnetic-pepper",
   "metadata": {},
   "source": [
    "We have 7,298 defined words in the raw text file data. I will only take alpha numeric words and make all words lower case."
   ]
  },
  {
   "cell_type": "code",
   "execution_count": 12,
   "id": "exclusive-catalyst",
   "metadata": {},
   "outputs": [],
   "source": [
    "unique_words = [word for word in raw_token if word.isalpha()] #alphanumeric\n",
    "\n",
    "unique_words = [word.lower() for word in unique_words] #lowercase"
   ]
  },
  {
   "cell_type": "code",
   "execution_count": 13,
   "id": "anticipated-hardwood",
   "metadata": {},
   "outputs": [
    {
     "data": {
      "text/plain": [
       "6613"
      ]
     },
     "execution_count": 13,
     "metadata": {},
     "output_type": "execute_result"
    }
   ],
   "source": [
    "len(set(unique_words))"
   ]
  },
  {
   "cell_type": "code",
   "execution_count": 16,
   "id": "specified-junction",
   "metadata": {},
   "outputs": [
    {
     "data": {
      "text/plain": [
       "['chapter', 'p', 'i', 'am', 'by', 'birth', 'a', 'genevese', 'and', 'my']"
      ]
     },
     "execution_count": 16,
     "metadata": {},
     "output_type": "execute_result"
    }
   ],
   "source": [
    "unique_words[:10]"
   ]
  },
  {
   "cell_type": "markdown",
   "id": "corrected-timber",
   "metadata": {},
   "source": [
    "We have 6,613 unique words.However, The unique words include letters which needs to be excluded from data.I will calculate the lenght of each item in unique words."
   ]
  },
  {
   "cell_type": "code",
   "execution_count": 24,
   "id": "passive-vaccine",
   "metadata": {},
   "outputs": [
    {
     "data": {
      "text/html": [
       "<div>\n",
       "<style scoped>\n",
       "    .dataframe tbody tr th:only-of-type {\n",
       "        vertical-align: middle;\n",
       "    }\n",
       "\n",
       "    .dataframe tbody tr th {\n",
       "        vertical-align: top;\n",
       "    }\n",
       "\n",
       "    .dataframe thead th {\n",
       "        text-align: right;\n",
       "    }\n",
       "</style>\n",
       "<table border=\"1\" class=\"dataframe\">\n",
       "  <thead>\n",
       "    <tr style=\"text-align: right;\">\n",
       "      <th></th>\n",
       "      <th>words</th>\n",
       "      <th>length</th>\n",
       "    </tr>\n",
       "  </thead>\n",
       "  <tbody>\n",
       "    <tr>\n",
       "      <th>0</th>\n",
       "      <td>chapter</td>\n",
       "      <td>7</td>\n",
       "    </tr>\n",
       "    <tr>\n",
       "      <th>1</th>\n",
       "      <td>p</td>\n",
       "      <td>1</td>\n",
       "    </tr>\n",
       "    <tr>\n",
       "      <th>2</th>\n",
       "      <td>i</td>\n",
       "      <td>1</td>\n",
       "    </tr>\n",
       "    <tr>\n",
       "      <th>3</th>\n",
       "      <td>am</td>\n",
       "      <td>2</td>\n",
       "    </tr>\n",
       "    <tr>\n",
       "      <th>4</th>\n",
       "      <td>by</td>\n",
       "      <td>2</td>\n",
       "    </tr>\n",
       "    <tr>\n",
       "      <th>...</th>\n",
       "      <td>...</td>\n",
       "      <td>...</td>\n",
       "    </tr>\n",
       "    <tr>\n",
       "      <th>71221</th>\n",
       "      <td>distance</td>\n",
       "      <td>8</td>\n",
       "    </tr>\n",
       "    <tr>\n",
       "      <th>71222</th>\n",
       "      <td>end</td>\n",
       "      <td>3</td>\n",
       "    </tr>\n",
       "    <tr>\n",
       "      <th>71223</th>\n",
       "      <td>chapter</td>\n",
       "      <td>7</td>\n",
       "    </tr>\n",
       "    <tr>\n",
       "      <th>71224</th>\n",
       "      <td>div</td>\n",
       "      <td>3</td>\n",
       "    </tr>\n",
       "    <tr>\n",
       "      <th>71225</th>\n",
       "      <td>block</td>\n",
       "      <td>5</td>\n",
       "    </tr>\n",
       "  </tbody>\n",
       "</table>\n",
       "<p>71226 rows × 2 columns</p>\n",
       "</div>"
      ],
      "text/plain": [
       "          words  length\n",
       "0       chapter       7\n",
       "1             p       1\n",
       "2             i       1\n",
       "3            am       2\n",
       "4            by       2\n",
       "...         ...     ...\n",
       "71221  distance       8\n",
       "71222       end       3\n",
       "71223   chapter       7\n",
       "71224       div       3\n",
       "71225     block       5\n",
       "\n",
       "[71226 rows x 2 columns]"
      ]
     },
     "execution_count": 24,
     "metadata": {},
     "output_type": "execute_result"
    }
   ],
   "source": [
    "df_words_len = pd.DataFrame({'words':unique_words}) # from list to DataFrame\n",
    "df_words_len['length'] = df_words_len['words'].apply(lambda x: len(x))\n",
    "df_words_len"
   ]
  },
  {
   "cell_type": "markdown",
   "id": "laughing-jersey",
   "metadata": {},
   "source": [
    "By looking at the DataFrame above, I can see that i need to exclude the words that have lenght 1."
   ]
  },
  {
   "cell_type": "code",
   "execution_count": 36,
   "id": "previous-elephant",
   "metadata": {},
   "outputs": [
    {
     "data": {
      "text/html": [
       "<div>\n",
       "<style scoped>\n",
       "    .dataframe tbody tr th:only-of-type {\n",
       "        vertical-align: middle;\n",
       "    }\n",
       "\n",
       "    .dataframe tbody tr th {\n",
       "        vertical-align: top;\n",
       "    }\n",
       "\n",
       "    .dataframe thead th {\n",
       "        text-align: right;\n",
       "    }\n",
       "</style>\n",
       "<table border=\"1\" class=\"dataframe\">\n",
       "  <thead>\n",
       "    <tr style=\"text-align: right;\">\n",
       "      <th></th>\n",
       "      <th>words</th>\n",
       "      <th>length</th>\n",
       "    </tr>\n",
       "  </thead>\n",
       "  <tbody>\n",
       "    <tr>\n",
       "      <th>1</th>\n",
       "      <td>p</td>\n",
       "      <td>1</td>\n",
       "    </tr>\n",
       "    <tr>\n",
       "      <th>49085</th>\n",
       "      <td>i</td>\n",
       "      <td>1</td>\n",
       "    </tr>\n",
       "    <tr>\n",
       "      <th>49068</th>\n",
       "      <td>a</td>\n",
       "      <td>1</td>\n",
       "    </tr>\n",
       "    <tr>\n",
       "      <th>49057</th>\n",
       "      <td>p</td>\n",
       "      <td>1</td>\n",
       "    </tr>\n",
       "    <tr>\n",
       "      <th>49039</th>\n",
       "      <td>i</td>\n",
       "      <td>1</td>\n",
       "    </tr>\n",
       "  </tbody>\n",
       "</table>\n",
       "</div>"
      ],
      "text/plain": [
       "      words  length\n",
       "1         p       1\n",
       "49085     i       1\n",
       "49068     a       1\n",
       "49057     p       1\n",
       "49039     i       1"
      ]
     },
     "execution_count": 36,
     "metadata": {},
     "output_type": "execute_result"
    }
   ],
   "source": [
    "exclude_words_df= (df_words_len[df_words_len['length']==1].sort_values(by='length'))\n",
    "exclude_words_df.head()"
   ]
  },
  {
   "cell_type": "code",
   "execution_count": 43,
   "id": "explicit-request",
   "metadata": {},
   "outputs": [
    {
     "data": {
      "text/html": [
       "<div>\n",
       "<style scoped>\n",
       "    .dataframe tbody tr th:only-of-type {\n",
       "        vertical-align: middle;\n",
       "    }\n",
       "\n",
       "    .dataframe tbody tr th {\n",
       "        vertical-align: top;\n",
       "    }\n",
       "\n",
       "    .dataframe thead th {\n",
       "        text-align: right;\n",
       "    }\n",
       "</style>\n",
       "<table border=\"1\" class=\"dataframe\">\n",
       "  <thead>\n",
       "    <tr style=\"text-align: right;\">\n",
       "      <th></th>\n",
       "      <th>words</th>\n",
       "      <th>length</th>\n",
       "    </tr>\n",
       "  </thead>\n",
       "  <tbody>\n",
       "    <tr>\n",
       "      <th>0</th>\n",
       "      <td>chapter</td>\n",
       "      <td>7</td>\n",
       "    </tr>\n",
       "    <tr>\n",
       "      <th>3</th>\n",
       "      <td>am</td>\n",
       "      <td>2</td>\n",
       "    </tr>\n",
       "    <tr>\n",
       "      <th>4</th>\n",
       "      <td>by</td>\n",
       "      <td>2</td>\n",
       "    </tr>\n",
       "    <tr>\n",
       "      <th>5</th>\n",
       "      <td>birth</td>\n",
       "      <td>5</td>\n",
       "    </tr>\n",
       "    <tr>\n",
       "      <th>7</th>\n",
       "      <td>genevese</td>\n",
       "      <td>8</td>\n",
       "    </tr>\n",
       "    <tr>\n",
       "      <th>...</th>\n",
       "      <td>...</td>\n",
       "      <td>...</td>\n",
       "    </tr>\n",
       "    <tr>\n",
       "      <th>71221</th>\n",
       "      <td>distance</td>\n",
       "      <td>8</td>\n",
       "    </tr>\n",
       "    <tr>\n",
       "      <th>71222</th>\n",
       "      <td>end</td>\n",
       "      <td>3</td>\n",
       "    </tr>\n",
       "    <tr>\n",
       "      <th>71223</th>\n",
       "      <td>chapter</td>\n",
       "      <td>7</td>\n",
       "    </tr>\n",
       "    <tr>\n",
       "      <th>71224</th>\n",
       "      <td>div</td>\n",
       "      <td>3</td>\n",
       "    </tr>\n",
       "    <tr>\n",
       "      <th>71225</th>\n",
       "      <td>block</td>\n",
       "      <td>5</td>\n",
       "    </tr>\n",
       "  </tbody>\n",
       "</table>\n",
       "<p>66459 rows × 2 columns</p>\n",
       "</div>"
      ],
      "text/plain": [
       "          words  length\n",
       "0       chapter       7\n",
       "3            am       2\n",
       "4            by       2\n",
       "5         birth       5\n",
       "7      genevese       8\n",
       "...         ...     ...\n",
       "71221  distance       8\n",
       "71222       end       3\n",
       "71223   chapter       7\n",
       "71224       div       3\n",
       "71225     block       5\n",
       "\n",
       "[66459 rows x 2 columns]"
      ]
     },
     "execution_count": 43,
     "metadata": {},
     "output_type": "execute_result"
    }
   ],
   "source": [
    "df_words_clean = df_words_len[df_words_len.length > 1]\n",
    "df_words_clean"
   ]
  },
  {
   "cell_type": "code",
   "execution_count": 42,
   "id": "express-halloween",
   "metadata": {},
   "outputs": [
    {
     "data": {
      "text/plain": [
       "71226"
      ]
     },
     "execution_count": 42,
     "metadata": {},
     "output_type": "execute_result"
    }
   ],
   "source": [
    "unique_words=list(df_words_clean['words'])\n",
    "len(unique_words)"
   ]
  },
  {
   "cell_type": "markdown",
   "id": "running-croatia",
   "metadata": {},
   "source": [
    "After removing words that has 1 characters, I can see that the total unique words in the corpus is **66,459.**"
   ]
  },
  {
   "cell_type": "markdown",
   "id": "light-theology",
   "metadata": {},
   "source": [
    "### 3.Taking the most common words, how many unique words represent half of the total words in the corpus?"
   ]
  },
  {
   "cell_type": "code",
   "execution_count": null,
   "id": "delayed-forum",
   "metadata": {},
   "outputs": [],
   "source": [
    "data_freq_dist = nltk.FreqDist(unique_words)\n",
    "data_freq_dist"
   ]
  }
 ],
 "metadata": {
  "kernelspec": {
   "display_name": "Python 3",
   "language": "python",
   "name": "python3"
  },
  "language_info": {
   "codemirror_mode": {
    "name": "ipython",
    "version": 3
   },
   "file_extension": ".py",
   "mimetype": "text/x-python",
   "name": "python",
   "nbconvert_exporter": "python",
   "pygments_lexer": "ipython3",
   "version": "3.7.9"
  }
 },
 "nbformat": 4,
 "nbformat_minor": 5
}
