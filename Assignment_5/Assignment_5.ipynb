{
 "cells": [
  {
   "cell_type": "markdown",
   "id": "southern-windows",
   "metadata": {},
   "source": [
    "# Assignment 5"
   ]
  },
  {
   "cell_type": "markdown",
   "id": "sticky-spyware",
   "metadata": {},
   "source": [
    "### Author : Omer Ozeren"
   ]
  },
  {
   "cell_type": "markdown",
   "id": "registered-support",
   "metadata": {},
   "source": [
    "### Introduction"
   ]
  },
  {
   "cell_type": "markdown",
   "id": "attached-shipping",
   "metadata": {},
   "source": [
    "1. Choose a corpus of interest.\n",
    "2. How many total unique words are in the corpus? (Please feel free to define unique words in any interesting,\n",
    "defensible way).\n",
    "3. Taking the most common words, how many unique words represent half of the total words in the corpus?\n",
    "4. Identify the 200 highest frequency words in this corpus.\n",
    "5. Create a graph that shows the relative frequency of these 200 words.\n",
    "6. Does the observed relative frequency of these words follow Zipf’s law? Explain.\n",
    "7. In what ways do you think the frequency of the words in this corpus differ from “all words in all corpora.”"
   ]
  },
  {
   "cell_type": "code",
   "execution_count": 1,
   "id": "covered-december",
   "metadata": {},
   "outputs": [],
   "source": [
    "import nltk, re, pprint\n",
    "from nltk import word_tokenize\n",
    "from nltk.corpus import stopwords\n",
    "from nltk.corpus import webtext\n",
    "import urllib.request as ur\n",
    "import pandas as pd\n",
    "import matplotlib.pyplot as plot\n",
    "import string as str\n",
    "from nltk.stem import PorterStemmer\n",
    "%matplotlib inline"
   ]
  },
  {
   "cell_type": "markdown",
   "id": "interior-steps",
   "metadata": {},
   "source": [
    "### 1. Choose a Corpus of Interest"
   ]
  },
  {
   "cell_type": "markdown",
   "id": "prime-naples",
   "metadata": {},
   "source": [
    "I decided to use Project Guttenberg that it is a site which allows you to read books directly from the HTML.I choose the most popular data from website.The data can be found [here](http://www.gutenberg.org/files/84/84-h/84-h.htm). "
   ]
  },
  {
   "cell_type": "code",
   "execution_count": 2,
   "id": "accomplished-question",
   "metadata": {},
   "outputs": [],
   "source": [
    "url=\"http://www.gutenberg.org/files/84/84-h/84-h.htm\"\n",
    "path = ur.urlopen(url)\n",
    "raw = path.read().decode('utf8')"
   ]
  },
  {
   "cell_type": "markdown",
   "id": "speaking-march",
   "metadata": {},
   "source": [
    "### 2. How many total unique words are in the corpus? (Please feel free to define unique words in any interesting, defensible way)."
   ]
  },
  {
   "cell_type": "code",
   "execution_count": 3,
   "id": "affecting-dress",
   "metadata": {},
   "outputs": [],
   "source": [
    "starting_position = raw.find(\"></a>Chapter 1</h2>\\r\\n\\r\\n<p>\\r\\n\")\n",
    "ending_position = raw.find(\"*** END OF THE PROJECT GUTENBERG EBOOK FRANKENSTEIN ***\")\n",
    "raw = raw[starting_position:ending_position]"
   ]
  },
  {
   "cell_type": "code",
   "execution_count": 4,
   "id": "false-rider",
   "metadata": {},
   "outputs": [
    {
     "data": {
      "text/plain": [
       "7298"
      ]
     },
     "execution_count": 4,
     "metadata": {},
     "output_type": "execute_result"
    }
   ],
   "source": [
    "raw_token = word_tokenize(raw)\n",
    "\n",
    "len(set(raw_token))"
   ]
  },
  {
   "cell_type": "markdown",
   "id": "magnetic-pepper",
   "metadata": {},
   "source": [
    "We have 7,298 defined words in the raw text file data. I will only take alpha numeric words and make all words lower case."
   ]
  },
  {
   "cell_type": "code",
   "execution_count": 5,
   "id": "exclusive-catalyst",
   "metadata": {},
   "outputs": [],
   "source": [
    "unique_words = [word for word in raw_token if word.isalpha()] #alphanumeric\n",
    "\n",
    "unique_words = [word.lower() for word in unique_words] #lowercase"
   ]
  },
  {
   "cell_type": "code",
   "execution_count": 6,
   "id": "anticipated-hardwood",
   "metadata": {},
   "outputs": [
    {
     "data": {
      "text/plain": [
       "6613"
      ]
     },
     "execution_count": 6,
     "metadata": {},
     "output_type": "execute_result"
    }
   ],
   "source": [
    "len(set(unique_words))"
   ]
  },
  {
   "cell_type": "code",
   "execution_count": 7,
   "id": "specified-junction",
   "metadata": {},
   "outputs": [
    {
     "data": {
      "text/plain": [
       "['chapter', 'p', 'i', 'am', 'by', 'birth', 'a', 'genevese', 'and', 'my']"
      ]
     },
     "execution_count": 7,
     "metadata": {},
     "output_type": "execute_result"
    }
   ],
   "source": [
    "unique_words[:10]"
   ]
  },
  {
   "cell_type": "markdown",
   "id": "corrected-timber",
   "metadata": {},
   "source": [
    "We have 6,613 unique words.However, The unique words include letters which needs to be excluded from data.I will calculate the lenght of each item in unique words."
   ]
  },
  {
   "cell_type": "code",
   "execution_count": 8,
   "id": "passive-vaccine",
   "metadata": {},
   "outputs": [
    {
     "data": {
      "text/html": [
       "<div>\n",
       "<style scoped>\n",
       "    .dataframe tbody tr th:only-of-type {\n",
       "        vertical-align: middle;\n",
       "    }\n",
       "\n",
       "    .dataframe tbody tr th {\n",
       "        vertical-align: top;\n",
       "    }\n",
       "\n",
       "    .dataframe thead th {\n",
       "        text-align: right;\n",
       "    }\n",
       "</style>\n",
       "<table border=\"1\" class=\"dataframe\">\n",
       "  <thead>\n",
       "    <tr style=\"text-align: right;\">\n",
       "      <th></th>\n",
       "      <th>words</th>\n",
       "      <th>length</th>\n",
       "    </tr>\n",
       "  </thead>\n",
       "  <tbody>\n",
       "    <tr>\n",
       "      <th>0</th>\n",
       "      <td>chapter</td>\n",
       "      <td>7</td>\n",
       "    </tr>\n",
       "    <tr>\n",
       "      <th>1</th>\n",
       "      <td>p</td>\n",
       "      <td>1</td>\n",
       "    </tr>\n",
       "    <tr>\n",
       "      <th>2</th>\n",
       "      <td>i</td>\n",
       "      <td>1</td>\n",
       "    </tr>\n",
       "    <tr>\n",
       "      <th>3</th>\n",
       "      <td>am</td>\n",
       "      <td>2</td>\n",
       "    </tr>\n",
       "    <tr>\n",
       "      <th>4</th>\n",
       "      <td>by</td>\n",
       "      <td>2</td>\n",
       "    </tr>\n",
       "    <tr>\n",
       "      <th>...</th>\n",
       "      <td>...</td>\n",
       "      <td>...</td>\n",
       "    </tr>\n",
       "    <tr>\n",
       "      <th>71221</th>\n",
       "      <td>distance</td>\n",
       "      <td>8</td>\n",
       "    </tr>\n",
       "    <tr>\n",
       "      <th>71222</th>\n",
       "      <td>end</td>\n",
       "      <td>3</td>\n",
       "    </tr>\n",
       "    <tr>\n",
       "      <th>71223</th>\n",
       "      <td>chapter</td>\n",
       "      <td>7</td>\n",
       "    </tr>\n",
       "    <tr>\n",
       "      <th>71224</th>\n",
       "      <td>div</td>\n",
       "      <td>3</td>\n",
       "    </tr>\n",
       "    <tr>\n",
       "      <th>71225</th>\n",
       "      <td>block</td>\n",
       "      <td>5</td>\n",
       "    </tr>\n",
       "  </tbody>\n",
       "</table>\n",
       "<p>71226 rows × 2 columns</p>\n",
       "</div>"
      ],
      "text/plain": [
       "          words  length\n",
       "0       chapter       7\n",
       "1             p       1\n",
       "2             i       1\n",
       "3            am       2\n",
       "4            by       2\n",
       "...         ...     ...\n",
       "71221  distance       8\n",
       "71222       end       3\n",
       "71223   chapter       7\n",
       "71224       div       3\n",
       "71225     block       5\n",
       "\n",
       "[71226 rows x 2 columns]"
      ]
     },
     "execution_count": 8,
     "metadata": {},
     "output_type": "execute_result"
    }
   ],
   "source": [
    "df_words_len = pd.DataFrame({'words':unique_words}) # from list to DataFrame\n",
    "df_words_len['length'] = df_words_len['words'].apply(lambda x: len(x))\n",
    "df_words_len"
   ]
  },
  {
   "cell_type": "markdown",
   "id": "laughing-jersey",
   "metadata": {},
   "source": [
    "By looking at the DataFrame above, I can see that i need to exclude the words that have lenght 1."
   ]
  },
  {
   "cell_type": "code",
   "execution_count": 9,
   "id": "previous-elephant",
   "metadata": {},
   "outputs": [
    {
     "data": {
      "text/html": [
       "<div>\n",
       "<style scoped>\n",
       "    .dataframe tbody tr th:only-of-type {\n",
       "        vertical-align: middle;\n",
       "    }\n",
       "\n",
       "    .dataframe tbody tr th {\n",
       "        vertical-align: top;\n",
       "    }\n",
       "\n",
       "    .dataframe thead th {\n",
       "        text-align: right;\n",
       "    }\n",
       "</style>\n",
       "<table border=\"1\" class=\"dataframe\">\n",
       "  <thead>\n",
       "    <tr style=\"text-align: right;\">\n",
       "      <th></th>\n",
       "      <th>words</th>\n",
       "      <th>length</th>\n",
       "    </tr>\n",
       "  </thead>\n",
       "  <tbody>\n",
       "    <tr>\n",
       "      <th>1</th>\n",
       "      <td>p</td>\n",
       "      <td>1</td>\n",
       "    </tr>\n",
       "    <tr>\n",
       "      <th>49085</th>\n",
       "      <td>i</td>\n",
       "      <td>1</td>\n",
       "    </tr>\n",
       "    <tr>\n",
       "      <th>49068</th>\n",
       "      <td>a</td>\n",
       "      <td>1</td>\n",
       "    </tr>\n",
       "    <tr>\n",
       "      <th>49057</th>\n",
       "      <td>p</td>\n",
       "      <td>1</td>\n",
       "    </tr>\n",
       "    <tr>\n",
       "      <th>49039</th>\n",
       "      <td>i</td>\n",
       "      <td>1</td>\n",
       "    </tr>\n",
       "  </tbody>\n",
       "</table>\n",
       "</div>"
      ],
      "text/plain": [
       "      words  length\n",
       "1         p       1\n",
       "49085     i       1\n",
       "49068     a       1\n",
       "49057     p       1\n",
       "49039     i       1"
      ]
     },
     "execution_count": 9,
     "metadata": {},
     "output_type": "execute_result"
    }
   ],
   "source": [
    "exclude_words_df= (df_words_len[df_words_len['length']==1].sort_values(by='length'))\n",
    "exclude_words_df.head()"
   ]
  },
  {
   "cell_type": "code",
   "execution_count": 10,
   "id": "explicit-request",
   "metadata": {},
   "outputs": [
    {
     "data": {
      "text/html": [
       "<div>\n",
       "<style scoped>\n",
       "    .dataframe tbody tr th:only-of-type {\n",
       "        vertical-align: middle;\n",
       "    }\n",
       "\n",
       "    .dataframe tbody tr th {\n",
       "        vertical-align: top;\n",
       "    }\n",
       "\n",
       "    .dataframe thead th {\n",
       "        text-align: right;\n",
       "    }\n",
       "</style>\n",
       "<table border=\"1\" class=\"dataframe\">\n",
       "  <thead>\n",
       "    <tr style=\"text-align: right;\">\n",
       "      <th></th>\n",
       "      <th>words</th>\n",
       "      <th>length</th>\n",
       "    </tr>\n",
       "  </thead>\n",
       "  <tbody>\n",
       "    <tr>\n",
       "      <th>0</th>\n",
       "      <td>chapter</td>\n",
       "      <td>7</td>\n",
       "    </tr>\n",
       "    <tr>\n",
       "      <th>3</th>\n",
       "      <td>am</td>\n",
       "      <td>2</td>\n",
       "    </tr>\n",
       "    <tr>\n",
       "      <th>4</th>\n",
       "      <td>by</td>\n",
       "      <td>2</td>\n",
       "    </tr>\n",
       "    <tr>\n",
       "      <th>5</th>\n",
       "      <td>birth</td>\n",
       "      <td>5</td>\n",
       "    </tr>\n",
       "    <tr>\n",
       "      <th>7</th>\n",
       "      <td>genevese</td>\n",
       "      <td>8</td>\n",
       "    </tr>\n",
       "    <tr>\n",
       "      <th>...</th>\n",
       "      <td>...</td>\n",
       "      <td>...</td>\n",
       "    </tr>\n",
       "    <tr>\n",
       "      <th>71221</th>\n",
       "      <td>distance</td>\n",
       "      <td>8</td>\n",
       "    </tr>\n",
       "    <tr>\n",
       "      <th>71222</th>\n",
       "      <td>end</td>\n",
       "      <td>3</td>\n",
       "    </tr>\n",
       "    <tr>\n",
       "      <th>71223</th>\n",
       "      <td>chapter</td>\n",
       "      <td>7</td>\n",
       "    </tr>\n",
       "    <tr>\n",
       "      <th>71224</th>\n",
       "      <td>div</td>\n",
       "      <td>3</td>\n",
       "    </tr>\n",
       "    <tr>\n",
       "      <th>71225</th>\n",
       "      <td>block</td>\n",
       "      <td>5</td>\n",
       "    </tr>\n",
       "  </tbody>\n",
       "</table>\n",
       "<p>66459 rows × 2 columns</p>\n",
       "</div>"
      ],
      "text/plain": [
       "          words  length\n",
       "0       chapter       7\n",
       "3            am       2\n",
       "4            by       2\n",
       "5         birth       5\n",
       "7      genevese       8\n",
       "...         ...     ...\n",
       "71221  distance       8\n",
       "71222       end       3\n",
       "71223   chapter       7\n",
       "71224       div       3\n",
       "71225     block       5\n",
       "\n",
       "[66459 rows x 2 columns]"
      ]
     },
     "execution_count": 10,
     "metadata": {},
     "output_type": "execute_result"
    }
   ],
   "source": [
    "df_words_clean = df_words_len[df_words_len.length > 1]\n",
    "df_words_clean"
   ]
  },
  {
   "cell_type": "code",
   "execution_count": 11,
   "id": "express-halloween",
   "metadata": {},
   "outputs": [
    {
     "data": {
      "text/plain": [
       "66459"
      ]
     },
     "execution_count": 11,
     "metadata": {},
     "output_type": "execute_result"
    }
   ],
   "source": [
    "unique_words=list(df_words_clean['words'])\n",
    "len(unique_words)"
   ]
  },
  {
   "cell_type": "markdown",
   "id": "running-croatia",
   "metadata": {},
   "source": [
    "After removing words that has 1 characters, I can see that the total unique words in the corpus is **66,459.**"
   ]
  },
  {
   "cell_type": "markdown",
   "id": "light-theology",
   "metadata": {},
   "source": [
    "### 3.Taking the most common words, how many unique words represent half of the total words in the corpus?"
   ]
  },
  {
   "cell_type": "code",
   "execution_count": 12,
   "id": "delayed-forum",
   "metadata": {},
   "outputs": [
    {
     "data": {
      "text/plain": [
       "FreqDist({'the': 3928, 'and': 2807, 'of': 2470, 'to': 1922, 'my': 1642, 'in': 1032, 'was': 999, 'that': 948, 'me': 811, 'had': 658, ...})"
      ]
     },
     "execution_count": 12,
     "metadata": {},
     "output_type": "execute_result"
    }
   ],
   "source": [
    "data_freq_dist = nltk.FreqDist(unique_words)\n",
    "data_freq_dist"
   ]
  },
  {
   "cell_type": "markdown",
   "id": "reliable-riding",
   "metadata": {},
   "source": [
    "### Half of the unique words"
   ]
  },
  {
   "cell_type": "code",
   "execution_count": 13,
   "id": "limited-phase",
   "metadata": {},
   "outputs": [
    {
     "data": {
      "text/plain": [
       "33229.5"
      ]
     },
     "execution_count": 13,
     "metadata": {},
     "output_type": "execute_result"
    }
   ],
   "source": [
    "len(unique_words)/2"
   ]
  },
  {
   "cell_type": "markdown",
   "id": "promotional-layout",
   "metadata": {},
   "source": [
    "**Half of the unique words is 33,229 words.**"
   ]
  },
  {
   "cell_type": "markdown",
   "id": "boxed-court",
   "metadata": {},
   "source": [
    "## Count of the Words"
   ]
  },
  {
   "cell_type": "code",
   "execution_count": 21,
   "id": "finished-pennsylvania",
   "metadata": {},
   "outputs": [
    {
     "data": {
      "text/html": [
       "<div>\n",
       "<style scoped>\n",
       "    .dataframe tbody tr th:only-of-type {\n",
       "        vertical-align: middle;\n",
       "    }\n",
       "\n",
       "    .dataframe tbody tr th {\n",
       "        vertical-align: top;\n",
       "    }\n",
       "\n",
       "    .dataframe thead th {\n",
       "        text-align: right;\n",
       "    }\n",
       "</style>\n",
       "<table border=\"1\" class=\"dataframe\">\n",
       "  <thead>\n",
       "    <tr style=\"text-align: right;\">\n",
       "      <th></th>\n",
       "      <th>words</th>\n",
       "      <th>frequency</th>\n",
       "    </tr>\n",
       "  </thead>\n",
       "  <tbody>\n",
       "    <tr>\n",
       "      <th>0</th>\n",
       "      <td>the</td>\n",
       "      <td>3928</td>\n",
       "    </tr>\n",
       "    <tr>\n",
       "      <th>1</th>\n",
       "      <td>and</td>\n",
       "      <td>2807</td>\n",
       "    </tr>\n",
       "    <tr>\n",
       "      <th>2</th>\n",
       "      <td>of</td>\n",
       "      <td>2470</td>\n",
       "    </tr>\n",
       "    <tr>\n",
       "      <th>3</th>\n",
       "      <td>to</td>\n",
       "      <td>1922</td>\n",
       "    </tr>\n",
       "    <tr>\n",
       "      <th>4</th>\n",
       "      <td>my</td>\n",
       "      <td>1642</td>\n",
       "    </tr>\n",
       "    <tr>\n",
       "      <th>5</th>\n",
       "      <td>in</td>\n",
       "      <td>1032</td>\n",
       "    </tr>\n",
       "    <tr>\n",
       "      <th>6</th>\n",
       "      <td>was</td>\n",
       "      <td>999</td>\n",
       "    </tr>\n",
       "    <tr>\n",
       "      <th>7</th>\n",
       "      <td>that</td>\n",
       "      <td>948</td>\n",
       "    </tr>\n",
       "    <tr>\n",
       "      <th>8</th>\n",
       "      <td>me</td>\n",
       "      <td>811</td>\n",
       "    </tr>\n",
       "    <tr>\n",
       "      <th>9</th>\n",
       "      <td>had</td>\n",
       "      <td>658</td>\n",
       "    </tr>\n",
       "  </tbody>\n",
       "</table>\n",
       "</div>"
      ],
      "text/plain": [
       "  words  frequency\n",
       "0   the       3928\n",
       "1   and       2807\n",
       "2    of       2470\n",
       "3    to       1922\n",
       "4    my       1642\n",
       "5    in       1032\n",
       "6   was        999\n",
       "7  that        948\n",
       "8    me        811\n",
       "9   had        658"
      ]
     },
     "execution_count": 21,
     "metadata": {},
     "output_type": "execute_result"
    }
   ],
   "source": [
    "# the table\n",
    "df_all_words = pd.DataFrame(unique_words,columns=['words'])\n",
    "df_all_words_freq = pd.DataFrame(df_all_words['words'].value_counts()).reset_index(drop=False)\n",
    "df_all_words_freq.columns = ['words', 'frequency']\n",
    "df_all_words_freq.head(10)"
   ]
  },
  {
   "cell_type": "markdown",
   "id": "corresponding-toolbox",
   "metadata": {},
   "source": [
    "#### Lets find the most common words that represent half the total words in the corpus."
   ]
  },
  {
   "cell_type": "code",
   "execution_count": 26,
   "id": "reliable-brown",
   "metadata": {},
   "outputs": [
    {
     "data": {
      "text/html": [
       "<div>\n",
       "<style scoped>\n",
       "    .dataframe tbody tr th:only-of-type {\n",
       "        vertical-align: middle;\n",
       "    }\n",
       "\n",
       "    .dataframe tbody tr th {\n",
       "        vertical-align: top;\n",
       "    }\n",
       "\n",
       "    .dataframe thead th {\n",
       "        text-align: right;\n",
       "    }\n",
       "</style>\n",
       "<table border=\"1\" class=\"dataframe\">\n",
       "  <thead>\n",
       "    <tr style=\"text-align: right;\">\n",
       "      <th></th>\n",
       "      <th>words</th>\n",
       "      <th>frequency</th>\n",
       "      <th>Count_frequency</th>\n",
       "      <th>count_frequency</th>\n",
       "    </tr>\n",
       "  </thead>\n",
       "  <tbody>\n",
       "    <tr>\n",
       "      <th>0</th>\n",
       "      <td>the</td>\n",
       "      <td>3928</td>\n",
       "      <td>3928</td>\n",
       "      <td>3928</td>\n",
       "    </tr>\n",
       "    <tr>\n",
       "      <th>1</th>\n",
       "      <td>and</td>\n",
       "      <td>2807</td>\n",
       "      <td>6735</td>\n",
       "      <td>6735</td>\n",
       "    </tr>\n",
       "    <tr>\n",
       "      <th>2</th>\n",
       "      <td>of</td>\n",
       "      <td>2470</td>\n",
       "      <td>9205</td>\n",
       "      <td>9205</td>\n",
       "    </tr>\n",
       "    <tr>\n",
       "      <th>3</th>\n",
       "      <td>to</td>\n",
       "      <td>1922</td>\n",
       "      <td>11127</td>\n",
       "      <td>11127</td>\n",
       "    </tr>\n",
       "    <tr>\n",
       "      <th>4</th>\n",
       "      <td>my</td>\n",
       "      <td>1642</td>\n",
       "      <td>12769</td>\n",
       "      <td>12769</td>\n",
       "    </tr>\n",
       "  </tbody>\n",
       "</table>\n",
       "</div>"
      ],
      "text/plain": [
       "  words  frequency  Count_frequency  count_frequency\n",
       "0   the       3928             3928             3928\n",
       "1   and       2807             6735             6735\n",
       "2    of       2470             9205             9205\n",
       "3    to       1922            11127            11127\n",
       "4    my       1642            12769            12769"
      ]
     },
     "execution_count": 26,
     "metadata": {},
     "output_type": "execute_result"
    }
   ],
   "source": [
    "df_all_words_freq['count_frequency'] = df_all_words_freq['frequency'].cumsum()\n",
    "df_all_words_freq.head()"
   ]
  },
  {
   "cell_type": "code",
   "execution_count": 29,
   "id": "northern-crime",
   "metadata": {},
   "outputs": [
    {
     "name": "stdout",
     "output_type": "stream",
     "text": [
      "74 unique words represents the half of the total unique words in the corpus.\n"
     ]
    }
   ],
   "source": [
    "# find the amount of most common unique words that has the count of half of unique words\n",
    "rst = len(df_all_words_freq[df_all_words_freq['count_frequency'] <= len(unique_words)/2])\n",
    "print('{} unique words represents the half of the total unique words in the corpus.'.format(rst))"
   ]
  },
  {
   "cell_type": "markdown",
   "id": "monthly-dealing",
   "metadata": {},
   "source": [
    "### 4. Identify the 200 highest frequency words in this corpus."
   ]
  },
  {
   "cell_type": "markdown",
   "id": "generic-description",
   "metadata": {},
   "source": [
    "I am going to look at the unique words with highest frequency and review top 200 most common words.."
   ]
  },
  {
   "cell_type": "code",
   "execution_count": 31,
   "id": "premium-fountain",
   "metadata": {},
   "outputs": [
    {
     "name": "stdout",
     "output_type": "stream",
     "text": [
      "         words  count\n",
      "0          the   3928\n",
      "1          and   2807\n",
      "2           of   2470\n",
      "3           to   1922\n",
      "4           my   1642\n",
      "..         ...    ...\n",
      "195     months     37\n",
      "196    entered     37\n",
      "197  mountains     37\n",
      "198        new     37\n",
      "199    morning     37\n",
      "\n",
      "[200 rows x 2 columns]\n"
     ]
    }
   ],
   "source": [
    "data_freq_dist = nltk.FreqDist(unique_words)\n",
    "\n",
    "top_words = data_freq_dist.most_common(200)\n",
    "\n",
    "print(pd.DataFrame(top_words, columns = ['words', 'count']).head(200))"
   ]
  },
  {
   "cell_type": "markdown",
   "id": "criminal-maintenance",
   "metadata": {},
   "source": [
    "when I review the outcome, \"the\", \"and\", \"of\" ,\"to\" \"my\" are in top of the list"
   ]
  },
  {
   "cell_type": "markdown",
   "id": "historic-election",
   "metadata": {},
   "source": [
    "### 5. Create a graph that shows the relative frequency of these 200 words."
   ]
  },
  {
   "cell_type": "code",
   "execution_count": 33,
   "id": "heard-category",
   "metadata": {},
   "outputs": [
    {
     "data": {
      "image/png": "[encoded data removed]",
      "text/plain": [
       "<Figure size 1296x720 with 1 Axes>"
      ]
     },
     "metadata": {
      "needs_background": "light"
     },
     "output_type": "display_data"
    },
    {
     "data": {
      "text/plain": [
       "<AxesSubplot:title={'center':'Relative Frequency of Top 200 Words'}, xlabel='Samples', ylabel='Counts'>"
      ]
     },
     "execution_count": 33,
     "metadata": {},
     "output_type": "execute_result"
    }
   ],
   "source": [
    "\n",
    "plot.figure(figsize=(18, 10))\n",
    "\n",
    "plot.xticks(rotation=90)\n",
    "\n",
    "plot.rc('xtick', labelsize=7) \n",
    "\n",
    "plot.title(\"Relative Frequency of Top 200 Words\")\n",
    "\n",
    "data_freq_dist.plot(200)"
   ]
  },
  {
   "cell_type": "markdown",
   "id": "rural-horizontal",
   "metadata": {},
   "source": [
    "### 6. Does the observed relative frequency of these words follow Zipf’s law? Explain."
   ]
  },
  {
   "cell_type": "markdown",
   "id": "purple-michael",
   "metadata": {},
   "source": [
    "Zipf's law states that given a large sample of words used, the frequency of any word is inversely proportional to its rank in the frequency table. So word number n has a frequency proportional to 1/n.Thats means the word frequency has an inverse relationship to the rank in its frequency distribution. For example 4th most common word **(1642)** type should occur 50 times as frequently as the 200th most common word **(37)**.However, 37*50 =1850. In my cortus, I see partly this law play some role."
   ]
  },
  {
   "cell_type": "code",
   "execution_count": 34,
   "id": "rocky-spring",
   "metadata": {},
   "outputs": [
    {
     "name": "stdout",
     "output_type": "stream",
     "text": [
      "         words  count\n",
      "0          the   3928\n",
      "1          and   2807\n",
      "2           of   2470\n",
      "3           to   1922\n",
      "4           my   1642\n",
      "..         ...    ...\n",
      "195     months     37\n",
      "196    entered     37\n",
      "197  mountains     37\n",
      "198        new     37\n",
      "199    morning     37\n",
      "\n",
      "[200 rows x 2 columns]\n"
     ]
    }
   ],
   "source": [
    "print(pd.DataFrame(top_words, columns = ['words', 'count']).head(200))"
   ]
  },
  {
   "cell_type": "markdown",
   "id": "contrary-disease",
   "metadata": {},
   "source": [
    "### 7. In what ways do you think the frequency of the words in this corpus differ from “all words in all corpora.\""
   ]
  },
  {
   "cell_type": "markdown",
   "id": "north-upgrade",
   "metadata": {},
   "source": [
    "I will review another corpus and find out the frequent word of corpus and the difference of the frequency of the words  from all words in all corpora. I am doing to use Reuters Corpus. More information about Reuters Corupus can be found \n",
    "[here](https://www.nltk.org/book/ch02.html)."
   ]
  },
  {
   "cell_type": "code",
   "execution_count": 59,
   "id": "iraqi-adjustment",
   "metadata": {},
   "outputs": [
    {
     "data": {
      "text/plain": [
       "['acq',\n",
       " 'alum',\n",
       " 'barley',\n",
       " 'bop',\n",
       " 'carcass',\n",
       " 'castor-oil',\n",
       " 'cocoa',\n",
       " 'coconut',\n",
       " 'coconut-oil',\n",
       " 'coffee',\n",
       " 'copper',\n",
       " 'copra-cake',\n",
       " 'corn',\n",
       " 'cotton',\n",
       " 'cotton-oil',\n",
       " 'cpi',\n",
       " 'cpu',\n",
       " 'crude',\n",
       " 'dfl',\n",
       " 'dlr',\n",
       " 'dmk',\n",
       " 'earn',\n",
       " 'fuel',\n",
       " 'gas',\n",
       " 'gnp',\n",
       " 'gold',\n",
       " 'grain',\n",
       " 'groundnut',\n",
       " 'groundnut-oil',\n",
       " 'heat',\n",
       " 'hog',\n",
       " 'housing',\n",
       " 'income',\n",
       " 'instal-debt',\n",
       " 'interest',\n",
       " 'ipi',\n",
       " 'iron-steel',\n",
       " 'jet',\n",
       " 'jobs',\n",
       " 'l-cattle',\n",
       " 'lead',\n",
       " 'lei',\n",
       " 'lin-oil',\n",
       " 'livestock',\n",
       " 'lumber',\n",
       " 'meal-feed',\n",
       " 'money-fx',\n",
       " 'money-supply',\n",
       " 'naphtha',\n",
       " 'nat-gas',\n",
       " 'nickel',\n",
       " 'nkr',\n",
       " 'nzdlr',\n",
       " 'oat',\n",
       " 'oilseed',\n",
       " 'orange',\n",
       " 'palladium',\n",
       " 'palm-oil',\n",
       " 'palmkernel',\n",
       " 'pet-chem',\n",
       " 'platinum',\n",
       " 'potato',\n",
       " 'propane',\n",
       " 'rand',\n",
       " 'rape-oil',\n",
       " 'rapeseed',\n",
       " 'reserves',\n",
       " 'retail',\n",
       " 'rice',\n",
       " 'rubber',\n",
       " 'rye',\n",
       " 'ship',\n",
       " 'silver',\n",
       " 'sorghum',\n",
       " 'soy-meal',\n",
       " 'soy-oil',\n",
       " 'soybean',\n",
       " 'strategic-metal',\n",
       " 'sugar',\n",
       " 'sun-meal',\n",
       " 'sun-oil',\n",
       " 'sunseed',\n",
       " 'tea',\n",
       " 'tin',\n",
       " 'trade',\n",
       " 'veg-oil',\n",
       " 'wheat',\n",
       " 'wpi',\n",
       " 'yen',\n",
       " 'zinc']"
      ]
     },
     "execution_count": 59,
     "metadata": {},
     "output_type": "execute_result"
    }
   ],
   "source": [
    "from nltk.corpus import reuters\n",
    "reuters.categories()"
   ]
  },
  {
   "cell_type": "code",
   "execution_count": 79,
   "id": "bibliographic-formation",
   "metadata": {},
   "outputs": [
    {
     "name": "stdout",
     "output_type": "stream",
     "text": [
      "Before cleaning the letters unique word number :30656\n",
      "After cleaning the letters unique word number :29568\n"
     ]
    },
    {
     "data": {
      "text/plain": [
       "[('the', 1710), ('to', 1005), ('of', 827), ('in', 649), ('coffee', 643)]"
      ]
     },
     "execution_count": 79,
     "metadata": {},
     "output_type": "execute_result"
    }
   ],
   "source": [
    "# I am going to select coffee \n",
    "from nltk.corpus import reuters\n",
    "reuters = reuters.words(categories='coffee')\n",
    "unique_words_reuters = [word for word in reuters if word.isalpha()] #alphanumeric\n",
    "unique_words_reuters = [word.lower() for word in unique_words_reuters] #lowercase\n",
    "df_words = pd.DataFrame({'words':unique_words_reuters})\n",
    "df_words['length'] = df_words['words'].apply(lambda x: len(x))\n",
    "df_words_clean = (df_words[df_words['length']>1].sort_values(by='length'))\n",
    "print('Before cleaning the letters unique words number :{}'.format(df_words.shape[0]))\n",
    "print('After cleaning the letters unique words number :{}'.format(df_words_clean.shape[0]))\n",
    "unique_words=list(df_words_clean['words'])\n",
    "brown_freq_dist = nltk.FreqDist(unique_words)\n",
    "highest_frequency_unique = brown_freq_dist.most_common(200)\n",
    "highest_frequency_unique[0:5]"
   ]
  },
  {
   "cell_type": "code",
   "execution_count": 80,
   "id": "unlikely-evening",
   "metadata": {},
   "outputs": [
    {
     "data": {
      "text/html": [
       "<div>\n",
       "<style scoped>\n",
       "    .dataframe tbody tr th:only-of-type {\n",
       "        vertical-align: middle;\n",
       "    }\n",
       "\n",
       "    .dataframe tbody tr th {\n",
       "        vertical-align: top;\n",
       "    }\n",
       "\n",
       "    .dataframe thead th {\n",
       "        text-align: right;\n",
       "    }\n",
       "</style>\n",
       "<table border=\"1\" class=\"dataframe\">\n",
       "  <thead>\n",
       "    <tr style=\"text-align: right;\">\n",
       "      <th></th>\n",
       "      <th>words</th>\n",
       "      <th>length</th>\n",
       "    </tr>\n",
       "  </thead>\n",
       "  <tbody>\n",
       "    <tr>\n",
       "      <th>5346</th>\n",
       "      <td>to</td>\n",
       "      <td>2</td>\n",
       "    </tr>\n",
       "    <tr>\n",
       "      <th>8264</th>\n",
       "      <td>is</td>\n",
       "      <td>2</td>\n",
       "    </tr>\n",
       "    <tr>\n",
       "      <th>24909</th>\n",
       "      <td>it</td>\n",
       "      <td>2</td>\n",
       "    </tr>\n",
       "    <tr>\n",
       "      <th>8266</th>\n",
       "      <td>to</td>\n",
       "      <td>2</td>\n",
       "    </tr>\n",
       "    <tr>\n",
       "      <th>8267</th>\n",
       "      <td>be</td>\n",
       "      <td>2</td>\n",
       "    </tr>\n",
       "    <tr>\n",
       "      <th>...</th>\n",
       "      <td>...</td>\n",
       "      <td>...</td>\n",
       "    </tr>\n",
       "    <tr>\n",
       "      <th>1635</th>\n",
       "      <td>reafforestation</td>\n",
       "      <td>15</td>\n",
       "    </tr>\n",
       "    <tr>\n",
       "      <th>8346</th>\n",
       "      <td>overstimulating</td>\n",
       "      <td>15</td>\n",
       "    </tr>\n",
       "    <tr>\n",
       "      <th>30341</th>\n",
       "      <td>representatives</td>\n",
       "      <td>15</td>\n",
       "    </tr>\n",
       "    <tr>\n",
       "      <th>30522</th>\n",
       "      <td>representatives</td>\n",
       "      <td>15</td>\n",
       "    </tr>\n",
       "    <tr>\n",
       "      <th>14104</th>\n",
       "      <td>suratanakaweekul</td>\n",
       "      <td>16</td>\n",
       "    </tr>\n",
       "  </tbody>\n",
       "</table>\n",
       "<p>29568 rows × 2 columns</p>\n",
       "</div>"
      ],
      "text/plain": [
       "                  words  length\n",
       "5346                 to       2\n",
       "8264                 is       2\n",
       "24909                it       2\n",
       "8266                 to       2\n",
       "8267                 be       2\n",
       "...                 ...     ...\n",
       "1635    reafforestation      15\n",
       "8346    overstimulating      15\n",
       "30341   representatives      15\n",
       "30522   representatives      15\n",
       "14104  suratanakaweekul      16\n",
       "\n",
       "[29568 rows x 2 columns]"
      ]
     },
     "execution_count": 80,
     "metadata": {},
     "output_type": "execute_result"
    }
   ],
   "source": [
    "df_words_clean"
   ]
  }
 ],
 "metadata": {
  "kernelspec": {
   "display_name": "Python 3",
   "language": "python",
   "name": "python3"
  },
  "language_info": {
   "codemirror_mode": {
    "name": "ipython",
    "version": 3
   },
   "file_extension": ".py",
   "mimetype": "text/x-python",
   "name": "python",
   "nbconvert_exporter": "python",
   "pygments_lexer": "ipython3",
   "version": "3.7.10"
  }
 },
 "nbformat": 4,
 "nbformat_minor": 5
}
