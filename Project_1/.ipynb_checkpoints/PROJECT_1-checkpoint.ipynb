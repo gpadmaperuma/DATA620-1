{
 "cells": [
  {
   "cell_type": "markdown",
   "id": "vanilla-negative",
   "metadata": {},
   "source": [
    "# PROJECT 1"
   ]
  },
  {
   "cell_type": "markdown",
   "id": "auburn-nevada",
   "metadata": {},
   "source": [
    "### Author :Omer Ozeren"
   ]
  },
  {
   "cell_type": "code",
   "execution_count": 1,
   "id": "subject-depth",
   "metadata": {},
   "outputs": [
    {
     "name": "stderr",
     "output_type": "stream",
     "text": [
      "\n",
      "Bad key \"text.kerning_factor\" on line 4 in\n",
      "/Users/omerozeren/opt/anaconda3/envs/sps620env/lib/python3.7/site-packages/matplotlib/mpl-data/stylelib/_classic_test_patch.mplstyle.\n",
      "You probably need to get an updated matplotlibrc file from\n",
      "http://github.com/matplotlib/matplotlib/blob/master/matplotlibrc.template\n",
      "or from the matplotlib source distribution\n"
     ]
    }
   ],
   "source": [
    "import pandas as pd\n",
    "import matplotlib.pyplot as plt\n",
    "import networkx as nx"
   ]
  },
  {
   "cell_type": "markdown",
   "id": "legitimate-vegetation",
   "metadata": {},
   "source": [
    "### LOAD DATA :"
   ]
  },
  {
   "cell_type": "code",
   "execution_count": 2,
   "id": "breeding-pillow",
   "metadata": {},
   "outputs": [
    {
     "name": "stdout",
     "output_type": "stream",
     "text": [
      "Name: \n",
      "Type: Graph\n",
      "Number of nodes: 112\n",
      "Number of edges: 425\n",
      "Average degree:   7.5893\n",
      "\n",
      "Graph Diameter: 5\n"
     ]
    }
   ],
   "source": [
    "file = 'adjnoun.gml'\n",
    "G = nx.read_gml(file)\n",
    "print(nx.info(G))\n",
    "print('\\nGraph Diameter:', nx.diameter(G))"
   ]
  },
  {
   "cell_type": "markdown",
   "id": "identical-delta",
   "metadata": {},
   "source": [
    "### Degrees :\n",
    "**Identify and load a network dataset that has some categorical information available for each node.**"
   ]
  },
  {
   "cell_type": "code",
   "execution_count": 3,
   "id": "dense-index",
   "metadata": {},
   "outputs": [
    {
     "name": "stdout",
     "output_type": "stream",
     "text": [
      "agreeable:3\n",
      "man:14\n",
      "old:33\n",
      "person:9\n",
      "anything:2\n",
      "short:7\n",
      "arm:6\n",
      "round:11\n",
      "aunt:1\n",
      "first:17\n",
      "bad:4\n",
      "air:7\n",
      "boy:10\n",
      "beautiful:6\n",
      "black:12\n",
      "face:12\n",
      "letter:3\n",
      "little:49\n",
      "young:14\n",
      "best:9\n",
      "course:5\n",
      "friend:10\n",
      "love:5\n",
      "part:8\n",
      "room:15\n",
      "thing:14\n",
      "time:11\n",
      "way:15\n",
      "better:13\n",
      "heart:5\n",
      "mind:6\n",
      "place:12\n",
      "right:10\n",
      "state:5\n",
      "woman:7\n",
      "word:6\n",
      "door:7\n",
      "eye:10\n",
      "bright:9\n",
      "evening:5\n",
      "morning:4\n",
      "certain:8\n",
      "day:7\n",
      "other:28\n",
      "child:7\n",
      "happy:6\n",
      "common:3\n",
      "dark:5\n",
      "kind:10\n",
      "night:5\n",
      "dear:15\n",
      "good:28\n",
      "home:7\n",
      "mother:6\n",
      "pretty:13\n",
      "open:3\n",
      "early:4\n",
      "fire:3\n",
      "full:2\n",
      "great:13\n",
      "master:5\n",
      "moment:2\n",
      "work:2\n",
      "general:5\n",
      "fancy:1\n",
      "voice:6\n",
      "head:7\n",
      "hope:4\n",
      "long:12\n",
      "greater:2\n",
      "hand:12\n",
      "hard:6\n",
      "red:7\n",
      "life:7\n",
      "glad:1\n",
      "large:10\n",
      "new:12\n",
      "white:3\n",
      "late:3\n",
      "whole:13\n",
      "light:8\n",
      "manner:6\n",
      "bed:1\n",
      "house:5\n",
      "low:6\n",
      "money:2\n",
      "ready:2\n",
      "small:10\n",
      "strange:6\n",
      "thought:7\n",
      "lost:1\n",
      "alone:1\n",
      "nothing:6\n",
      "miserable:2\n",
      "natural:3\n",
      "half:1\n",
      "wrong:3\n",
      "name:1\n",
      "pleasant:5\n",
      "possible:2\n",
      "side:3\n",
      "perfect:2\n",
      "poor:10\n",
      "quiet:9\n",
      "same:21\n",
      "strong:7\n",
      "something:6\n",
      "true:2\n",
      "usual:4\n",
      "family:1\n",
      "world:2\n",
      "year:1\n"
     ]
    }
   ],
   "source": [
    "degrees_with_item ={}\n",
    "for item in G.nodes():\n",
    "    degrees_with_item[item] = len(list(G.neighbors(item)))\n",
    "    print ('{}:{}'.format(item,str(len(list(G.neighbors(item))))))"
   ]
  },
  {
   "cell_type": "markdown",
   "id": "prompt-plaza",
   "metadata": {},
   "source": [
    "### Distribution of Degrees :"
   ]
  },
  {
   "cell_type": "code",
   "execution_count": 4,
   "id": "selected-malpractice",
   "metadata": {},
   "outputs": [
    {
     "data": {
      "image/png": "[encoded data removed]",
      "text/plain": [
       "<Figure size 432x288 with 1 Axes>"
      ]
     },
     "metadata": {
      "needs_background": "light"
     },
     "output_type": "display_data"
    }
   ],
   "source": [
    "# Compute the degree of every node: degrees\n",
    "degrees = [len(list(G.neighbors(n))) for n in G.nodes()]\n",
    "\n",
    "plt.figure()\n",
    "plt.hist(degrees)\n",
    "plt.show()"
   ]
  },
  {
   "cell_type": "markdown",
   "id": "convenient-latest",
   "metadata": {},
   "source": [
    "## Define Highest Neighbors :\n",
    "The \"little\" has the highest number of neighbors which is 49.The \"little\",\"old\",\"other\", \"good\" and \"same\" has the highest number of neighbors amonth the others and can be considered as important in network."
   ]
  },
  {
   "cell_type": "code",
   "execution_count": 5,
   "id": "norman-bishop",
   "metadata": {},
   "outputs": [
    {
     "data": {
      "text/plain": [
       "[('little', 49),\n",
       " ('old', 33),\n",
       " ('other', 28),\n",
       " ('good', 28),\n",
       " ('same', 21),\n",
       " ('first', 17),\n",
       " ('room', 15),\n",
       " ('way', 15),\n",
       " ('dear', 15),\n",
       " ('man', 14),\n",
       " ('young', 14),\n",
       " ('thing', 14),\n",
       " ('better', 13),\n",
       " ('pretty', 13),\n",
       " ('great', 13),\n",
       " ('whole', 13),\n",
       " ('black', 12),\n",
       " ('face', 12),\n",
       " ('place', 12),\n",
       " ('long', 12),\n",
       " ('hand', 12),\n",
       " ('new', 12),\n",
       " ('round', 11),\n",
       " ('time', 11),\n",
       " ('boy', 10),\n",
       " ('friend', 10),\n",
       " ('right', 10),\n",
       " ('eye', 10),\n",
       " ('kind', 10),\n",
       " ('large', 10),\n",
       " ('small', 10),\n",
       " ('poor', 10),\n",
       " ('person', 9),\n",
       " ('best', 9),\n",
       " ('bright', 9),\n",
       " ('quiet', 9),\n",
       " ('part', 8),\n",
       " ('certain', 8),\n",
       " ('light', 8),\n",
       " ('short', 7),\n",
       " ('air', 7),\n",
       " ('woman', 7),\n",
       " ('door', 7),\n",
       " ('day', 7),\n",
       " ('child', 7),\n",
       " ('home', 7),\n",
       " ('head', 7),\n",
       " ('red', 7),\n",
       " ('life', 7),\n",
       " ('thought', 7),\n",
       " ('strong', 7),\n",
       " ('arm', 6),\n",
       " ('beautiful', 6),\n",
       " ('mind', 6),\n",
       " ('word', 6),\n",
       " ('happy', 6),\n",
       " ('mother', 6),\n",
       " ('voice', 6),\n",
       " ('hard', 6),\n",
       " ('manner', 6),\n",
       " ('low', 6),\n",
       " ('strange', 6),\n",
       " ('nothing', 6),\n",
       " ('something', 6),\n",
       " ('course', 5),\n",
       " ('love', 5),\n",
       " ('heart', 5),\n",
       " ('state', 5),\n",
       " ('evening', 5),\n",
       " ('dark', 5),\n",
       " ('night', 5),\n",
       " ('master', 5),\n",
       " ('general', 5),\n",
       " ('house', 5),\n",
       " ('pleasant', 5),\n",
       " ('bad', 4),\n",
       " ('morning', 4),\n",
       " ('early', 4),\n",
       " ('hope', 4),\n",
       " ('usual', 4),\n",
       " ('agreeable', 3),\n",
       " ('letter', 3),\n",
       " ('common', 3),\n",
       " ('open', 3),\n",
       " ('fire', 3),\n",
       " ('white', 3),\n",
       " ('late', 3),\n",
       " ('natural', 3),\n",
       " ('wrong', 3),\n",
       " ('side', 3),\n",
       " ('anything', 2),\n",
       " ('full', 2),\n",
       " ('moment', 2),\n",
       " ('work', 2),\n",
       " ('greater', 2),\n",
       " ('money', 2),\n",
       " ('ready', 2),\n",
       " ('miserable', 2),\n",
       " ('possible', 2),\n",
       " ('perfect', 2),\n",
       " ('true', 2),\n",
       " ('world', 2),\n",
       " ('aunt', 1),\n",
       " ('fancy', 1),\n",
       " ('glad', 1),\n",
       " ('bed', 1),\n",
       " ('lost', 1),\n",
       " ('alone', 1),\n",
       " ('half', 1),\n",
       " ('name', 1),\n",
       " ('family', 1),\n",
       " ('year', 1)]"
      ]
     },
     "execution_count": 5,
     "metadata": {},
     "output_type": "execute_result"
    }
   ],
   "source": [
    "sorted(degrees_with_item.items(), key=lambda x: x[1],reverse=True)"
   ]
  },
  {
   "cell_type": "markdown",
   "id": "sonic-livestock",
   "metadata": {},
   "source": [
    "## Centrality\n",
    "\n",
    "**For each of the nodes in the dataset, calculate degree centrality and eigenvector centrality.**"
   ]
  },
  {
   "cell_type": "markdown",
   "id": "swedish-click",
   "metadata": {},
   "source": [
    "### Degree of Centrality :\n",
    "The degree of centrality which is the number of neighbors  divided by number of nodes.Degree centrality is the measure of how many neighbors a node has"
   ]
  },
  {
   "cell_type": "code",
   "execution_count": 7,
   "id": "resident-employer",
   "metadata": {},
   "outputs": [
    {
     "name": "stdout",
     "output_type": "stream",
     "text": [
      "The total number of neighbors :  49\n",
      "Total total number of nodes :  112\n",
      "Degree Centrality of 'little':  0.44144144144144143\n",
      "Degree Centrality by using nx:  0.44144144144144143\n"
     ]
    }
   ],
   "source": [
    "num_neighbors = len(list(G.neighbors('little')))\n",
    "num_nodes = len(G.nodes())\n",
    "print(\"The total number of neighbors : \", num_neighbors)\n",
    "print(\"Total total number of nodes : \", num_nodes)\n",
    "print(\"Degree Centrality of 'little': \", num_neighbors/(num_nodes - 1))\n",
    "print(\"Degree Centrality by using nx: \", max(list(nx.degree_centrality(G).values())))"
   ]
  },
  {
   "cell_type": "markdown",
   "id": "finite-artist",
   "metadata": {},
   "source": [
    "### Degree of centrality for each item\n",
    "As we can see sorted degree of centrality for each item .The \"little\" is the highest and \"old\", \"other\", \"good\" comes later."
   ]
  },
  {
   "cell_type": "code",
   "execution_count": 8,
   "id": "virgin-candle",
   "metadata": {},
   "outputs": [
    {
     "data": {
      "text/plain": [
       "[('little', 0.44144144144144143),\n",
       " ('old', 0.2972972972972973),\n",
       " ('other', 0.25225225225225223),\n",
       " ('good', 0.25225225225225223),\n",
       " ('same', 0.1891891891891892),\n",
       " ('first', 0.15315315315315314),\n",
       " ('room', 0.13513513513513514),\n",
       " ('way', 0.13513513513513514),\n",
       " ('dear', 0.13513513513513514),\n",
       " ('man', 0.12612612612612611),\n",
       " ('young', 0.12612612612612611),\n",
       " ('thing', 0.12612612612612611),\n",
       " ('better', 0.11711711711711711),\n",
       " ('pretty', 0.11711711711711711),\n",
       " ('great', 0.11711711711711711),\n",
       " ('whole', 0.11711711711711711),\n",
       " ('black', 0.10810810810810811),\n",
       " ('face', 0.10810810810810811),\n",
       " ('place', 0.10810810810810811),\n",
       " ('long', 0.10810810810810811),\n",
       " ('hand', 0.10810810810810811),\n",
       " ('new', 0.10810810810810811),\n",
       " ('round', 0.0990990990990991),\n",
       " ('time', 0.0990990990990991),\n",
       " ('boy', 0.09009009009009009),\n",
       " ('friend', 0.09009009009009009),\n",
       " ('right', 0.09009009009009009),\n",
       " ('eye', 0.09009009009009009),\n",
       " ('kind', 0.09009009009009009),\n",
       " ('large', 0.09009009009009009),\n",
       " ('small', 0.09009009009009009),\n",
       " ('poor', 0.09009009009009009),\n",
       " ('person', 0.08108108108108109),\n",
       " ('best', 0.08108108108108109),\n",
       " ('bright', 0.08108108108108109),\n",
       " ('quiet', 0.08108108108108109),\n",
       " ('part', 0.07207207207207207),\n",
       " ('certain', 0.07207207207207207),\n",
       " ('light', 0.07207207207207207),\n",
       " ('short', 0.06306306306306306),\n",
       " ('air', 0.06306306306306306),\n",
       " ('woman', 0.06306306306306306),\n",
       " ('door', 0.06306306306306306),\n",
       " ('day', 0.06306306306306306),\n",
       " ('child', 0.06306306306306306),\n",
       " ('home', 0.06306306306306306),\n",
       " ('head', 0.06306306306306306),\n",
       " ('red', 0.06306306306306306),\n",
       " ('life', 0.06306306306306306),\n",
       " ('thought', 0.06306306306306306),\n",
       " ('strong', 0.06306306306306306),\n",
       " ('arm', 0.05405405405405406),\n",
       " ('beautiful', 0.05405405405405406),\n",
       " ('mind', 0.05405405405405406),\n",
       " ('word', 0.05405405405405406),\n",
       " ('happy', 0.05405405405405406),\n",
       " ('mother', 0.05405405405405406),\n",
       " ('voice', 0.05405405405405406),\n",
       " ('hard', 0.05405405405405406),\n",
       " ('manner', 0.05405405405405406),\n",
       " ('low', 0.05405405405405406),\n",
       " ('strange', 0.05405405405405406),\n",
       " ('nothing', 0.05405405405405406),\n",
       " ('something', 0.05405405405405406),\n",
       " ('course', 0.04504504504504504),\n",
       " ('love', 0.04504504504504504),\n",
       " ('heart', 0.04504504504504504),\n",
       " ('state', 0.04504504504504504),\n",
       " ('evening', 0.04504504504504504),\n",
       " ('dark', 0.04504504504504504),\n",
       " ('night', 0.04504504504504504),\n",
       " ('master', 0.04504504504504504),\n",
       " ('general', 0.04504504504504504),\n",
       " ('house', 0.04504504504504504),\n",
       " ('pleasant', 0.04504504504504504),\n",
       " ('bad', 0.036036036036036036),\n",
       " ('morning', 0.036036036036036036),\n",
       " ('early', 0.036036036036036036),\n",
       " ('hope', 0.036036036036036036),\n",
       " ('usual', 0.036036036036036036),\n",
       " ('agreeable', 0.02702702702702703),\n",
       " ('letter', 0.02702702702702703),\n",
       " ('common', 0.02702702702702703),\n",
       " ('open', 0.02702702702702703),\n",
       " ('fire', 0.02702702702702703),\n",
       " ('white', 0.02702702702702703),\n",
       " ('late', 0.02702702702702703),\n",
       " ('natural', 0.02702702702702703),\n",
       " ('wrong', 0.02702702702702703),\n",
       " ('side', 0.02702702702702703),\n",
       " ('anything', 0.018018018018018018),\n",
       " ('full', 0.018018018018018018),\n",
       " ('moment', 0.018018018018018018),\n",
       " ('work', 0.018018018018018018),\n",
       " ('greater', 0.018018018018018018),\n",
       " ('money', 0.018018018018018018),\n",
       " ('ready', 0.018018018018018018),\n",
       " ('miserable', 0.018018018018018018),\n",
       " ('possible', 0.018018018018018018),\n",
       " ('perfect', 0.018018018018018018),\n",
       " ('true', 0.018018018018018018),\n",
       " ('world', 0.018018018018018018),\n",
       " ('aunt', 0.009009009009009009),\n",
       " ('fancy', 0.009009009009009009),\n",
       " ('glad', 0.009009009009009009),\n",
       " ('bed', 0.009009009009009009),\n",
       " ('lost', 0.009009009009009009),\n",
       " ('alone', 0.009009009009009009),\n",
       " ('half', 0.009009009009009009),\n",
       " ('name', 0.009009009009009009),\n",
       " ('family', 0.009009009009009009),\n",
       " ('year', 0.009009009009009009)]"
      ]
     },
     "execution_count": 8,
     "metadata": {},
     "output_type": "execute_result"
    }
   ],
   "source": [
    "sorted(list(nx.degree_centrality(G).items()),key=lambda x: x[1],reverse=True)"
   ]
  },
  {
   "cell_type": "markdown",
   "id": "pressing-syntax",
   "metadata": {},
   "source": [
    "### Historical Plot for Degree of Centrality"
   ]
  },
  {
   "cell_type": "code",
   "execution_count": 9,
   "id": "parliamentary-bandwidth",
   "metadata": {
    "scrolled": false
   },
   "outputs": [
    {
     "data": {
      "image/png": "[encoded data removed]",
      "text/plain": [
       "<Figure size 432x288 with 1 Axes>"
      ]
     },
     "metadata": {
      "needs_background": "light"
     },
     "output_type": "display_data"
    },
    {
     "data": {
      "image/png": "[encoded data removed]",
      "text/plain": [
       "<Figure size 432x288 with 1 Axes>"
      ]
     },
     "metadata": {
      "needs_background": "light"
     },
     "output_type": "display_data"
    }
   ],
   "source": [
    "# Compute the degree centrality \n",
    "degree_centrality = nx.degree_centrality(G)\n",
    "# Plot a histogram of the degree centrality \n",
    "plt.figure()\n",
    "plt.hist(list(degree_centrality.values()))\n",
    "plt.show()\n",
    "\n",
    "# Plot a scatter plot of the centrality \n",
    "plt.figure()\n",
    "plt.scatter(degrees, list(degree_centrality.values()))\n",
    "plt.show()"
   ]
  },
  {
   "cell_type": "markdown",
   "id": "therapeutic-processor",
   "metadata": {},
   "source": [
    "### Eigenvector centrality :\n",
    "Eigenvector centrality measures a node’s importance based on the importance of its neighbors. Unlike degree centrality, it does not take into account how many connection a node has. That is, a person with few connections may have a higher eigenvector centrality measure depending on how well connected those connections are. The sorted values of Eigenvector centrality for each variables shown below.The below shows that \"little\" has the highest Eigenvector cenrality value, \"old,\"other\",\"good\",first\" comes later."
   ]
  },
  {
   "cell_type": "code",
   "execution_count": 24,
   "id": "challenging-token",
   "metadata": {},
   "outputs": [
    {
     "data": {
      "text/plain": [
       "[('little', 0.4009759281963071),\n",
       " ('old', 0.2832727130880712),\n",
       " ('good', 0.24214273052290808),\n",
       " ('other', 0.21990290846751914),\n",
       " ('same', 0.18840019160686636),\n",
       " ('dear', 0.16124709774394372),\n",
       " ('room', 0.14973582657688736),\n",
       " ('thing', 0.14910383223672113),\n",
       " ('pretty', 0.1446591372289283),\n",
       " ('place', 0.1419575414293363),\n",
       " ('first', 0.14172826149326204),\n",
       " ('way', 0.14032546946548816),\n",
       " ('man', 0.13993375408673772),\n",
       " ('time', 0.1392736993329949),\n",
       " ('friend', 0.13836800472724226),\n",
       " ('young', 0.12294647153524207),\n",
       " ('hand', 0.12041213872412353),\n",
       " ('face', 0.11926490458721285),\n",
       " ('black', 0.11897198207341192),\n",
       " ('great', 0.11893060248927283),\n",
       " ('boy', 0.11841565989917491),\n",
       " ('poor', 0.1171130355948463),\n",
       " ('round', 0.11218745482468939),\n",
       " ('head', 0.1077121017196547),\n",
       " ('better', 0.10487235907469451),\n",
       " ('small', 0.10238503551910255),\n",
       " ('right', 0.10236644542773753),\n",
       " ('long', 0.10023431774468561),\n",
       " ('woman', 0.09953897558882646),\n",
       " ('bright', 0.09952392519811241),\n",
       " ('door', 0.098514385515387),\n",
       " ('quiet', 0.09634990505480916),\n",
       " ('kind', 0.0936416981602211),\n",
       " ('person', 0.09195245691569362),\n",
       " ('certain', 0.0905279712685406),\n",
       " ('child', 0.08974474548429032),\n",
       " ('light', 0.08679106970428686),\n",
       " ('eye', 0.08343241781333877),\n",
       " ('house', 0.08163282726943727),\n",
       " ('word', 0.08071707776587261),\n",
       " ('part', 0.08026181211591234),\n",
       " ('best', 0.0783818479460488),\n",
       " ('red', 0.0768646584416098),\n",
       " ('pleasant', 0.0762670029345219),\n",
       " ('large', 0.07616754278607395),\n",
       " ('short', 0.07366818145838029),\n",
       " ('home', 0.07056603050794477),\n",
       " ('strange', 0.07047650625968652),\n",
       " ('new', 0.06923229698130476),\n",
       " ('beautiful', 0.0685277649294606),\n",
       " ('strong', 0.06828076074192982),\n",
       " ('whole', 0.06695567813323794),\n",
       " ('day', 0.06480889126402307),\n",
       " ('low', 0.06344810383953874),\n",
       " ('love', 0.06285943134140995),\n",
       " ('voice', 0.06221813830946379),\n",
       " ('hope', 0.061956017147032236),\n",
       " ('thought', 0.057114930514196006),\n",
       " ('happy', 0.053105636128424914),\n",
       " ('miserable', 0.052033176835605585),\n",
       " ('life', 0.05197034699783831),\n",
       " ('mother', 0.04981319229962669),\n",
       " ('air', 0.049408896297560005),\n",
       " ('manner', 0.04936785506242793),\n",
       " ('mind', 0.049367775318721434),\n",
       " ('night', 0.04910458432494644),\n",
       " ('evening', 0.04799720819508629),\n",
       " ('white', 0.04762269483743932),\n",
       " ('arm', 0.04723670478075001),\n",
       " ('something', 0.04537389587826223),\n",
       " ('ready', 0.04128718234960646),\n",
       " ('agreeable', 0.03917507554800456),\n",
       " ('money', 0.0374845092382214),\n",
       " ('common', 0.03630670272074233),\n",
       " ('general', 0.03609083643837161),\n",
       " ('dark', 0.034690021526891136),\n",
       " ('state', 0.033158691276694185),\n",
       " ('bad', 0.03201681922261124),\n",
       " ('hard', 0.03141475574259059),\n",
       " ('course', 0.030861842455585136),\n",
       " ('fire', 0.030550284575451624),\n",
       " ('bed', 0.030491952929977518),\n",
       " ('usual', 0.029721320076937934),\n",
       " ('master', 0.029350591746261024),\n",
       " ('late', 0.02835413901256673),\n",
       " ('moment', 0.025104392742902118),\n",
       " ('side', 0.025038733630789956),\n",
       " ('morning', 0.02382924989243568),\n",
       " ('heart', 0.023166239796448333),\n",
       " ('early', 0.022697843461783763),\n",
       " ('nothing', 0.022673218903111563),\n",
       " ('letter', 0.021880620909336408),\n",
       " ('name', 0.021541223905628064),\n",
       " ('year', 0.021541223905628064),\n",
       " ('possible', 0.021065629005299007),\n",
       " ('perfect', 0.02064553605643059),\n",
       " ('open', 0.020240420348231564),\n",
       " ('wrong', 0.01584578411067737),\n",
       " ('work', 0.013166522389476106),\n",
       " ('natural', 0.010881323463169638),\n",
       " ('aunt', 0.01077761728736835),\n",
       " ('alone', 0.010641295334132623),\n",
       " ('true', 0.010091027963307053),\n",
       " ('anything', 0.009945421629053635),\n",
       " ('greater', 0.009860858418362694),\n",
       " ('full', 0.00810630879720349),\n",
       " ('world', 0.006995628973477643),\n",
       " ('family', 0.005091544157624388),\n",
       " ('lost', 0.00492842589128487),\n",
       " ('fancy', 0.0027445229699059985),\n",
       " ('glad', 0.0017616930842392952),\n",
       " ('half', 0.001724191495893432)]"
      ]
     },
     "execution_count": 24,
     "metadata": {},
     "output_type": "execute_result"
    }
   ],
   "source": [
    "# Compute the Eigenvector centrality  of adjnoun\n",
    "eigen_cen = nx.eigenvector_centrality(G)\n",
    "sorted(list(eigen_cen.items()),key=lambda x: x[1],reverse=True)"
   ]
  },
  {
   "cell_type": "markdown",
   "id": "floral-sentence",
   "metadata": {},
   "source": [
    "### Historical Plot for Eigenvector centrality "
   ]
  },
  {
   "cell_type": "code",
   "execution_count": 23,
   "id": "handy-smooth",
   "metadata": {},
   "outputs": [
    {
     "data": {
      "image/png": "[encoded data removed]",
      "text/plain": [
       "<Figure size 1440x720 with 1 Axes>"
      ]
     },
     "metadata": {
      "needs_background": "light"
     },
     "output_type": "display_data"
    },
    {
     "data": {
      "image/png": "[encoded data removed]",
      "text/plain": [
       "<Figure size 1440x720 with 1 Axes>"
      ]
     },
     "metadata": {
      "needs_background": "light"
     },
     "output_type": "display_data"
    }
   ],
   "source": [
    "# Compute the Eigenvector centrality of adjnoun\n",
    "eigen_cen = nx.eigenvector_centrality(G)\n",
    "# Plot a histogram of the Eigenvector centrality \n",
    "plt.figure()\n",
    "plt.hist(list(eigen_cen.values()))\n",
    "plt.show()\n",
    "\n",
    "# Plot a scatter plot of the  Eigenvector centrality \n",
    "plt.figure()\n",
    "plt.scatter(degrees, list(eigen_cen.values()))\n",
    "plt.show()"
   ]
  },
  {
   "cell_type": "markdown",
   "id": "certain-carry",
   "metadata": {},
   "source": [
    "## Analysis :\n",
    "\n",
    "**Compare your centrality measures across your categorical groups.**\n"
   ]
  },
  {
   "cell_type": "markdown",
   "id": "binding-maryland",
   "metadata": {},
   "source": [
    "The **degree of centrality's** the most top 5 important variables are :\n",
    "\n",
    "1- \"little\" : 0.44144144144144143\n",
    "\n",
    "2- \"old\" : 0.2972972972972973\n",
    "\n",
    "3- \"other\" : 0.25225225225225223\n",
    "\n",
    "4- \"good\" : 0.25225225225225223\n",
    "\n",
    "5- \"same\" : 0.1891891891891892\n",
    "\n",
    "The **eigenvector centrality's** the most top 5 important variables are :\n",
    " \n",
    "1- \"little\" : 0.4009759281963071\n",
    "\n",
    "2- \"old\" :  0.2832727130880712\n",
    "\n",
    "3- \"good\" : 0.24214273052290808\n",
    "\n",
    "4- \"other\" : 0.21990290846751914\n",
    "\n",
    "5- \"same\" : 0.18840019160686636"
   ]
  },
  {
   "cell_type": "markdown",
   "id": "engaged-special",
   "metadata": {},
   "source": [
    "## Graph of the words\n",
    "\n",
    "Here I am using the \"pyvis\" package that documentation can be found [here](https://pyvis.readthedocs.io/en/latest/).The \"pyvis\" package is the interactive network visualizations.\n"
   ]
  },
  {
   "cell_type": "code",
   "execution_count": 27,
   "id": "copyrighted-creek",
   "metadata": {
    "scrolled": false
   },
   "outputs": [
    {
     "data": {
      "text/html": [
       "\n",
       "        <iframe\n",
       "            width=\"100%\"\n",
       "            height=\"600px\"\n",
       "            src=\"project_1_graph.html\"\n",
       "            frameborder=\"0\"\n",
       "            allowfullscreen\n",
       "        ></iframe>\n",
       "        "
      ],
      "text/plain": [
       "<IPython.lib.display.IFrame at 0x1032cb350>"
      ]
     },
     "execution_count": 27,
     "metadata": {},
     "output_type": "execute_result"
    }
   ],
   "source": [
    "from pyvis import network as network\n",
    "n = network.Network(height = \"600px\", width = \"100%\", notebook = True)\n",
    "nxg = nx.Graph(G)\n",
    "n.from_nx(nxg)\n",
    "n.show(\"project_1_graph.html\")"
   ]
  }
 ],
 "metadata": {
  "kernelspec": {
   "display_name": "Python 3",
   "language": "python",
   "name": "python3"
  },
  "language_info": {
   "codemirror_mode": {
    "name": "ipython",
    "version": 3
   },
   "file_extension": ".py",
   "mimetype": "text/x-python",
   "name": "python",
   "nbconvert_exporter": "python",
   "pygments_lexer": "ipython3",
   "version": "3.7.9"
  }
 },
 "nbformat": 4,
 "nbformat_minor": 5
}
